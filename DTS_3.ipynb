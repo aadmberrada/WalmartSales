{
  "nbformat": 4,
  "nbformat_minor": 0,
  "metadata": {
    "colab": {
      "name": "DTS_3.ipynb",
      "provenance": [],
      "collapsed_sections": [
        "YTAd-UMP6o57",
        "JiGbl3wK7Vnq",
        "139gC_gX6uFb",
        "vauj-u5fNcZC",
        "yWdBRIlaS4HK",
        "xVsj1pfbo_0H",
        "GEBE82aG91vU",
        "SXbIfU2JEIyb",
        "ErXv_uZqA-ek",
        "ZpOZ_VvaBUbF",
        "vk9uitXJHGoN",
        "S5sKQ4rt8DpN",
        "Cuvsj04HHQmv",
        "oOrQFcU-8M_Z"
      ],
      "mount_file_id": "1o9iSX4Qn-wZX7bGDuNypYVFQ6HelTsYU",
      "authorship_tag": "ABX9TyOpGOToV/jC07bof6gVDCux",
      "include_colab_link": true
    },
    "kernelspec": {
      "name": "python3",
      "display_name": "Python 3"
    },
    "language_info": {
      "name": "python"
    }
  },
  "cells": [
    {
      "cell_type": "markdown",
      "metadata": {
        "id": "view-in-github",
        "colab_type": "text"
      },
      "source": [
        "<a href=\"https://colab.research.google.com/github/aadmberrada/WalmartSales/blob/main/DTS_3.ipynb\" target=\"_parent\"><img src=\"https://colab.research.google.com/assets/colab-badge.svg\" alt=\"Open In Colab\"/></a>"
      ]
    },
    {
      "cell_type": "markdown",
      "source": [
        "# 0 - Import"
      ],
      "metadata": {
        "id": "YTAd-UMP6o57"
      }
    },
    {
      "cell_type": "code",
      "execution_count": 1,
      "metadata": {
        "id": "zG1WFx6Y0UY0"
      },
      "outputs": [],
      "source": [
        "import warnings\n",
        "warnings.filterwarnings('ignore')\n",
        "import pandas as pd\n",
        "pd.set_option('display.max_rows', 100)\n",
        "import seaborn as sns \n",
        "import matplotlib.pyplot as plt\n",
        "import numpy as np"
      ]
    },
    {
      "cell_type": "code",
      "source": [
        "PATH = \"/content/drive/MyDrive/DTS/walmart-recruiting-store-sales-forecasting\"\n",
        "\n",
        "train = pd.read_csv(PATH+ \"/train.csv\")\n",
        "features = pd.read_csv(PATH+ \"/features.csv\")\n",
        "stores = pd.read_csv(PATH+ \"/stores.csv\")\n",
        "ss = pd.read_csv(PATH+ \"/sampleSubmission.csv\")"
      ],
      "metadata": {
        "id": "p-Cs4RPO0bMg"
      },
      "execution_count": 2,
      "outputs": []
    },
    {
      "cell_type": "markdown",
      "source": [
        "# 1 - Présentation des jeux de données"
      ],
      "metadata": {
        "id": "JiGbl3wK7Vnq"
      }
    },
    {
      "cell_type": "code",
      "source": [
        "train = train.drop(\"IsHoliday\", axis = 1)\n",
        "train.head()"
      ],
      "metadata": {
        "colab": {
          "base_uri": "https://localhost:8080/",
          "height": 0
        },
        "id": "06aX7hfq0bKQ",
        "outputId": "5a0a3492-3e1a-4344-8fa3-06ce612f59ce"
      },
      "execution_count": 3,
      "outputs": [
        {
          "output_type": "execute_result",
          "data": {
            "text/plain": [
              "   Store  Dept        Date  Weekly_Sales\n",
              "0      1     1  2010-02-05      24924.50\n",
              "1      1     1  2010-02-12      46039.49\n",
              "2      1     1  2010-02-19      41595.55\n",
              "3      1     1  2010-02-26      19403.54\n",
              "4      1     1  2010-03-05      21827.90"
            ],
            "text/html": [
              "\n",
              "  <div id=\"df-35b17cf6-17b1-486c-867b-b36138dac3c4\">\n",
              "    <div class=\"colab-df-container\">\n",
              "      <div>\n",
              "<style scoped>\n",
              "    .dataframe tbody tr th:only-of-type {\n",
              "        vertical-align: middle;\n",
              "    }\n",
              "\n",
              "    .dataframe tbody tr th {\n",
              "        vertical-align: top;\n",
              "    }\n",
              "\n",
              "    .dataframe thead th {\n",
              "        text-align: right;\n",
              "    }\n",
              "</style>\n",
              "<table border=\"1\" class=\"dataframe\">\n",
              "  <thead>\n",
              "    <tr style=\"text-align: right;\">\n",
              "      <th></th>\n",
              "      <th>Store</th>\n",
              "      <th>Dept</th>\n",
              "      <th>Date</th>\n",
              "      <th>Weekly_Sales</th>\n",
              "    </tr>\n",
              "  </thead>\n",
              "  <tbody>\n",
              "    <tr>\n",
              "      <th>0</th>\n",
              "      <td>1</td>\n",
              "      <td>1</td>\n",
              "      <td>2010-02-05</td>\n",
              "      <td>24924.50</td>\n",
              "    </tr>\n",
              "    <tr>\n",
              "      <th>1</th>\n",
              "      <td>1</td>\n",
              "      <td>1</td>\n",
              "      <td>2010-02-12</td>\n",
              "      <td>46039.49</td>\n",
              "    </tr>\n",
              "    <tr>\n",
              "      <th>2</th>\n",
              "      <td>1</td>\n",
              "      <td>1</td>\n",
              "      <td>2010-02-19</td>\n",
              "      <td>41595.55</td>\n",
              "    </tr>\n",
              "    <tr>\n",
              "      <th>3</th>\n",
              "      <td>1</td>\n",
              "      <td>1</td>\n",
              "      <td>2010-02-26</td>\n",
              "      <td>19403.54</td>\n",
              "    </tr>\n",
              "    <tr>\n",
              "      <th>4</th>\n",
              "      <td>1</td>\n",
              "      <td>1</td>\n",
              "      <td>2010-03-05</td>\n",
              "      <td>21827.90</td>\n",
              "    </tr>\n",
              "  </tbody>\n",
              "</table>\n",
              "</div>\n",
              "      <button class=\"colab-df-convert\" onclick=\"convertToInteractive('df-35b17cf6-17b1-486c-867b-b36138dac3c4')\"\n",
              "              title=\"Convert this dataframe to an interactive table.\"\n",
              "              style=\"display:none;\">\n",
              "        \n",
              "  <svg xmlns=\"http://www.w3.org/2000/svg\" height=\"24px\"viewBox=\"0 0 24 24\"\n",
              "       width=\"24px\">\n",
              "    <path d=\"M0 0h24v24H0V0z\" fill=\"none\"/>\n",
              "    <path d=\"M18.56 5.44l.94 2.06.94-2.06 2.06-.94-2.06-.94-.94-2.06-.94 2.06-2.06.94zm-11 1L8.5 8.5l.94-2.06 2.06-.94-2.06-.94L8.5 2.5l-.94 2.06-2.06.94zm10 10l.94 2.06.94-2.06 2.06-.94-2.06-.94-.94-2.06-.94 2.06-2.06.94z\"/><path d=\"M17.41 7.96l-1.37-1.37c-.4-.4-.92-.59-1.43-.59-.52 0-1.04.2-1.43.59L10.3 9.45l-7.72 7.72c-.78.78-.78 2.05 0 2.83L4 21.41c.39.39.9.59 1.41.59.51 0 1.02-.2 1.41-.59l7.78-7.78 2.81-2.81c.8-.78.8-2.07 0-2.86zM5.41 20L4 18.59l7.72-7.72 1.47 1.35L5.41 20z\"/>\n",
              "  </svg>\n",
              "      </button>\n",
              "      \n",
              "  <style>\n",
              "    .colab-df-container {\n",
              "      display:flex;\n",
              "      flex-wrap:wrap;\n",
              "      gap: 12px;\n",
              "    }\n",
              "\n",
              "    .colab-df-convert {\n",
              "      background-color: #E8F0FE;\n",
              "      border: none;\n",
              "      border-radius: 50%;\n",
              "      cursor: pointer;\n",
              "      display: none;\n",
              "      fill: #1967D2;\n",
              "      height: 32px;\n",
              "      padding: 0 0 0 0;\n",
              "      width: 32px;\n",
              "    }\n",
              "\n",
              "    .colab-df-convert:hover {\n",
              "      background-color: #E2EBFA;\n",
              "      box-shadow: 0px 1px 2px rgba(60, 64, 67, 0.3), 0px 1px 3px 1px rgba(60, 64, 67, 0.15);\n",
              "      fill: #174EA6;\n",
              "    }\n",
              "\n",
              "    [theme=dark] .colab-df-convert {\n",
              "      background-color: #3B4455;\n",
              "      fill: #D2E3FC;\n",
              "    }\n",
              "\n",
              "    [theme=dark] .colab-df-convert:hover {\n",
              "      background-color: #434B5C;\n",
              "      box-shadow: 0px 1px 3px 1px rgba(0, 0, 0, 0.15);\n",
              "      filter: drop-shadow(0px 1px 2px rgba(0, 0, 0, 0.3));\n",
              "      fill: #FFFFFF;\n",
              "    }\n",
              "  </style>\n",
              "\n",
              "      <script>\n",
              "        const buttonEl =\n",
              "          document.querySelector('#df-35b17cf6-17b1-486c-867b-b36138dac3c4 button.colab-df-convert');\n",
              "        buttonEl.style.display =\n",
              "          google.colab.kernel.accessAllowed ? 'block' : 'none';\n",
              "\n",
              "        async function convertToInteractive(key) {\n",
              "          const element = document.querySelector('#df-35b17cf6-17b1-486c-867b-b36138dac3c4');\n",
              "          const dataTable =\n",
              "            await google.colab.kernel.invokeFunction('convertToInteractive',\n",
              "                                                     [key], {});\n",
              "          if (!dataTable) return;\n",
              "\n",
              "          const docLinkHtml = 'Like what you see? Visit the ' +\n",
              "            '<a target=\"_blank\" href=https://colab.research.google.com/notebooks/data_table.ipynb>data table notebook</a>'\n",
              "            + ' to learn more about interactive tables.';\n",
              "          element.innerHTML = '';\n",
              "          dataTable['output_type'] = 'display_data';\n",
              "          await google.colab.output.renderOutput(dataTable, element);\n",
              "          const docLink = document.createElement('div');\n",
              "          docLink.innerHTML = docLinkHtml;\n",
              "          element.appendChild(docLink);\n",
              "        }\n",
              "      </script>\n",
              "    </div>\n",
              "  </div>\n",
              "  "
            ]
          },
          "metadata": {},
          "execution_count": 3
        }
      ]
    },
    {
      "cell_type": "code",
      "source": [
        "stores.head()"
      ],
      "metadata": {
        "colab": {
          "base_uri": "https://localhost:8080/",
          "height": 0
        },
        "id": "qEIId_U_0bFN",
        "outputId": "dfa5d62e-e4b3-4145-d3a9-b8d706d170d9"
      },
      "execution_count": 4,
      "outputs": [
        {
          "output_type": "execute_result",
          "data": {
            "text/plain": [
              "   Store Type    Size\n",
              "0      1    A  151315\n",
              "1      2    A  202307\n",
              "2      3    B   37392\n",
              "3      4    A  205863\n",
              "4      5    B   34875"
            ],
            "text/html": [
              "\n",
              "  <div id=\"df-48c1388c-e78c-4e58-a6b3-267c7baa8525\">\n",
              "    <div class=\"colab-df-container\">\n",
              "      <div>\n",
              "<style scoped>\n",
              "    .dataframe tbody tr th:only-of-type {\n",
              "        vertical-align: middle;\n",
              "    }\n",
              "\n",
              "    .dataframe tbody tr th {\n",
              "        vertical-align: top;\n",
              "    }\n",
              "\n",
              "    .dataframe thead th {\n",
              "        text-align: right;\n",
              "    }\n",
              "</style>\n",
              "<table border=\"1\" class=\"dataframe\">\n",
              "  <thead>\n",
              "    <tr style=\"text-align: right;\">\n",
              "      <th></th>\n",
              "      <th>Store</th>\n",
              "      <th>Type</th>\n",
              "      <th>Size</th>\n",
              "    </tr>\n",
              "  </thead>\n",
              "  <tbody>\n",
              "    <tr>\n",
              "      <th>0</th>\n",
              "      <td>1</td>\n",
              "      <td>A</td>\n",
              "      <td>151315</td>\n",
              "    </tr>\n",
              "    <tr>\n",
              "      <th>1</th>\n",
              "      <td>2</td>\n",
              "      <td>A</td>\n",
              "      <td>202307</td>\n",
              "    </tr>\n",
              "    <tr>\n",
              "      <th>2</th>\n",
              "      <td>3</td>\n",
              "      <td>B</td>\n",
              "      <td>37392</td>\n",
              "    </tr>\n",
              "    <tr>\n",
              "      <th>3</th>\n",
              "      <td>4</td>\n",
              "      <td>A</td>\n",
              "      <td>205863</td>\n",
              "    </tr>\n",
              "    <tr>\n",
              "      <th>4</th>\n",
              "      <td>5</td>\n",
              "      <td>B</td>\n",
              "      <td>34875</td>\n",
              "    </tr>\n",
              "  </tbody>\n",
              "</table>\n",
              "</div>\n",
              "      <button class=\"colab-df-convert\" onclick=\"convertToInteractive('df-48c1388c-e78c-4e58-a6b3-267c7baa8525')\"\n",
              "              title=\"Convert this dataframe to an interactive table.\"\n",
              "              style=\"display:none;\">\n",
              "        \n",
              "  <svg xmlns=\"http://www.w3.org/2000/svg\" height=\"24px\"viewBox=\"0 0 24 24\"\n",
              "       width=\"24px\">\n",
              "    <path d=\"M0 0h24v24H0V0z\" fill=\"none\"/>\n",
              "    <path d=\"M18.56 5.44l.94 2.06.94-2.06 2.06-.94-2.06-.94-.94-2.06-.94 2.06-2.06.94zm-11 1L8.5 8.5l.94-2.06 2.06-.94-2.06-.94L8.5 2.5l-.94 2.06-2.06.94zm10 10l.94 2.06.94-2.06 2.06-.94-2.06-.94-.94-2.06-.94 2.06-2.06.94z\"/><path d=\"M17.41 7.96l-1.37-1.37c-.4-.4-.92-.59-1.43-.59-.52 0-1.04.2-1.43.59L10.3 9.45l-7.72 7.72c-.78.78-.78 2.05 0 2.83L4 21.41c.39.39.9.59 1.41.59.51 0 1.02-.2 1.41-.59l7.78-7.78 2.81-2.81c.8-.78.8-2.07 0-2.86zM5.41 20L4 18.59l7.72-7.72 1.47 1.35L5.41 20z\"/>\n",
              "  </svg>\n",
              "      </button>\n",
              "      \n",
              "  <style>\n",
              "    .colab-df-container {\n",
              "      display:flex;\n",
              "      flex-wrap:wrap;\n",
              "      gap: 12px;\n",
              "    }\n",
              "\n",
              "    .colab-df-convert {\n",
              "      background-color: #E8F0FE;\n",
              "      border: none;\n",
              "      border-radius: 50%;\n",
              "      cursor: pointer;\n",
              "      display: none;\n",
              "      fill: #1967D2;\n",
              "      height: 32px;\n",
              "      padding: 0 0 0 0;\n",
              "      width: 32px;\n",
              "    }\n",
              "\n",
              "    .colab-df-convert:hover {\n",
              "      background-color: #E2EBFA;\n",
              "      box-shadow: 0px 1px 2px rgba(60, 64, 67, 0.3), 0px 1px 3px 1px rgba(60, 64, 67, 0.15);\n",
              "      fill: #174EA6;\n",
              "    }\n",
              "\n",
              "    [theme=dark] .colab-df-convert {\n",
              "      background-color: #3B4455;\n",
              "      fill: #D2E3FC;\n",
              "    }\n",
              "\n",
              "    [theme=dark] .colab-df-convert:hover {\n",
              "      background-color: #434B5C;\n",
              "      box-shadow: 0px 1px 3px 1px rgba(0, 0, 0, 0.15);\n",
              "      filter: drop-shadow(0px 1px 2px rgba(0, 0, 0, 0.3));\n",
              "      fill: #FFFFFF;\n",
              "    }\n",
              "  </style>\n",
              "\n",
              "      <script>\n",
              "        const buttonEl =\n",
              "          document.querySelector('#df-48c1388c-e78c-4e58-a6b3-267c7baa8525 button.colab-df-convert');\n",
              "        buttonEl.style.display =\n",
              "          google.colab.kernel.accessAllowed ? 'block' : 'none';\n",
              "\n",
              "        async function convertToInteractive(key) {\n",
              "          const element = document.querySelector('#df-48c1388c-e78c-4e58-a6b3-267c7baa8525');\n",
              "          const dataTable =\n",
              "            await google.colab.kernel.invokeFunction('convertToInteractive',\n",
              "                                                     [key], {});\n",
              "          if (!dataTable) return;\n",
              "\n",
              "          const docLinkHtml = 'Like what you see? Visit the ' +\n",
              "            '<a target=\"_blank\" href=https://colab.research.google.com/notebooks/data_table.ipynb>data table notebook</a>'\n",
              "            + ' to learn more about interactive tables.';\n",
              "          element.innerHTML = '';\n",
              "          dataTable['output_type'] = 'display_data';\n",
              "          await google.colab.output.renderOutput(dataTable, element);\n",
              "          const docLink = document.createElement('div');\n",
              "          docLink.innerHTML = docLinkHtml;\n",
              "          element.appendChild(docLink);\n",
              "        }\n",
              "      </script>\n",
              "    </div>\n",
              "  </div>\n",
              "  "
            ]
          },
          "metadata": {},
          "execution_count": 4
        }
      ]
    },
    {
      "cell_type": "code",
      "source": [
        "features.head()"
      ],
      "metadata": {
        "colab": {
          "base_uri": "https://localhost:8080/",
          "height": 0
        },
        "id": "47wYZhTy0bDI",
        "outputId": "e092c712-252a-4b6f-d1d2-b38208f83563"
      },
      "execution_count": 5,
      "outputs": [
        {
          "output_type": "execute_result",
          "data": {
            "text/plain": [
              "   Store        Date  Temperature  Fuel_Price  MarkDown1  MarkDown2  \\\n",
              "0      1  2010-02-05        42.31       2.572        NaN        NaN   \n",
              "1      1  2010-02-12        38.51       2.548        NaN        NaN   \n",
              "2      1  2010-02-19        39.93       2.514        NaN        NaN   \n",
              "3      1  2010-02-26        46.63       2.561        NaN        NaN   \n",
              "4      1  2010-03-05        46.50       2.625        NaN        NaN   \n",
              "\n",
              "   MarkDown3  MarkDown4  MarkDown5         CPI  Unemployment  IsHoliday  \n",
              "0        NaN        NaN        NaN  211.096358         8.106      False  \n",
              "1        NaN        NaN        NaN  211.242170         8.106       True  \n",
              "2        NaN        NaN        NaN  211.289143         8.106      False  \n",
              "3        NaN        NaN        NaN  211.319643         8.106      False  \n",
              "4        NaN        NaN        NaN  211.350143         8.106      False  "
            ],
            "text/html": [
              "\n",
              "  <div id=\"df-c464266d-55d6-4454-9e61-f6dc4c88e73b\">\n",
              "    <div class=\"colab-df-container\">\n",
              "      <div>\n",
              "<style scoped>\n",
              "    .dataframe tbody tr th:only-of-type {\n",
              "        vertical-align: middle;\n",
              "    }\n",
              "\n",
              "    .dataframe tbody tr th {\n",
              "        vertical-align: top;\n",
              "    }\n",
              "\n",
              "    .dataframe thead th {\n",
              "        text-align: right;\n",
              "    }\n",
              "</style>\n",
              "<table border=\"1\" class=\"dataframe\">\n",
              "  <thead>\n",
              "    <tr style=\"text-align: right;\">\n",
              "      <th></th>\n",
              "      <th>Store</th>\n",
              "      <th>Date</th>\n",
              "      <th>Temperature</th>\n",
              "      <th>Fuel_Price</th>\n",
              "      <th>MarkDown1</th>\n",
              "      <th>MarkDown2</th>\n",
              "      <th>MarkDown3</th>\n",
              "      <th>MarkDown4</th>\n",
              "      <th>MarkDown5</th>\n",
              "      <th>CPI</th>\n",
              "      <th>Unemployment</th>\n",
              "      <th>IsHoliday</th>\n",
              "    </tr>\n",
              "  </thead>\n",
              "  <tbody>\n",
              "    <tr>\n",
              "      <th>0</th>\n",
              "      <td>1</td>\n",
              "      <td>2010-02-05</td>\n",
              "      <td>42.31</td>\n",
              "      <td>2.572</td>\n",
              "      <td>NaN</td>\n",
              "      <td>NaN</td>\n",
              "      <td>NaN</td>\n",
              "      <td>NaN</td>\n",
              "      <td>NaN</td>\n",
              "      <td>211.096358</td>\n",
              "      <td>8.106</td>\n",
              "      <td>False</td>\n",
              "    </tr>\n",
              "    <tr>\n",
              "      <th>1</th>\n",
              "      <td>1</td>\n",
              "      <td>2010-02-12</td>\n",
              "      <td>38.51</td>\n",
              "      <td>2.548</td>\n",
              "      <td>NaN</td>\n",
              "      <td>NaN</td>\n",
              "      <td>NaN</td>\n",
              "      <td>NaN</td>\n",
              "      <td>NaN</td>\n",
              "      <td>211.242170</td>\n",
              "      <td>8.106</td>\n",
              "      <td>True</td>\n",
              "    </tr>\n",
              "    <tr>\n",
              "      <th>2</th>\n",
              "      <td>1</td>\n",
              "      <td>2010-02-19</td>\n",
              "      <td>39.93</td>\n",
              "      <td>2.514</td>\n",
              "      <td>NaN</td>\n",
              "      <td>NaN</td>\n",
              "      <td>NaN</td>\n",
              "      <td>NaN</td>\n",
              "      <td>NaN</td>\n",
              "      <td>211.289143</td>\n",
              "      <td>8.106</td>\n",
              "      <td>False</td>\n",
              "    </tr>\n",
              "    <tr>\n",
              "      <th>3</th>\n",
              "      <td>1</td>\n",
              "      <td>2010-02-26</td>\n",
              "      <td>46.63</td>\n",
              "      <td>2.561</td>\n",
              "      <td>NaN</td>\n",
              "      <td>NaN</td>\n",
              "      <td>NaN</td>\n",
              "      <td>NaN</td>\n",
              "      <td>NaN</td>\n",
              "      <td>211.319643</td>\n",
              "      <td>8.106</td>\n",
              "      <td>False</td>\n",
              "    </tr>\n",
              "    <tr>\n",
              "      <th>4</th>\n",
              "      <td>1</td>\n",
              "      <td>2010-03-05</td>\n",
              "      <td>46.50</td>\n",
              "      <td>2.625</td>\n",
              "      <td>NaN</td>\n",
              "      <td>NaN</td>\n",
              "      <td>NaN</td>\n",
              "      <td>NaN</td>\n",
              "      <td>NaN</td>\n",
              "      <td>211.350143</td>\n",
              "      <td>8.106</td>\n",
              "      <td>False</td>\n",
              "    </tr>\n",
              "  </tbody>\n",
              "</table>\n",
              "</div>\n",
              "      <button class=\"colab-df-convert\" onclick=\"convertToInteractive('df-c464266d-55d6-4454-9e61-f6dc4c88e73b')\"\n",
              "              title=\"Convert this dataframe to an interactive table.\"\n",
              "              style=\"display:none;\">\n",
              "        \n",
              "  <svg xmlns=\"http://www.w3.org/2000/svg\" height=\"24px\"viewBox=\"0 0 24 24\"\n",
              "       width=\"24px\">\n",
              "    <path d=\"M0 0h24v24H0V0z\" fill=\"none\"/>\n",
              "    <path d=\"M18.56 5.44l.94 2.06.94-2.06 2.06-.94-2.06-.94-.94-2.06-.94 2.06-2.06.94zm-11 1L8.5 8.5l.94-2.06 2.06-.94-2.06-.94L8.5 2.5l-.94 2.06-2.06.94zm10 10l.94 2.06.94-2.06 2.06-.94-2.06-.94-.94-2.06-.94 2.06-2.06.94z\"/><path d=\"M17.41 7.96l-1.37-1.37c-.4-.4-.92-.59-1.43-.59-.52 0-1.04.2-1.43.59L10.3 9.45l-7.72 7.72c-.78.78-.78 2.05 0 2.83L4 21.41c.39.39.9.59 1.41.59.51 0 1.02-.2 1.41-.59l7.78-7.78 2.81-2.81c.8-.78.8-2.07 0-2.86zM5.41 20L4 18.59l7.72-7.72 1.47 1.35L5.41 20z\"/>\n",
              "  </svg>\n",
              "      </button>\n",
              "      \n",
              "  <style>\n",
              "    .colab-df-container {\n",
              "      display:flex;\n",
              "      flex-wrap:wrap;\n",
              "      gap: 12px;\n",
              "    }\n",
              "\n",
              "    .colab-df-convert {\n",
              "      background-color: #E8F0FE;\n",
              "      border: none;\n",
              "      border-radius: 50%;\n",
              "      cursor: pointer;\n",
              "      display: none;\n",
              "      fill: #1967D2;\n",
              "      height: 32px;\n",
              "      padding: 0 0 0 0;\n",
              "      width: 32px;\n",
              "    }\n",
              "\n",
              "    .colab-df-convert:hover {\n",
              "      background-color: #E2EBFA;\n",
              "      box-shadow: 0px 1px 2px rgba(60, 64, 67, 0.3), 0px 1px 3px 1px rgba(60, 64, 67, 0.15);\n",
              "      fill: #174EA6;\n",
              "    }\n",
              "\n",
              "    [theme=dark] .colab-df-convert {\n",
              "      background-color: #3B4455;\n",
              "      fill: #D2E3FC;\n",
              "    }\n",
              "\n",
              "    [theme=dark] .colab-df-convert:hover {\n",
              "      background-color: #434B5C;\n",
              "      box-shadow: 0px 1px 3px 1px rgba(0, 0, 0, 0.15);\n",
              "      filter: drop-shadow(0px 1px 2px rgba(0, 0, 0, 0.3));\n",
              "      fill: #FFFFFF;\n",
              "    }\n",
              "  </style>\n",
              "\n",
              "      <script>\n",
              "        const buttonEl =\n",
              "          document.querySelector('#df-c464266d-55d6-4454-9e61-f6dc4c88e73b button.colab-df-convert');\n",
              "        buttonEl.style.display =\n",
              "          google.colab.kernel.accessAllowed ? 'block' : 'none';\n",
              "\n",
              "        async function convertToInteractive(key) {\n",
              "          const element = document.querySelector('#df-c464266d-55d6-4454-9e61-f6dc4c88e73b');\n",
              "          const dataTable =\n",
              "            await google.colab.kernel.invokeFunction('convertToInteractive',\n",
              "                                                     [key], {});\n",
              "          if (!dataTable) return;\n",
              "\n",
              "          const docLinkHtml = 'Like what you see? Visit the ' +\n",
              "            '<a target=\"_blank\" href=https://colab.research.google.com/notebooks/data_table.ipynb>data table notebook</a>'\n",
              "            + ' to learn more about interactive tables.';\n",
              "          element.innerHTML = '';\n",
              "          dataTable['output_type'] = 'display_data';\n",
              "          await google.colab.output.renderOutput(dataTable, element);\n",
              "          const docLink = document.createElement('div');\n",
              "          docLink.innerHTML = docLinkHtml;\n",
              "          element.appendChild(docLink);\n",
              "        }\n",
              "      </script>\n",
              "    </div>\n",
              "  </div>\n",
              "  "
            ]
          },
          "metadata": {},
          "execution_count": 5
        }
      ]
    },
    {
      "cell_type": "code",
      "source": [
        "df = pd.merge(left = train, right = features ,on = ['Date', \"Store\"], how = 'inner')\n",
        "df.head()"
      ],
      "metadata": {
        "colab": {
          "base_uri": "https://localhost:8080/",
          "height": 0
        },
        "id": "KIzUtSX40bBU",
        "outputId": "136e2c51-e9ec-424c-9f78-acd9474a52f3"
      },
      "execution_count": 6,
      "outputs": [
        {
          "output_type": "execute_result",
          "data": {
            "text/plain": [
              "   Store  Dept        Date  Weekly_Sales  Temperature  Fuel_Price  MarkDown1  \\\n",
              "0      1     1  2010-02-05      24924.50        42.31       2.572        NaN   \n",
              "1      1     2  2010-02-05      50605.27        42.31       2.572        NaN   \n",
              "2      1     3  2010-02-05      13740.12        42.31       2.572        NaN   \n",
              "3      1     4  2010-02-05      39954.04        42.31       2.572        NaN   \n",
              "4      1     5  2010-02-05      32229.38        42.31       2.572        NaN   \n",
              "\n",
              "   MarkDown2  MarkDown3  MarkDown4  MarkDown5         CPI  Unemployment  \\\n",
              "0        NaN        NaN        NaN        NaN  211.096358         8.106   \n",
              "1        NaN        NaN        NaN        NaN  211.096358         8.106   \n",
              "2        NaN        NaN        NaN        NaN  211.096358         8.106   \n",
              "3        NaN        NaN        NaN        NaN  211.096358         8.106   \n",
              "4        NaN        NaN        NaN        NaN  211.096358         8.106   \n",
              "\n",
              "   IsHoliday  \n",
              "0      False  \n",
              "1      False  \n",
              "2      False  \n",
              "3      False  \n",
              "4      False  "
            ],
            "text/html": [
              "\n",
              "  <div id=\"df-f78db0a1-ebb9-43e3-89cd-3342f78a8871\">\n",
              "    <div class=\"colab-df-container\">\n",
              "      <div>\n",
              "<style scoped>\n",
              "    .dataframe tbody tr th:only-of-type {\n",
              "        vertical-align: middle;\n",
              "    }\n",
              "\n",
              "    .dataframe tbody tr th {\n",
              "        vertical-align: top;\n",
              "    }\n",
              "\n",
              "    .dataframe thead th {\n",
              "        text-align: right;\n",
              "    }\n",
              "</style>\n",
              "<table border=\"1\" class=\"dataframe\">\n",
              "  <thead>\n",
              "    <tr style=\"text-align: right;\">\n",
              "      <th></th>\n",
              "      <th>Store</th>\n",
              "      <th>Dept</th>\n",
              "      <th>Date</th>\n",
              "      <th>Weekly_Sales</th>\n",
              "      <th>Temperature</th>\n",
              "      <th>Fuel_Price</th>\n",
              "      <th>MarkDown1</th>\n",
              "      <th>MarkDown2</th>\n",
              "      <th>MarkDown3</th>\n",
              "      <th>MarkDown4</th>\n",
              "      <th>MarkDown5</th>\n",
              "      <th>CPI</th>\n",
              "      <th>Unemployment</th>\n",
              "      <th>IsHoliday</th>\n",
              "    </tr>\n",
              "  </thead>\n",
              "  <tbody>\n",
              "    <tr>\n",
              "      <th>0</th>\n",
              "      <td>1</td>\n",
              "      <td>1</td>\n",
              "      <td>2010-02-05</td>\n",
              "      <td>24924.50</td>\n",
              "      <td>42.31</td>\n",
              "      <td>2.572</td>\n",
              "      <td>NaN</td>\n",
              "      <td>NaN</td>\n",
              "      <td>NaN</td>\n",
              "      <td>NaN</td>\n",
              "      <td>NaN</td>\n",
              "      <td>211.096358</td>\n",
              "      <td>8.106</td>\n",
              "      <td>False</td>\n",
              "    </tr>\n",
              "    <tr>\n",
              "      <th>1</th>\n",
              "      <td>1</td>\n",
              "      <td>2</td>\n",
              "      <td>2010-02-05</td>\n",
              "      <td>50605.27</td>\n",
              "      <td>42.31</td>\n",
              "      <td>2.572</td>\n",
              "      <td>NaN</td>\n",
              "      <td>NaN</td>\n",
              "      <td>NaN</td>\n",
              "      <td>NaN</td>\n",
              "      <td>NaN</td>\n",
              "      <td>211.096358</td>\n",
              "      <td>8.106</td>\n",
              "      <td>False</td>\n",
              "    </tr>\n",
              "    <tr>\n",
              "      <th>2</th>\n",
              "      <td>1</td>\n",
              "      <td>3</td>\n",
              "      <td>2010-02-05</td>\n",
              "      <td>13740.12</td>\n",
              "      <td>42.31</td>\n",
              "      <td>2.572</td>\n",
              "      <td>NaN</td>\n",
              "      <td>NaN</td>\n",
              "      <td>NaN</td>\n",
              "      <td>NaN</td>\n",
              "      <td>NaN</td>\n",
              "      <td>211.096358</td>\n",
              "      <td>8.106</td>\n",
              "      <td>False</td>\n",
              "    </tr>\n",
              "    <tr>\n",
              "      <th>3</th>\n",
              "      <td>1</td>\n",
              "      <td>4</td>\n",
              "      <td>2010-02-05</td>\n",
              "      <td>39954.04</td>\n",
              "      <td>42.31</td>\n",
              "      <td>2.572</td>\n",
              "      <td>NaN</td>\n",
              "      <td>NaN</td>\n",
              "      <td>NaN</td>\n",
              "      <td>NaN</td>\n",
              "      <td>NaN</td>\n",
              "      <td>211.096358</td>\n",
              "      <td>8.106</td>\n",
              "      <td>False</td>\n",
              "    </tr>\n",
              "    <tr>\n",
              "      <th>4</th>\n",
              "      <td>1</td>\n",
              "      <td>5</td>\n",
              "      <td>2010-02-05</td>\n",
              "      <td>32229.38</td>\n",
              "      <td>42.31</td>\n",
              "      <td>2.572</td>\n",
              "      <td>NaN</td>\n",
              "      <td>NaN</td>\n",
              "      <td>NaN</td>\n",
              "      <td>NaN</td>\n",
              "      <td>NaN</td>\n",
              "      <td>211.096358</td>\n",
              "      <td>8.106</td>\n",
              "      <td>False</td>\n",
              "    </tr>\n",
              "  </tbody>\n",
              "</table>\n",
              "</div>\n",
              "      <button class=\"colab-df-convert\" onclick=\"convertToInteractive('df-f78db0a1-ebb9-43e3-89cd-3342f78a8871')\"\n",
              "              title=\"Convert this dataframe to an interactive table.\"\n",
              "              style=\"display:none;\">\n",
              "        \n",
              "  <svg xmlns=\"http://www.w3.org/2000/svg\" height=\"24px\"viewBox=\"0 0 24 24\"\n",
              "       width=\"24px\">\n",
              "    <path d=\"M0 0h24v24H0V0z\" fill=\"none\"/>\n",
              "    <path d=\"M18.56 5.44l.94 2.06.94-2.06 2.06-.94-2.06-.94-.94-2.06-.94 2.06-2.06.94zm-11 1L8.5 8.5l.94-2.06 2.06-.94-2.06-.94L8.5 2.5l-.94 2.06-2.06.94zm10 10l.94 2.06.94-2.06 2.06-.94-2.06-.94-.94-2.06-.94 2.06-2.06.94z\"/><path d=\"M17.41 7.96l-1.37-1.37c-.4-.4-.92-.59-1.43-.59-.52 0-1.04.2-1.43.59L10.3 9.45l-7.72 7.72c-.78.78-.78 2.05 0 2.83L4 21.41c.39.39.9.59 1.41.59.51 0 1.02-.2 1.41-.59l7.78-7.78 2.81-2.81c.8-.78.8-2.07 0-2.86zM5.41 20L4 18.59l7.72-7.72 1.47 1.35L5.41 20z\"/>\n",
              "  </svg>\n",
              "      </button>\n",
              "      \n",
              "  <style>\n",
              "    .colab-df-container {\n",
              "      display:flex;\n",
              "      flex-wrap:wrap;\n",
              "      gap: 12px;\n",
              "    }\n",
              "\n",
              "    .colab-df-convert {\n",
              "      background-color: #E8F0FE;\n",
              "      border: none;\n",
              "      border-radius: 50%;\n",
              "      cursor: pointer;\n",
              "      display: none;\n",
              "      fill: #1967D2;\n",
              "      height: 32px;\n",
              "      padding: 0 0 0 0;\n",
              "      width: 32px;\n",
              "    }\n",
              "\n",
              "    .colab-df-convert:hover {\n",
              "      background-color: #E2EBFA;\n",
              "      box-shadow: 0px 1px 2px rgba(60, 64, 67, 0.3), 0px 1px 3px 1px rgba(60, 64, 67, 0.15);\n",
              "      fill: #174EA6;\n",
              "    }\n",
              "\n",
              "    [theme=dark] .colab-df-convert {\n",
              "      background-color: #3B4455;\n",
              "      fill: #D2E3FC;\n",
              "    }\n",
              "\n",
              "    [theme=dark] .colab-df-convert:hover {\n",
              "      background-color: #434B5C;\n",
              "      box-shadow: 0px 1px 3px 1px rgba(0, 0, 0, 0.15);\n",
              "      filter: drop-shadow(0px 1px 2px rgba(0, 0, 0, 0.3));\n",
              "      fill: #FFFFFF;\n",
              "    }\n",
              "  </style>\n",
              "\n",
              "      <script>\n",
              "        const buttonEl =\n",
              "          document.querySelector('#df-f78db0a1-ebb9-43e3-89cd-3342f78a8871 button.colab-df-convert');\n",
              "        buttonEl.style.display =\n",
              "          google.colab.kernel.accessAllowed ? 'block' : 'none';\n",
              "\n",
              "        async function convertToInteractive(key) {\n",
              "          const element = document.querySelector('#df-f78db0a1-ebb9-43e3-89cd-3342f78a8871');\n",
              "          const dataTable =\n",
              "            await google.colab.kernel.invokeFunction('convertToInteractive',\n",
              "                                                     [key], {});\n",
              "          if (!dataTable) return;\n",
              "\n",
              "          const docLinkHtml = 'Like what you see? Visit the ' +\n",
              "            '<a target=\"_blank\" href=https://colab.research.google.com/notebooks/data_table.ipynb>data table notebook</a>'\n",
              "            + ' to learn more about interactive tables.';\n",
              "          element.innerHTML = '';\n",
              "          dataTable['output_type'] = 'display_data';\n",
              "          await google.colab.output.renderOutput(dataTable, element);\n",
              "          const docLink = document.createElement('div');\n",
              "          docLink.innerHTML = docLinkHtml;\n",
              "          element.appendChild(docLink);\n",
              "        }\n",
              "      </script>\n",
              "    </div>\n",
              "  </div>\n",
              "  "
            ]
          },
          "metadata": {},
          "execution_count": 6
        }
      ]
    },
    {
      "cell_type": "code",
      "source": [
        "#df.to_csv(PATH + '/bdd_merged.csv')"
      ],
      "metadata": {
        "id": "ISKymbh7qx-A"
      },
      "execution_count": 7,
      "outputs": []
    },
    {
      "cell_type": "markdown",
      "source": [
        "# 3 - Exploration du jeu de données (Analyse descriptive, statistiques descriptives, visualisation)"
      ],
      "metadata": {
        "id": "tH4VWfzl7cFd"
      }
    },
    {
      "cell_type": "markdown",
      "source": [
        "Voir Dashboards"
      ],
      "metadata": {
        "id": "sYTG6HHSEYRC"
      }
    },
    {
      "cell_type": "markdown",
      "source": [
        "# 4 - Features Engineering"
      ],
      "metadata": {
        "id": "139gC_gX6uFb"
      }
    },
    {
      "cell_type": "markdown",
      "source": [
        "Création de plusieurs variables"
      ],
      "metadata": {
        "id": "FBZ6RM-x5e2S"
      }
    },
    {
      "cell_type": "code",
      "source": [
        "df[\"Date\"] = pd.to_datetime(df[\"Date\"], format=\"%Y-%m-%d\")\n",
        "df['year'] = df[\"Date\"].dt.year\n",
        "df['month'] = df[\"Date\"].dt.month\n",
        "df['day'] = df[\"Date\"].dt.day\n",
        "df['week'] = df[\"Date\"].dt.week"
      ],
      "metadata": {
        "id": "u-C1ywpz0a_O"
      },
      "execution_count": 8,
      "outputs": []
    },
    {
      "cell_type": "code",
      "source": [
        "# Création lags (days)\n",
        "# Lag \n",
        "for lag in list(range(4, 25, 4)):\n",
        "    df['Weekly_Sales_'+str(lag)] = df.groupby(\n",
        "        ['Store',\t'Dept'], \n",
        "        as_index = False)['Weekly_Sales'].shift(lag).astype(np.float64)\n",
        "#df = df.drop(\"Weekly_Sales_0\", axis = 1)\n",
        "df.head()"
      ],
      "metadata": {
        "colab": {
          "base_uri": "https://localhost:8080/",
          "height": 0
        },
        "id": "6MTOu0_T181N",
        "outputId": "9c5d27c7-4745-4847-9c19-6c1f5e660531"
      },
      "execution_count": 9,
      "outputs": [
        {
          "output_type": "execute_result",
          "data": {
            "text/plain": [
              "   Store  Dept       Date  Weekly_Sales  Temperature  Fuel_Price  MarkDown1  \\\n",
              "0      1     1 2010-02-05      24924.50        42.31       2.572        NaN   \n",
              "1      1     2 2010-02-05      50605.27        42.31       2.572        NaN   \n",
              "2      1     3 2010-02-05      13740.12        42.31       2.572        NaN   \n",
              "3      1     4 2010-02-05      39954.04        42.31       2.572        NaN   \n",
              "4      1     5 2010-02-05      32229.38        42.31       2.572        NaN   \n",
              "\n",
              "   MarkDown2  MarkDown3  MarkDown4  ...  year  month  day  week  \\\n",
              "0        NaN        NaN        NaN  ...  2010      2    5     5   \n",
              "1        NaN        NaN        NaN  ...  2010      2    5     5   \n",
              "2        NaN        NaN        NaN  ...  2010      2    5     5   \n",
              "3        NaN        NaN        NaN  ...  2010      2    5     5   \n",
              "4        NaN        NaN        NaN  ...  2010      2    5     5   \n",
              "\n",
              "   Weekly_Sales_4  Weekly_Sales_8  Weekly_Sales_12  Weekly_Sales_16  \\\n",
              "0             NaN             NaN              NaN              NaN   \n",
              "1             NaN             NaN              NaN              NaN   \n",
              "2             NaN             NaN              NaN              NaN   \n",
              "3             NaN             NaN              NaN              NaN   \n",
              "4             NaN             NaN              NaN              NaN   \n",
              "\n",
              "   Weekly_Sales_20  Weekly_Sales_24  \n",
              "0              NaN              NaN  \n",
              "1              NaN              NaN  \n",
              "2              NaN              NaN  \n",
              "3              NaN              NaN  \n",
              "4              NaN              NaN  \n",
              "\n",
              "[5 rows x 24 columns]"
            ],
            "text/html": [
              "\n",
              "  <div id=\"df-6da20e31-b9f6-458b-9350-2016ceee15f2\">\n",
              "    <div class=\"colab-df-container\">\n",
              "      <div>\n",
              "<style scoped>\n",
              "    .dataframe tbody tr th:only-of-type {\n",
              "        vertical-align: middle;\n",
              "    }\n",
              "\n",
              "    .dataframe tbody tr th {\n",
              "        vertical-align: top;\n",
              "    }\n",
              "\n",
              "    .dataframe thead th {\n",
              "        text-align: right;\n",
              "    }\n",
              "</style>\n",
              "<table border=\"1\" class=\"dataframe\">\n",
              "  <thead>\n",
              "    <tr style=\"text-align: right;\">\n",
              "      <th></th>\n",
              "      <th>Store</th>\n",
              "      <th>Dept</th>\n",
              "      <th>Date</th>\n",
              "      <th>Weekly_Sales</th>\n",
              "      <th>Temperature</th>\n",
              "      <th>Fuel_Price</th>\n",
              "      <th>MarkDown1</th>\n",
              "      <th>MarkDown2</th>\n",
              "      <th>MarkDown3</th>\n",
              "      <th>MarkDown4</th>\n",
              "      <th>...</th>\n",
              "      <th>year</th>\n",
              "      <th>month</th>\n",
              "      <th>day</th>\n",
              "      <th>week</th>\n",
              "      <th>Weekly_Sales_4</th>\n",
              "      <th>Weekly_Sales_8</th>\n",
              "      <th>Weekly_Sales_12</th>\n",
              "      <th>Weekly_Sales_16</th>\n",
              "      <th>Weekly_Sales_20</th>\n",
              "      <th>Weekly_Sales_24</th>\n",
              "    </tr>\n",
              "  </thead>\n",
              "  <tbody>\n",
              "    <tr>\n",
              "      <th>0</th>\n",
              "      <td>1</td>\n",
              "      <td>1</td>\n",
              "      <td>2010-02-05</td>\n",
              "      <td>24924.50</td>\n",
              "      <td>42.31</td>\n",
              "      <td>2.572</td>\n",
              "      <td>NaN</td>\n",
              "      <td>NaN</td>\n",
              "      <td>NaN</td>\n",
              "      <td>NaN</td>\n",
              "      <td>...</td>\n",
              "      <td>2010</td>\n",
              "      <td>2</td>\n",
              "      <td>5</td>\n",
              "      <td>5</td>\n",
              "      <td>NaN</td>\n",
              "      <td>NaN</td>\n",
              "      <td>NaN</td>\n",
              "      <td>NaN</td>\n",
              "      <td>NaN</td>\n",
              "      <td>NaN</td>\n",
              "    </tr>\n",
              "    <tr>\n",
              "      <th>1</th>\n",
              "      <td>1</td>\n",
              "      <td>2</td>\n",
              "      <td>2010-02-05</td>\n",
              "      <td>50605.27</td>\n",
              "      <td>42.31</td>\n",
              "      <td>2.572</td>\n",
              "      <td>NaN</td>\n",
              "      <td>NaN</td>\n",
              "      <td>NaN</td>\n",
              "      <td>NaN</td>\n",
              "      <td>...</td>\n",
              "      <td>2010</td>\n",
              "      <td>2</td>\n",
              "      <td>5</td>\n",
              "      <td>5</td>\n",
              "      <td>NaN</td>\n",
              "      <td>NaN</td>\n",
              "      <td>NaN</td>\n",
              "      <td>NaN</td>\n",
              "      <td>NaN</td>\n",
              "      <td>NaN</td>\n",
              "    </tr>\n",
              "    <tr>\n",
              "      <th>2</th>\n",
              "      <td>1</td>\n",
              "      <td>3</td>\n",
              "      <td>2010-02-05</td>\n",
              "      <td>13740.12</td>\n",
              "      <td>42.31</td>\n",
              "      <td>2.572</td>\n",
              "      <td>NaN</td>\n",
              "      <td>NaN</td>\n",
              "      <td>NaN</td>\n",
              "      <td>NaN</td>\n",
              "      <td>...</td>\n",
              "      <td>2010</td>\n",
              "      <td>2</td>\n",
              "      <td>5</td>\n",
              "      <td>5</td>\n",
              "      <td>NaN</td>\n",
              "      <td>NaN</td>\n",
              "      <td>NaN</td>\n",
              "      <td>NaN</td>\n",
              "      <td>NaN</td>\n",
              "      <td>NaN</td>\n",
              "    </tr>\n",
              "    <tr>\n",
              "      <th>3</th>\n",
              "      <td>1</td>\n",
              "      <td>4</td>\n",
              "      <td>2010-02-05</td>\n",
              "      <td>39954.04</td>\n",
              "      <td>42.31</td>\n",
              "      <td>2.572</td>\n",
              "      <td>NaN</td>\n",
              "      <td>NaN</td>\n",
              "      <td>NaN</td>\n",
              "      <td>NaN</td>\n",
              "      <td>...</td>\n",
              "      <td>2010</td>\n",
              "      <td>2</td>\n",
              "      <td>5</td>\n",
              "      <td>5</td>\n",
              "      <td>NaN</td>\n",
              "      <td>NaN</td>\n",
              "      <td>NaN</td>\n",
              "      <td>NaN</td>\n",
              "      <td>NaN</td>\n",
              "      <td>NaN</td>\n",
              "    </tr>\n",
              "    <tr>\n",
              "      <th>4</th>\n",
              "      <td>1</td>\n",
              "      <td>5</td>\n",
              "      <td>2010-02-05</td>\n",
              "      <td>32229.38</td>\n",
              "      <td>42.31</td>\n",
              "      <td>2.572</td>\n",
              "      <td>NaN</td>\n",
              "      <td>NaN</td>\n",
              "      <td>NaN</td>\n",
              "      <td>NaN</td>\n",
              "      <td>...</td>\n",
              "      <td>2010</td>\n",
              "      <td>2</td>\n",
              "      <td>5</td>\n",
              "      <td>5</td>\n",
              "      <td>NaN</td>\n",
              "      <td>NaN</td>\n",
              "      <td>NaN</td>\n",
              "      <td>NaN</td>\n",
              "      <td>NaN</td>\n",
              "      <td>NaN</td>\n",
              "    </tr>\n",
              "  </tbody>\n",
              "</table>\n",
              "<p>5 rows × 24 columns</p>\n",
              "</div>\n",
              "      <button class=\"colab-df-convert\" onclick=\"convertToInteractive('df-6da20e31-b9f6-458b-9350-2016ceee15f2')\"\n",
              "              title=\"Convert this dataframe to an interactive table.\"\n",
              "              style=\"display:none;\">\n",
              "        \n",
              "  <svg xmlns=\"http://www.w3.org/2000/svg\" height=\"24px\"viewBox=\"0 0 24 24\"\n",
              "       width=\"24px\">\n",
              "    <path d=\"M0 0h24v24H0V0z\" fill=\"none\"/>\n",
              "    <path d=\"M18.56 5.44l.94 2.06.94-2.06 2.06-.94-2.06-.94-.94-2.06-.94 2.06-2.06.94zm-11 1L8.5 8.5l.94-2.06 2.06-.94-2.06-.94L8.5 2.5l-.94 2.06-2.06.94zm10 10l.94 2.06.94-2.06 2.06-.94-2.06-.94-.94-2.06-.94 2.06-2.06.94z\"/><path d=\"M17.41 7.96l-1.37-1.37c-.4-.4-.92-.59-1.43-.59-.52 0-1.04.2-1.43.59L10.3 9.45l-7.72 7.72c-.78.78-.78 2.05 0 2.83L4 21.41c.39.39.9.59 1.41.59.51 0 1.02-.2 1.41-.59l7.78-7.78 2.81-2.81c.8-.78.8-2.07 0-2.86zM5.41 20L4 18.59l7.72-7.72 1.47 1.35L5.41 20z\"/>\n",
              "  </svg>\n",
              "      </button>\n",
              "      \n",
              "  <style>\n",
              "    .colab-df-container {\n",
              "      display:flex;\n",
              "      flex-wrap:wrap;\n",
              "      gap: 12px;\n",
              "    }\n",
              "\n",
              "    .colab-df-convert {\n",
              "      background-color: #E8F0FE;\n",
              "      border: none;\n",
              "      border-radius: 50%;\n",
              "      cursor: pointer;\n",
              "      display: none;\n",
              "      fill: #1967D2;\n",
              "      height: 32px;\n",
              "      padding: 0 0 0 0;\n",
              "      width: 32px;\n",
              "    }\n",
              "\n",
              "    .colab-df-convert:hover {\n",
              "      background-color: #E2EBFA;\n",
              "      box-shadow: 0px 1px 2px rgba(60, 64, 67, 0.3), 0px 1px 3px 1px rgba(60, 64, 67, 0.15);\n",
              "      fill: #174EA6;\n",
              "    }\n",
              "\n",
              "    [theme=dark] .colab-df-convert {\n",
              "      background-color: #3B4455;\n",
              "      fill: #D2E3FC;\n",
              "    }\n",
              "\n",
              "    [theme=dark] .colab-df-convert:hover {\n",
              "      background-color: #434B5C;\n",
              "      box-shadow: 0px 1px 3px 1px rgba(0, 0, 0, 0.15);\n",
              "      filter: drop-shadow(0px 1px 2px rgba(0, 0, 0, 0.3));\n",
              "      fill: #FFFFFF;\n",
              "    }\n",
              "  </style>\n",
              "\n",
              "      <script>\n",
              "        const buttonEl =\n",
              "          document.querySelector('#df-6da20e31-b9f6-458b-9350-2016ceee15f2 button.colab-df-convert');\n",
              "        buttonEl.style.display =\n",
              "          google.colab.kernel.accessAllowed ? 'block' : 'none';\n",
              "\n",
              "        async function convertToInteractive(key) {\n",
              "          const element = document.querySelector('#df-6da20e31-b9f6-458b-9350-2016ceee15f2');\n",
              "          const dataTable =\n",
              "            await google.colab.kernel.invokeFunction('convertToInteractive',\n",
              "                                                     [key], {});\n",
              "          if (!dataTable) return;\n",
              "\n",
              "          const docLinkHtml = 'Like what you see? Visit the ' +\n",
              "            '<a target=\"_blank\" href=https://colab.research.google.com/notebooks/data_table.ipynb>data table notebook</a>'\n",
              "            + ' to learn more about interactive tables.';\n",
              "          element.innerHTML = '';\n",
              "          dataTable['output_type'] = 'display_data';\n",
              "          await google.colab.output.renderOutput(dataTable, element);\n",
              "          const docLink = document.createElement('div');\n",
              "          docLink.innerHTML = docLinkHtml;\n",
              "          element.appendChild(docLink);\n",
              "        }\n",
              "      </script>\n",
              "    </div>\n",
              "  </div>\n",
              "  "
            ]
          },
          "metadata": {},
          "execution_count": 9
        }
      ]
    },
    {
      "cell_type": "markdown",
      "source": [
        "Création de variables"
      ],
      "metadata": {
        "id": "xUvRAQwh5tbo"
      }
    },
    {
      "cell_type": "code",
      "source": [
        "df['Store_sales_avg'] = df.groupby('Store')['Weekly_Sales'].transform('mean').astype(np.float64)\n",
        "df['Dept_sales_avg'] = df.groupby('Dept')['Weekly_Sales'].transform('mean').astype(np.float64)\n",
        "df['Store_Dept_sales_avg'] = df.groupby(['Store','Dept'])['Weekly_Sales'].transform('mean').astype(np.float64)\n",
        "\n",
        "df = df.replace(np.inf, np.nan)"
      ],
      "metadata": {
        "id": "tIBP-Ffk160B"
      },
      "execution_count": 10,
      "outputs": []
    },
    {
      "cell_type": "markdown",
      "source": [
        "Creéation de variables"
      ],
      "metadata": {
        "id": "dwpSsTm35vF3"
      }
    },
    {
      "cell_type": "code",
      "source": [
        "df['Super_Bowl']   =  np.where(((df['Date'] == \"2010-02-10\") | (df['Date'] == \"2011-02-11\") | \n",
        "                                (df['Date'] == \"2012-02-10\") | (df['Date'] == \"2013-02-08\")), 1, 0)\n",
        "\n",
        "df['Labor_day']    =  np.where(((df['Date'] == \"2010-09-10\") | (df['Date'] == \"2011-09-09\") | \n",
        "                                (df['Date'] == \"2012-09-07\") | (df['Date'] == \"2013-09-06\")), 1, 0)\n",
        "\n",
        "df['Thanksgiving'] =  np.where(((df['Date'] == \"2010-11-26\") | (df['Date'] == \"2011-11-25\") | \n",
        "                                (df['Date'] == \"2012-11-23\") | (df['Date'] == \"2013-11-29\")), 1, 0)\n",
        "\n",
        "df['Christmas']    =  np.where(((df['Date'] == \"2010-12-31\") | (df['Date'] == \"2011-12-30\") | \n",
        "                                (df['Date'] == \"2012-12-28\") | (df['Date'] ==  \"2013-12-27\")),1, 0)"
      ],
      "metadata": {
        "id": "M40AwGEdJ7N1"
      },
      "execution_count": 11,
      "outputs": []
    },
    {
      "cell_type": "code",
      "source": [
        "df[\"Benefice\"] = np.where(df[\"Weekly_Sales\"]>0, 1, 0)\n",
        "\n",
        "df[\"Benefice\"].value_counts()"
      ],
      "metadata": {
        "colab": {
          "base_uri": "https://localhost:8080/"
        },
        "id": "jXLYxGAr_J3a",
        "outputId": "ca5a27b6-cd03-46b9-8124-1ba6b62a7787"
      },
      "execution_count": 12,
      "outputs": [
        {
          "output_type": "execute_result",
          "data": {
            "text/plain": [
              "1    420212\n",
              "0      1358\n",
              "Name: Benefice, dtype: int64"
            ]
          },
          "metadata": {},
          "execution_count": 12
        }
      ]
    },
    {
      "cell_type": "markdown",
      "source": [
        "1358 sans avoir de bénéfice"
      ],
      "metadata": {
        "id": "_5GeMijf5x5S"
      }
    },
    {
      "cell_type": "markdown",
      "source": [
        "# 5 -Data Cleaning"
      ],
      "metadata": {
        "id": "vauj-u5fNcZC"
      }
    },
    {
      "cell_type": "code",
      "source": [
        "(df.isna().sum()/df.shape[0]).sort_values(ascending = False)"
      ],
      "metadata": {
        "colab": {
          "base_uri": "https://localhost:8080/"
        },
        "id": "Uxc85NLzVTCk",
        "outputId": "559ed654-f91c-4a05-8577-40ed5d2b3f40"
      },
      "execution_count": 13,
      "outputs": [
        {
          "output_type": "execute_result",
          "data": {
            "text/plain": [
              "MarkDown2               0.736110\n",
              "MarkDown4               0.679847\n",
              "MarkDown3               0.674808\n",
              "MarkDown1               0.642572\n",
              "MarkDown5               0.640790\n",
              "Weekly_Sales_24         0.179795\n",
              "Weekly_Sales_20         0.150623\n",
              "Weekly_Sales_16         0.121237\n",
              "Weekly_Sales_12         0.091598\n",
              "Weekly_Sales_8          0.061594\n",
              "Weekly_Sales_4          0.031155\n",
              "Store_Dept_sales_avg    0.000000\n",
              "Dept_sales_avg          0.000000\n",
              "Store_sales_avg         0.000000\n",
              "Super_Bowl              0.000000\n",
              "Labor_day               0.000000\n",
              "Thanksgiving            0.000000\n",
              "Christmas               0.000000\n",
              "Store                   0.000000\n",
              "day                     0.000000\n",
              "week                    0.000000\n",
              "Dept                    0.000000\n",
              "month                   0.000000\n",
              "year                    0.000000\n",
              "IsHoliday               0.000000\n",
              "Unemployment            0.000000\n",
              "CPI                     0.000000\n",
              "Fuel_Price              0.000000\n",
              "Temperature             0.000000\n",
              "Weekly_Sales            0.000000\n",
              "Date                    0.000000\n",
              "Benefice                0.000000\n",
              "dtype: float64"
            ]
          },
          "metadata": {},
          "execution_count": 13
        }
      ]
    },
    {
      "cell_type": "markdown",
      "source": [
        "On va supprimer les colonnes avec plus de 60% de NaN"
      ],
      "metadata": {
        "id": "28qyL8qIVjvy"
      }
    },
    {
      "cell_type": "code",
      "source": [
        "df.columns[df.isna().sum()/df.shape[0]>0.6]"
      ],
      "metadata": {
        "colab": {
          "base_uri": "https://localhost:8080/"
        },
        "id": "UP1k5QmG4_n4",
        "outputId": "6ddab4fc-6921-4ec0-9e4f-e65b736e937c"
      },
      "execution_count": 14,
      "outputs": [
        {
          "output_type": "execute_result",
          "data": {
            "text/plain": [
              "Index(['MarkDown1', 'MarkDown2', 'MarkDown3', 'MarkDown4', 'MarkDown5'], dtype='object')"
            ]
          },
          "metadata": {},
          "execution_count": 14
        }
      ]
    },
    {
      "cell_type": "code",
      "source": [
        "to_del = list(df.columns[df.isna().sum()/df.shape[0]>0.6])\n",
        "df = df.drop(to_del, axis = 1)\n",
        "df.head()"
      ],
      "metadata": {
        "colab": {
          "base_uri": "https://localhost:8080/",
          "height": 0
        },
        "id": "jqd688tb0a84",
        "outputId": "cecac85f-e2d7-4f1e-c7f8-a085f5d87335"
      },
      "execution_count": 15,
      "outputs": [
        {
          "output_type": "execute_result",
          "data": {
            "text/plain": [
              "   Store  Dept       Date  Weekly_Sales  Temperature  Fuel_Price         CPI  \\\n",
              "0      1     1 2010-02-05      24924.50        42.31       2.572  211.096358   \n",
              "1      1     2 2010-02-05      50605.27        42.31       2.572  211.096358   \n",
              "2      1     3 2010-02-05      13740.12        42.31       2.572  211.096358   \n",
              "3      1     4 2010-02-05      39954.04        42.31       2.572  211.096358   \n",
              "4      1     5 2010-02-05      32229.38        42.31       2.572  211.096358   \n",
              "\n",
              "   Unemployment  IsHoliday  year  ...  Weekly_Sales_20  Weekly_Sales_24  \\\n",
              "0         8.106      False  2010  ...              NaN              NaN   \n",
              "1         8.106      False  2010  ...              NaN              NaN   \n",
              "2         8.106      False  2010  ...              NaN              NaN   \n",
              "3         8.106      False  2010  ...              NaN              NaN   \n",
              "4         8.106      False  2010  ...              NaN              NaN   \n",
              "\n",
              "   Store_sales_avg  Dept_sales_avg  Store_Dept_sales_avg  Super_Bowl  \\\n",
              "0     21710.543621    19213.485088          22513.322937           0   \n",
              "1     21710.543621    43607.020113          46102.090420           0   \n",
              "2     21710.543621    11793.698516          13150.478042           0   \n",
              "3     21710.543621    25974.630238          36964.154476           0   \n",
              "4     21710.543621    21365.583515          24257.941119           0   \n",
              "\n",
              "   Labor_day  Thanksgiving  Christmas  Benefice  \n",
              "0          0             0          0         1  \n",
              "1          0             0          0         1  \n",
              "2          0             0          0         1  \n",
              "3          0             0          0         1  \n",
              "4          0             0          0         1  \n",
              "\n",
              "[5 rows x 27 columns]"
            ],
            "text/html": [
              "\n",
              "  <div id=\"df-5130d31a-5fbd-4992-9ed3-4fc1505726d9\">\n",
              "    <div class=\"colab-df-container\">\n",
              "      <div>\n",
              "<style scoped>\n",
              "    .dataframe tbody tr th:only-of-type {\n",
              "        vertical-align: middle;\n",
              "    }\n",
              "\n",
              "    .dataframe tbody tr th {\n",
              "        vertical-align: top;\n",
              "    }\n",
              "\n",
              "    .dataframe thead th {\n",
              "        text-align: right;\n",
              "    }\n",
              "</style>\n",
              "<table border=\"1\" class=\"dataframe\">\n",
              "  <thead>\n",
              "    <tr style=\"text-align: right;\">\n",
              "      <th></th>\n",
              "      <th>Store</th>\n",
              "      <th>Dept</th>\n",
              "      <th>Date</th>\n",
              "      <th>Weekly_Sales</th>\n",
              "      <th>Temperature</th>\n",
              "      <th>Fuel_Price</th>\n",
              "      <th>CPI</th>\n",
              "      <th>Unemployment</th>\n",
              "      <th>IsHoliday</th>\n",
              "      <th>year</th>\n",
              "      <th>...</th>\n",
              "      <th>Weekly_Sales_20</th>\n",
              "      <th>Weekly_Sales_24</th>\n",
              "      <th>Store_sales_avg</th>\n",
              "      <th>Dept_sales_avg</th>\n",
              "      <th>Store_Dept_sales_avg</th>\n",
              "      <th>Super_Bowl</th>\n",
              "      <th>Labor_day</th>\n",
              "      <th>Thanksgiving</th>\n",
              "      <th>Christmas</th>\n",
              "      <th>Benefice</th>\n",
              "    </tr>\n",
              "  </thead>\n",
              "  <tbody>\n",
              "    <tr>\n",
              "      <th>0</th>\n",
              "      <td>1</td>\n",
              "      <td>1</td>\n",
              "      <td>2010-02-05</td>\n",
              "      <td>24924.50</td>\n",
              "      <td>42.31</td>\n",
              "      <td>2.572</td>\n",
              "      <td>211.096358</td>\n",
              "      <td>8.106</td>\n",
              "      <td>False</td>\n",
              "      <td>2010</td>\n",
              "      <td>...</td>\n",
              "      <td>NaN</td>\n",
              "      <td>NaN</td>\n",
              "      <td>21710.543621</td>\n",
              "      <td>19213.485088</td>\n",
              "      <td>22513.322937</td>\n",
              "      <td>0</td>\n",
              "      <td>0</td>\n",
              "      <td>0</td>\n",
              "      <td>0</td>\n",
              "      <td>1</td>\n",
              "    </tr>\n",
              "    <tr>\n",
              "      <th>1</th>\n",
              "      <td>1</td>\n",
              "      <td>2</td>\n",
              "      <td>2010-02-05</td>\n",
              "      <td>50605.27</td>\n",
              "      <td>42.31</td>\n",
              "      <td>2.572</td>\n",
              "      <td>211.096358</td>\n",
              "      <td>8.106</td>\n",
              "      <td>False</td>\n",
              "      <td>2010</td>\n",
              "      <td>...</td>\n",
              "      <td>NaN</td>\n",
              "      <td>NaN</td>\n",
              "      <td>21710.543621</td>\n",
              "      <td>43607.020113</td>\n",
              "      <td>46102.090420</td>\n",
              "      <td>0</td>\n",
              "      <td>0</td>\n",
              "      <td>0</td>\n",
              "      <td>0</td>\n",
              "      <td>1</td>\n",
              "    </tr>\n",
              "    <tr>\n",
              "      <th>2</th>\n",
              "      <td>1</td>\n",
              "      <td>3</td>\n",
              "      <td>2010-02-05</td>\n",
              "      <td>13740.12</td>\n",
              "      <td>42.31</td>\n",
              "      <td>2.572</td>\n",
              "      <td>211.096358</td>\n",
              "      <td>8.106</td>\n",
              "      <td>False</td>\n",
              "      <td>2010</td>\n",
              "      <td>...</td>\n",
              "      <td>NaN</td>\n",
              "      <td>NaN</td>\n",
              "      <td>21710.543621</td>\n",
              "      <td>11793.698516</td>\n",
              "      <td>13150.478042</td>\n",
              "      <td>0</td>\n",
              "      <td>0</td>\n",
              "      <td>0</td>\n",
              "      <td>0</td>\n",
              "      <td>1</td>\n",
              "    </tr>\n",
              "    <tr>\n",
              "      <th>3</th>\n",
              "      <td>1</td>\n",
              "      <td>4</td>\n",
              "      <td>2010-02-05</td>\n",
              "      <td>39954.04</td>\n",
              "      <td>42.31</td>\n",
              "      <td>2.572</td>\n",
              "      <td>211.096358</td>\n",
              "      <td>8.106</td>\n",
              "      <td>False</td>\n",
              "      <td>2010</td>\n",
              "      <td>...</td>\n",
              "      <td>NaN</td>\n",
              "      <td>NaN</td>\n",
              "      <td>21710.543621</td>\n",
              "      <td>25974.630238</td>\n",
              "      <td>36964.154476</td>\n",
              "      <td>0</td>\n",
              "      <td>0</td>\n",
              "      <td>0</td>\n",
              "      <td>0</td>\n",
              "      <td>1</td>\n",
              "    </tr>\n",
              "    <tr>\n",
              "      <th>4</th>\n",
              "      <td>1</td>\n",
              "      <td>5</td>\n",
              "      <td>2010-02-05</td>\n",
              "      <td>32229.38</td>\n",
              "      <td>42.31</td>\n",
              "      <td>2.572</td>\n",
              "      <td>211.096358</td>\n",
              "      <td>8.106</td>\n",
              "      <td>False</td>\n",
              "      <td>2010</td>\n",
              "      <td>...</td>\n",
              "      <td>NaN</td>\n",
              "      <td>NaN</td>\n",
              "      <td>21710.543621</td>\n",
              "      <td>21365.583515</td>\n",
              "      <td>24257.941119</td>\n",
              "      <td>0</td>\n",
              "      <td>0</td>\n",
              "      <td>0</td>\n",
              "      <td>0</td>\n",
              "      <td>1</td>\n",
              "    </tr>\n",
              "  </tbody>\n",
              "</table>\n",
              "<p>5 rows × 27 columns</p>\n",
              "</div>\n",
              "      <button class=\"colab-df-convert\" onclick=\"convertToInteractive('df-5130d31a-5fbd-4992-9ed3-4fc1505726d9')\"\n",
              "              title=\"Convert this dataframe to an interactive table.\"\n",
              "              style=\"display:none;\">\n",
              "        \n",
              "  <svg xmlns=\"http://www.w3.org/2000/svg\" height=\"24px\"viewBox=\"0 0 24 24\"\n",
              "       width=\"24px\">\n",
              "    <path d=\"M0 0h24v24H0V0z\" fill=\"none\"/>\n",
              "    <path d=\"M18.56 5.44l.94 2.06.94-2.06 2.06-.94-2.06-.94-.94-2.06-.94 2.06-2.06.94zm-11 1L8.5 8.5l.94-2.06 2.06-.94-2.06-.94L8.5 2.5l-.94 2.06-2.06.94zm10 10l.94 2.06.94-2.06 2.06-.94-2.06-.94-.94-2.06-.94 2.06-2.06.94z\"/><path d=\"M17.41 7.96l-1.37-1.37c-.4-.4-.92-.59-1.43-.59-.52 0-1.04.2-1.43.59L10.3 9.45l-7.72 7.72c-.78.78-.78 2.05 0 2.83L4 21.41c.39.39.9.59 1.41.59.51 0 1.02-.2 1.41-.59l7.78-7.78 2.81-2.81c.8-.78.8-2.07 0-2.86zM5.41 20L4 18.59l7.72-7.72 1.47 1.35L5.41 20z\"/>\n",
              "  </svg>\n",
              "      </button>\n",
              "      \n",
              "  <style>\n",
              "    .colab-df-container {\n",
              "      display:flex;\n",
              "      flex-wrap:wrap;\n",
              "      gap: 12px;\n",
              "    }\n",
              "\n",
              "    .colab-df-convert {\n",
              "      background-color: #E8F0FE;\n",
              "      border: none;\n",
              "      border-radius: 50%;\n",
              "      cursor: pointer;\n",
              "      display: none;\n",
              "      fill: #1967D2;\n",
              "      height: 32px;\n",
              "      padding: 0 0 0 0;\n",
              "      width: 32px;\n",
              "    }\n",
              "\n",
              "    .colab-df-convert:hover {\n",
              "      background-color: #E2EBFA;\n",
              "      box-shadow: 0px 1px 2px rgba(60, 64, 67, 0.3), 0px 1px 3px 1px rgba(60, 64, 67, 0.15);\n",
              "      fill: #174EA6;\n",
              "    }\n",
              "\n",
              "    [theme=dark] .colab-df-convert {\n",
              "      background-color: #3B4455;\n",
              "      fill: #D2E3FC;\n",
              "    }\n",
              "\n",
              "    [theme=dark] .colab-df-convert:hover {\n",
              "      background-color: #434B5C;\n",
              "      box-shadow: 0px 1px 3px 1px rgba(0, 0, 0, 0.15);\n",
              "      filter: drop-shadow(0px 1px 2px rgba(0, 0, 0, 0.3));\n",
              "      fill: #FFFFFF;\n",
              "    }\n",
              "  </style>\n",
              "\n",
              "      <script>\n",
              "        const buttonEl =\n",
              "          document.querySelector('#df-5130d31a-5fbd-4992-9ed3-4fc1505726d9 button.colab-df-convert');\n",
              "        buttonEl.style.display =\n",
              "          google.colab.kernel.accessAllowed ? 'block' : 'none';\n",
              "\n",
              "        async function convertToInteractive(key) {\n",
              "          const element = document.querySelector('#df-5130d31a-5fbd-4992-9ed3-4fc1505726d9');\n",
              "          const dataTable =\n",
              "            await google.colab.kernel.invokeFunction('convertToInteractive',\n",
              "                                                     [key], {});\n",
              "          if (!dataTable) return;\n",
              "\n",
              "          const docLinkHtml = 'Like what you see? Visit the ' +\n",
              "            '<a target=\"_blank\" href=https://colab.research.google.com/notebooks/data_table.ipynb>data table notebook</a>'\n",
              "            + ' to learn more about interactive tables.';\n",
              "          element.innerHTML = '';\n",
              "          dataTable['output_type'] = 'display_data';\n",
              "          await google.colab.output.renderOutput(dataTable, element);\n",
              "          const docLink = document.createElement('div');\n",
              "          docLink.innerHTML = docLinkHtml;\n",
              "          element.appendChild(docLink);\n",
              "        }\n",
              "      </script>\n",
              "    </div>\n",
              "  </div>\n",
              "  "
            ]
          },
          "metadata": {},
          "execution_count": 15
        }
      ]
    },
    {
      "cell_type": "code",
      "source": [
        "(df.isna().sum()).sort_values(ascending = False)"
      ],
      "metadata": {
        "colab": {
          "base_uri": "https://localhost:8080/"
        },
        "id": "FvFoN9YWV0H8",
        "outputId": "d8b4a665-230e-4a87-c25b-4134b547bfa1"
      },
      "execution_count": 16,
      "outputs": [
        {
          "output_type": "execute_result",
          "data": {
            "text/plain": [
              "Weekly_Sales_24         75796\n",
              "Weekly_Sales_20         63498\n",
              "Weekly_Sales_16         51110\n",
              "Weekly_Sales_12         38615\n",
              "Weekly_Sales_8          25966\n",
              "Weekly_Sales_4          13134\n",
              "Christmas                   0\n",
              "Thanksgiving                0\n",
              "Labor_day                   0\n",
              "Super_Bowl                  0\n",
              "Store_Dept_sales_avg        0\n",
              "Dept_sales_avg              0\n",
              "Store_sales_avg             0\n",
              "Store                       0\n",
              "Dept                        0\n",
              "week                        0\n",
              "day                         0\n",
              "month                       0\n",
              "year                        0\n",
              "IsHoliday                   0\n",
              "Unemployment                0\n",
              "CPI                         0\n",
              "Fuel_Price                  0\n",
              "Temperature                 0\n",
              "Weekly_Sales                0\n",
              "Date                        0\n",
              "Benefice                    0\n",
              "dtype: int64"
            ]
          },
          "metadata": {},
          "execution_count": 16
        }
      ]
    },
    {
      "cell_type": "markdown",
      "source": [
        "Pour les NaN, on utilise la méthode du Backward fill : on remplace les valeurs\n",
        "manquantes dans le passé en se basant sur la première valeur connue après les manquantes. On l'utilise car les variables avec les NaN sont des Variables laguées."
      ],
      "metadata": {
        "id": "HlwjPFLmWIOI"
      }
    },
    {
      "cell_type": "code",
      "source": [
        "for col in df.columns :\n",
        "  if col.startswith(\"Weekly_Sales_\"):\n",
        "    df[col]  = df[col].bfill(axis ='rows')"
      ],
      "metadata": {
        "id": "qP238SxgSl-G"
      },
      "execution_count": 17,
      "outputs": []
    },
    {
      "cell_type": "code",
      "source": [
        "df.isna().sum()"
      ],
      "metadata": {
        "colab": {
          "base_uri": "https://localhost:8080/"
        },
        "id": "tWFM6Lro0a4t",
        "outputId": "d8b7d784-3427-4046-aedd-4638c649fdcd"
      },
      "execution_count": 18,
      "outputs": [
        {
          "output_type": "execute_result",
          "data": {
            "text/plain": [
              "Store                   0\n",
              "Dept                    0\n",
              "Date                    0\n",
              "Weekly_Sales            0\n",
              "Temperature             0\n",
              "Fuel_Price              0\n",
              "CPI                     0\n",
              "Unemployment            0\n",
              "IsHoliday               0\n",
              "year                    0\n",
              "month                   0\n",
              "day                     0\n",
              "week                    0\n",
              "Weekly_Sales_4          0\n",
              "Weekly_Sales_8          0\n",
              "Weekly_Sales_12         0\n",
              "Weekly_Sales_16         0\n",
              "Weekly_Sales_20         0\n",
              "Weekly_Sales_24         0\n",
              "Store_sales_avg         0\n",
              "Dept_sales_avg          0\n",
              "Store_Dept_sales_avg    0\n",
              "Super_Bowl              0\n",
              "Labor_day               0\n",
              "Thanksgiving            0\n",
              "Christmas               0\n",
              "Benefice                0\n",
              "dtype: int64"
            ]
          },
          "metadata": {},
          "execution_count": 18
        }
      ]
    },
    {
      "cell_type": "code",
      "source": [
        "df = df.set_index(df[\"Date\"])\n",
        "df = df.drop([\"Date\",\"IsHoliday\"], axis = 1)"
      ],
      "metadata": {
        "id": "0CJQ0wZ7AevY"
      },
      "execution_count": 19,
      "outputs": []
    },
    {
      "cell_type": "code",
      "source": [
        "df.shape"
      ],
      "metadata": {
        "colab": {
          "base_uri": "https://localhost:8080/"
        },
        "id": "xUHVpXr5NpCK",
        "outputId": "16d54205-94ac-45c6-db41-5d006451c4eb"
      },
      "execution_count": 20,
      "outputs": [
        {
          "output_type": "execute_result",
          "data": {
            "text/plain": [
              "(421570, 25)"
            ]
          },
          "metadata": {},
          "execution_count": 20
        }
      ]
    },
    {
      "cell_type": "markdown",
      "source": [
        "# 6 - Préparation des données"
      ],
      "metadata": {
        "id": "470n4HaX6XDn"
      }
    },
    {
      "cell_type": "markdown",
      "source": [
        "# 7 - Sélection de différents modèles (explications des critères de sélection, choix de la métrique, …)"
      ],
      "metadata": {
        "id": "yWdBRIlaS4HK"
      }
    },
    {
      "cell_type": "markdown",
      "source": [
        "### 7 - 0 - Fn"
      ],
      "metadata": {
        "id": "jUIMvjmf12ny"
      }
    },
    {
      "cell_type": "code",
      "source": [
        "from sklearn.metrics import mean_squared_error, median_absolute_error, mean_absolute_percentage_error, mean_absolute_error\n",
        "from sklearn.preprocessing import MinMaxScaler\n",
        "from lightgbm import LGBMRegressor\n",
        "import re\n",
        "import time\n",
        "\n",
        "#stores = df.Store.unique()"
      ],
      "metadata": {
        "id": "ZWlfYM6oS9Fd"
      },
      "execution_count": 21,
      "outputs": []
    },
    {
      "cell_type": "code",
      "source": [
        "#df = df.loc[:'2010-06-30']\n",
        "#On prend 6 mois\n",
        "df.shape"
      ],
      "metadata": {
        "id": "y5ZAOm3XZN2u",
        "colab": {
          "base_uri": "https://localhost:8080/"
        },
        "outputId": "d84b9bfd-c5e7-4887-deb4-d55bb1d53ea5"
      },
      "execution_count": 22,
      "outputs": [
        {
          "output_type": "execute_result",
          "data": {
            "text/plain": [
              "(421570, 25)"
            ]
          },
          "metadata": {},
          "execution_count": 22
        }
      ]
    },
    {
      "cell_type": "code",
      "source": [
        "df.columns"
      ],
      "metadata": {
        "colab": {
          "base_uri": "https://localhost:8080/"
        },
        "id": "HbcNVNQllNWJ",
        "outputId": "21a4d857-50e3-4191-cc47-0eb464672f58"
      },
      "execution_count": 23,
      "outputs": [
        {
          "output_type": "execute_result",
          "data": {
            "text/plain": [
              "Index(['Store', 'Dept', 'Weekly_Sales', 'Temperature', 'Fuel_Price', 'CPI',\n",
              "       'Unemployment', 'year', 'month', 'day', 'week', 'Weekly_Sales_4',\n",
              "       'Weekly_Sales_8', 'Weekly_Sales_12', 'Weekly_Sales_16',\n",
              "       'Weekly_Sales_20', 'Weekly_Sales_24', 'Store_sales_avg',\n",
              "       'Dept_sales_avg', 'Store_Dept_sales_avg', 'Super_Bowl', 'Labor_day',\n",
              "       'Thanksgiving', 'Christmas', 'Benefice'],\n",
              "      dtype='object')"
            ]
          },
          "metadata": {},
          "execution_count": 23
        }
      ]
    },
    {
      "cell_type": "code",
      "source": [
        "df[df['year']==2011].index"
      ],
      "metadata": {
        "colab": {
          "base_uri": "https://localhost:8080/"
        },
        "id": "8sFsVm9877xU",
        "outputId": "f4c89043-8578-41d9-b50f-ffbbba98485c"
      },
      "execution_count": 24,
      "outputs": [
        {
          "output_type": "execute_result",
          "data": {
            "text/plain": [
              "DatetimeIndex(['2011-01-07', '2011-01-07', '2011-01-07', '2011-01-07',\n",
              "               '2011-01-07', '2011-01-07', '2011-01-07', '2011-01-07',\n",
              "               '2011-01-07', '2011-01-07',\n",
              "               ...\n",
              "               '2011-12-30', '2011-12-30', '2011-12-30', '2011-12-30',\n",
              "               '2011-12-30', '2011-12-30', '2011-12-30', '2011-12-30',\n",
              "               '2011-12-30', '2011-12-30'],\n",
              "              dtype='datetime64[ns]', name='Date', length=153453, freq=None)"
            ]
          },
          "metadata": {},
          "execution_count": 24
        }
      ]
    },
    {
      "cell_type": "markdown",
      "source": [
        "Pour la taille du train set, on va récupérer les données jusqu'en fin 2011. Donc on prend en compte 2 années pour chaque Store.\n",
        "\n",
        "Le test set sera l'année 2012"
      ],
      "metadata": {
        "id": "gfOMH1_38I6M"
      }
    },
    {
      "cell_type": "code",
      "source": [
        "df[df['year']==2012].index"
      ],
      "metadata": {
        "colab": {
          "base_uri": "https://localhost:8080/"
        },
        "id": "Z0dthZSK8cGl",
        "outputId": "de9b5444-ffdd-4669-8dde-3d10f9b88434"
      },
      "execution_count": 25,
      "outputs": [
        {
          "output_type": "execute_result",
          "data": {
            "text/plain": [
              "DatetimeIndex(['2012-01-06', '2012-01-06', '2012-01-06', '2012-01-06',\n",
              "               '2012-01-06', '2012-01-06', '2012-01-06', '2012-01-06',\n",
              "               '2012-01-06', '2012-01-06',\n",
              "               ...\n",
              "               '2012-10-26', '2012-10-26', '2012-10-26', '2012-10-26',\n",
              "               '2012-10-26', '2012-10-26', '2012-10-26', '2012-10-26',\n",
              "               '2012-10-26', '2012-10-26'],\n",
              "              dtype='datetime64[ns]', name='Date', length=127438, freq=None)"
            ]
          },
          "metadata": {},
          "execution_count": 25
        }
      ]
    },
    {
      "cell_type": "code",
      "source": [
        "def model(model):\n",
        "  importance_df = pd.DataFrame()\n",
        "  stores = df.Store.unique()\n",
        "\n",
        "  d_test = pd.DataFrame()\n",
        "  d_train = pd.DataFrame()\n",
        "  metrics = {}\n",
        "\n",
        "  t1 = time.time()\n",
        "  for store in stores:\n",
        "    df_ = df[df['Store']==store]\n",
        "    \n",
        "    train = df_.loc[:'2011-12-30']\n",
        "    #train = df_.loc[:'2010-05-31']\n",
        "\n",
        "    scaler = MinMaxScaler()\n",
        "    X_train = train.drop(\"Weekly_Sales\", axis = 1)\n",
        "    X_train_ = scaler.fit_transform(X_train)\n",
        "    X_train = pd.DataFrame(X_train_, columns = X_train.columns)\n",
        "\n",
        "    y_train = train[\"Weekly_Sales\"]\n",
        "\n",
        "    # Validation Prediction\n",
        "    test = df_.loc['2012-01-06':]\n",
        "    #test = df_.loc['2010-06-01':]\n",
        "\n",
        "    #test_ = test.copy()\n",
        "    #X_test__ = test_.drop(\"Weekly_Sales\", axis = 1)\n",
        "\n",
        "    X_test = test.drop(\"Weekly_Sales\", axis = 1)\n",
        "    X_test_ = scaler.transform(X_test)\n",
        "    X_test = pd.DataFrame(X_test_, columns = X_test.columns)\n",
        "    y_test = test[\"Weekly_Sales\"]\n",
        "\n",
        "    X_test = X_test.set_index(y_test.index)\n",
        "    y_test = test[\"Weekly_Sales\"]\n",
        "\n",
        "      # Train and validate\n",
        "    model = model\n",
        "    \n",
        "    \"\"\" \n",
        "    model =  LGBMRegressor(\n",
        "            n_estimators=100,\n",
        "            learning_rate=0.03,\n",
        "            subsample=0.8,\n",
        "            colsample_bytree=0.8,\n",
        "            max_depth=8,\n",
        "            num_leaves=50,\n",
        "            min_child_weight=300\n",
        "        )\n",
        "    \"\"\"\n",
        "    \n",
        "    # Fit model\n",
        "    model.fit(X_train, y_train)\n",
        "\n",
        "    test_pred = model.predict(X_test)\n",
        "    pred = pd.DataFrame(test_pred)\n",
        "    pred = pred.set_index(y_test.index)\n",
        "    predictions_test = pd.concat([y_test, pred], axis = 1)\n",
        "    predictions_test.columns = [\"Weekly_Sales\", \"y_pred_test\"]\n",
        "    predictions_test[\"Store\"] = store\n",
        "    #predictions_test[\"erreur_test\"] = predictions_test[\"Weekly_Sales\"] - predictions_test[\"y_pred_test\"]\n",
        "\n",
        "    test_pred_train = model.predict(X_train)\n",
        "    pred_train = pd.DataFrame(test_pred_train)\n",
        "    pred_train = pred_train.set_index(y_train.index)\n",
        "    predictions_train = pd.concat([y_train, pred_train], axis = 1)\n",
        "    predictions_train.columns = [\"Weekly_Sales\", \"y_pred_train\"]\n",
        "    predictions_train[\"Store\"] = store\n",
        "    #predictions_train[\"erreur_train\"] = predictions_train[\"Weekly_Sales\"] - predictions_train[\"y_pred_train\"]\n",
        "\n",
        "    d_test = pd.concat([d_test, predictions_test], axis = 0)\n",
        "    d_train = pd.concat([d_train, predictions_train], axis = 0)\n",
        "\n",
        "  \n",
        "    importance_df[\"features\"] = [ col for col in X_train.columns if col != \"Weekly_Sales\"]\n",
        "    importance_df[\"importance_\"+str(store)] = model.feature_importances_\n",
        "  \n",
        "  importance_df[\"importance\"] = np.mean(importance_df[[col for col in importance_df.columns if col!= \"features\"]], axis = 1)\n",
        "  importance_df = importance_df[[\"features\", \"importance\"]]\n",
        "  t2 = time.time() - t1\n",
        "\n",
        "  assert d_test.shape[0]  == df[df['year']==2012].shape[0]\n",
        "  assert d_train.shape[0] == df[df['year']==2010].shape[0] + df[df['year']==2011].shape[0]\n",
        "\n",
        "  print(\"Succès !\")\n",
        "  print(\"L'opération a duré \"+str(round(t2, 2))+\" sec\")\n",
        "  return model, d_test, d_train, importance_df, t2\n",
        "\n"
      ],
      "metadata": {
        "id": "p1fSr9t7bZ0v"
      },
      "execution_count": 26,
      "outputs": []
    },
    {
      "cell_type": "code",
      "source": [
        "def metrics_(predictions_test, predictions_train):\n",
        "\n",
        "  metrics_dict = {\"Store\" : [], \"RMSE_train\" : [], \"RMSE_test\" : [], \"MAE_train\" : [], \n",
        "                                \"MAE_test\" : [],\"RMSE_PCT_train\": [], \"RMSE_PCT_test\": []}\n",
        "\n",
        "  for store in predictions_train[\"Store\"].unique():\n",
        "\n",
        "    m_test = predictions_test[predictions_test[\"Store\"]==store]\n",
        "    rmse = np.sqrt(mean_squared_error(m_test[\"Weekly_Sales\"], m_test[\"y_pred_test\"]))\n",
        "    mae = mean_absolute_error(m_test[\"Weekly_Sales\"], m_test[\"y_pred_test\"])\n",
        "    rmse_pct = 100 * np.sqrt(np.mean((m_test[\"Weekly_Sales\"] - m_test[\"y_pred_test\"]) ** 2))/np.mean(m_test[\"y_pred_test\"])\n",
        "\n",
        "    m_train = predictions_train[predictions_train[\"Store\"]==store]\n",
        "    rmse_train = np.sqrt(mean_squared_error(m_train[\"Weekly_Sales\"], m_train[\"y_pred_train\"]))\n",
        "    mae_train = mean_absolute_error(m_train[\"Weekly_Sales\"], m_train[\"y_pred_train\"])\n",
        "    rmse_pct_train = 100 * np.sqrt(np.mean((m_train[\"Weekly_Sales\"] - m_train[\"y_pred_train\"]) ** 2))/np.mean(m_train[\"y_pred_train\"])\n",
        "\n",
        "    metrics_dict[\"Store\"].append(store)\n",
        "\n",
        "    metrics_dict[\"RMSE_train\"].append(rmse_train)\n",
        "    metrics_dict[\"RMSE_test\"].append(rmse)\n",
        "\n",
        "    metrics_dict[\"MAE_train\"].append(mae_train) \n",
        "    metrics_dict[\"MAE_test\"].append(mae)\n",
        "\n",
        "    metrics_dict[\"RMSE_PCT_train\"].append(rmse_pct_train)\n",
        "    metrics_dict[\"RMSE_PCT_test\"].append(rmse_pct)\n",
        "\n",
        "  metrics = pd.DataFrame(metrics_dict)\n",
        "  print(\" -------> RMSE\")\n",
        "  print(\" <--> Train : \"+str(round(np.sqrt(mean_squared_error(predictions_train[\"Weekly_Sales\"], predictions_train['y_pred_train'])),2)))\n",
        "  print(\" <--> Test  : \"+str(round(np.sqrt(mean_squared_error(predictions_test[\"Weekly_Sales\"], predictions_test['y_pred_test'])),2)))\n",
        "  print(\"\\n\")\n",
        "  print(\" -------> MAE\")\n",
        "  print(\" <--> Train : \"+str(round(mean_absolute_error(predictions_train[\"Weekly_Sales\"], predictions_train['y_pred_train']),2)))\n",
        "  print(\" <--> Test  : \"+str(round(mean_absolute_error(predictions_test[\"Weekly_Sales\"], predictions_test['y_pred_test']),2)))\n",
        "  return metrics\n"
      ],
      "metadata": {
        "id": "zSCL8Fb1Tkw1"
      },
      "execution_count": 27,
      "outputs": []
    },
    {
      "cell_type": "code",
      "source": [
        "def plot_metrics(metrics, model): \n",
        "\n",
        "\n",
        "  fig, axes = plt.subplots(2, 1, figsize=(16, 9), sharey=True)\n",
        "  fig.suptitle(str(re.findall(r\"\\w+\", str(model))[0]) + \" - RMSE des différentes Stores\")\n",
        "  sns.barplot(ax=axes[0], x=metrics[\"Store\"], y=metrics[\"RMSE_test\"].values)\n",
        "  axes[0].set_title(\"Test\")\n",
        "  sns.barplot(ax=axes[1], x=metrics[\"Store\"], y=metrics[\"RMSE_train\"].values)\n",
        "  axes[1].set_title(\"Train\")\n",
        "  plt.show()\n",
        "\n",
        "  fig, axes = plt.subplots(2, 1, figsize=(16, 9), sharey=True)\n",
        "  fig.suptitle(str(re.findall(r\"\\w+\", str(model))[0]) + \" - MAE des différentes Stores\")\n",
        "  sns.barplot(ax=axes[0], x=metrics[\"Store\"], y=metrics[\"MAE_test\"].values)\n",
        "  axes[0].set_title(\"Test\")\n",
        "  sns.barplot(ax=axes[1], x=metrics[\"Store\"], y=metrics[\"MAE_train\"].values)\n",
        "  axes[1].set_title(\"Train\")\n",
        "  plt.show()\n"
      ],
      "metadata": {
        "id": "1NCEzpTwhwbG"
      },
      "execution_count": 28,
      "outputs": []
    },
    {
      "cell_type": "code",
      "source": [
        "def imp_plot(importance_df, model):\n",
        "\n",
        "  print(\" ---- Features Importance\")\n",
        "  plt.figure(figsize=(30, 5))\n",
        "  sns.barplot(x = \"features\", y = \"importance\", data = importance_df.sort_values(by=\"importance\", ascending=False))\n",
        "  plt.xticks(rotation=75)\n",
        "  plt.title(str(re.findall(r\"\\w+\", str(model))[0]) + \" - Importance moyenne des différentes variables\")\n",
        "  plt.show()\n",
        "  "
      ],
      "metadata": {
        "id": "IDi77vGIkqvt"
      },
      "execution_count": 29,
      "outputs": []
    },
    {
      "cell_type": "markdown",
      "source": [
        "### 7 - 1 - Machine Learning"
      ],
      "metadata": {
        "id": "FpVKTIh09qAy"
      }
    },
    {
      "cell_type": "markdown",
      "source": [
        "#### Benchmark"
      ],
      "metadata": {
        "id": "xVsj1pfbo_0H"
      }
    },
    {
      "cell_type": "code",
      "source": [
        "from sklearn.linear_model import LinearRegression\n",
        "\n",
        "def benchmark():\n",
        "\n",
        "  importance_df = pd.DataFrame()\n",
        "  stores = df.Store.unique()\n",
        "  d_test = pd.DataFrame()\n",
        "  d_train = pd.DataFrame()\n",
        "\n",
        "  t1 = time.time()\n",
        "  for store in stores:\n",
        "\n",
        "    df_ = df[df['Store']==store]\n",
        "\n",
        "    #train = df_.loc[:'2010-05-31']\n",
        "    train = df_.loc[:'2011-12-30']\n",
        "\n",
        "    scaler = MinMaxScaler()\n",
        "    X_train = train.drop(\"Weekly_Sales\", axis = 1)\n",
        "    X_train_ = scaler.fit_transform(X_train)\n",
        "    X_train = pd.DataFrame(X_train_, columns = X_train.columns)\n",
        "    y_train = train[\"Weekly_Sales\"]\n",
        "\n",
        "    # Validation Prediction\n",
        "    test = df_.loc['2012-01-06':]\n",
        "    #test = df_.loc['2010-06-01':]\n",
        "\n",
        "    #test_ = test.copy()\n",
        "    #X_test__ = test_.drop(\"Weekly_Sales\", axis = 1)\n",
        "\n",
        "    X_test = test.drop(\"Weekly_Sales\", axis = 1)\n",
        "    X_test_ = scaler.transform(X_test)\n",
        "    X_test = pd.DataFrame(X_test_, columns = X_test.columns)\n",
        "    y_test = test[\"Weekly_Sales\"]\n",
        "    X_test = X_test.set_index(y_test.index)\n",
        "    y_test = test[\"Weekly_Sales\"]\n",
        "      # Train and validate\n",
        "\n",
        "    model =  LinearRegression()\n",
        " \n",
        "    # Fit model\n",
        "    model.fit(X_train, y_train)\n",
        "\n",
        "    test_pred = model.predict(X_test)\n",
        "    pred = pd.DataFrame(test_pred)\n",
        "    pred = pred.set_index(y_test.index)\n",
        "    predictions_test = pd.concat([y_test, pred], axis = 1)\n",
        "    predictions_test.columns = [\"Weekly_Sales\", \"y_pred_test\"]\n",
        "    predictions_test[\"Store\"] = store\n",
        "    predictions_test[\"erreur_test\"] = predictions_test[\"Weekly_Sales\"] - predictions_test[\"y_pred_test\"]\n",
        "\n",
        "    test_pred_train = model.predict(X_train)\n",
        "    pred_train = pd.DataFrame(test_pred_train)\n",
        "    pred_train = pred_train.set_index(y_train.index)\n",
        "    predictions_train = pd.concat([y_train, pred_train], axis = 1)\n",
        "    predictions_train.columns = [\"Weekly_Sales\", \"y_pred_train\"]\n",
        "    predictions_train[\"Store\"] = store\n",
        "    predictions_train[\"erreur_train\"] = predictions_train[\"Weekly_Sales\"] - predictions_train[\"y_pred_train\"]\n",
        "\n",
        "    d_test = pd.concat([d_test, predictions_test], axis = 0)\n",
        "    d_train = pd.concat([d_train, predictions_train], axis = 0)\n",
        "\n",
        "    importance_df[\"features\"] = [ col for col in X_train.columns if col != \"Weekly_Sales\"]\n",
        "    importance_df['Coefficients'+str(store)] = model.coef_\n",
        "    #importance_df = importance_df.set_index(X_train.columns)\n",
        "\n",
        "  importance_df[\"importance\"] = np.mean(importance_df[[col for col in importance_df.columns if col !=\"features\"]], axis = 1)\n",
        "  importance_df = importance_df[[\"features\", \"importance\"]]\n",
        "\n",
        "  t2 = time.time() - t1\n",
        "\n",
        "  assert d_test.shape[0]  == df[df['year']==2012].shape[0]\n",
        "  assert d_train.shape[0] == df[df['year']==2010].shape[0] + df[df['year']==2011].shape[0]\n",
        "\n",
        "  print(\"Succès !\")\n",
        "  print(\"L'opération a duré \"+str(round(t2, 2))+\" sec\")\n",
        "  return model, d_test, d_train, importance_df, t2\n",
        "\n",
        "model_lr, d_test_lr, d_train_lr, importance_df_lr, t2_lr = benchmark()"
      ],
      "metadata": {
        "colab": {
          "base_uri": "https://localhost:8080/"
        },
        "id": "DimlHOivpCeI",
        "outputId": "46ef3e91-2323-4894-f628-4c353671f946"
      },
      "execution_count": 30,
      "outputs": [
        {
          "output_type": "stream",
          "name": "stdout",
          "text": [
            "Succès !\n",
            "L'opération a duré 6.67 sec\n"
          ]
        }
      ]
    },
    {
      "cell_type": "code",
      "source": [
        "metrics_lr = metrics_(d_test_lr, d_train_lr)"
      ],
      "metadata": {
        "colab": {
          "base_uri": "https://localhost:8080/"
        },
        "id": "7Ip1-1hxbUEb",
        "outputId": "bf1db510-7cb0-4e5d-a539-8ad0d14dbcc3"
      },
      "execution_count": 31,
      "outputs": [
        {
          "output_type": "stream",
          "name": "stdout",
          "text": [
            " -------> RMSE\n",
            " <--> Train : 7187.8\n",
            " <--> Test  : 5251.66\n",
            "\n",
            "\n",
            " -------> MAE\n",
            " <--> Train : 2839.18\n",
            " <--> Test  : 3033.24\n"
          ]
        }
      ]
    },
    {
      "cell_type": "code",
      "source": [
        "round(metrics_lr,2)"
      ],
      "metadata": {
        "colab": {
          "base_uri": "https://localhost:8080/",
          "height": 1000
        },
        "id": "IIhSxHGZWi04",
        "outputId": "89d07758-62aa-44a9-dd0c-098ad3822e1a"
      },
      "execution_count": 32,
      "outputs": [
        {
          "output_type": "execute_result",
          "data": {
            "text/plain": [
              "    Store  RMSE_train  RMSE_test  MAE_train  MAE_test  RMSE_PCT_train  \\\n",
              "0       1     6325.73    4913.68    3230.29   3136.24           29.41   \n",
              "1       2     8952.66    6820.80    4346.77   4783.88           33.05   \n",
              "2       3     3096.33    3370.26    1320.17   1442.65           49.42   \n",
              "3       4    10248.41    6908.26    4653.73   3978.39           35.57   \n",
              "4       5     2233.31    1707.15     899.68    883.30           44.96   \n",
              "5       6     8063.80    5815.77    3715.67   3887.58           36.55   \n",
              "6       7     4517.77    3732.78    1903.67   2612.02           54.75   \n",
              "7       8     4629.08    3436.16    2270.10   2013.68           35.32   \n",
              "8       9     3591.04    2776.94    1671.73   1524.24           41.21   \n",
              "9      10    13970.54    8890.02    5184.34   6036.51           52.36   \n",
              "10     11     7013.54    4520.69    3179.81   2729.79           36.21   \n",
              "11     12     7956.97    5976.61    2708.74   4570.36           53.31   \n",
              "12     13    10365.56    7792.43    4807.87   4225.07           38.06   \n",
              "13     14    12104.77    8528.87    5350.08   5479.10           40.15   \n",
              "14     15     5870.95    3521.13    2222.10   1954.35           63.23   \n",
              "15     16     4199.16    3507.62    1833.49   1731.73           52.42   \n",
              "16     17     5275.15    5078.12    2533.71   2793.86           41.37   \n",
              "17     18     8318.06    7112.02    3651.98   4988.98           51.74   \n",
              "18     19     8359.15    5891.72    3833.34   3249.82           40.26   \n",
              "19     20    11068.31    8054.90    5332.40   4666.45           37.37   \n",
              "20     21     6228.38    3822.77    2305.76   2619.40           53.43   \n",
              "21     22     8148.25    5654.32    3285.64   3711.15           52.76   \n",
              "22     23    10016.16    8929.24    4800.57   6612.65           50.37   \n",
              "23     24     6484.77    6650.40    3186.71   5137.63           33.88   \n",
              "24     25     4892.47    3436.36    2244.42   2136.23           46.83   \n",
              "25     26     4734.38    3587.95    2322.51   1983.56           32.41   \n",
              "26     27     9703.53    8025.00    4247.03   6274.02           38.12   \n",
              "27     28     7980.08    5873.92    3253.26   3644.76           42.12   \n",
              "28     29     5218.29    3111.28    1869.85   2172.38           62.95   \n",
              "29     30     1602.06    1290.71     783.27    629.20           18.25   \n",
              "30     31     6143.27    3448.74    2602.74   2029.23           31.22   \n",
              "31     32     5850.14    4174.05    2544.30   2602.67           35.87   \n",
              "32     33     1463.01    1984.25     780.56   1113.46           25.47   \n",
              "33     34     4415.76    3073.42    2148.82   1793.53           32.90   \n",
              "34     35    11448.02    5504.60    3516.72   3412.32           79.09   \n",
              "35     36     2371.79    3542.26    1289.01   2828.91           25.57   \n",
              "36     37     2049.25    1517.04     894.80    770.59           19.67   \n",
              "37     38     1697.49    3043.65     819.82   1612.09           23.58   \n",
              "38     39     8546.10    5697.76    3467.95   3119.89           41.74   \n",
              "39     40     4438.13    3898.03    2296.83   2371.56           32.08   \n",
              "40     41     7269.42    5199.65    3039.20   2844.72           40.95   \n",
              "41     42     2395.82    2203.80    1238.85   1188.56           20.87   \n",
              "42     43     2758.91    2585.04    1358.35   1055.75           20.51   \n",
              "43     44     1217.40    1752.19     556.53    879.16           20.69   \n",
              "44     45     5940.79    3842.23    2535.45   2270.93           50.20   \n",
              "\n",
              "    RMSE_PCT_test  \n",
              "0           21.39  \n",
              "1           29.62  \n",
              "2           54.13  \n",
              "3           23.45  \n",
              "4           32.29  \n",
              "5           30.45  \n",
              "6           36.19  \n",
              "7           25.85  \n",
              "8           30.61  \n",
              "9           41.08  \n",
              "10          23.68  \n",
              "11          55.38  \n",
              "12          29.59  \n",
              "13          35.01  \n",
              "14          40.07  \n",
              "15          44.91  \n",
              "16          37.84  \n",
              "17          61.83  \n",
              "18          30.86  \n",
              "19          29.31  \n",
              "20          43.32  \n",
              "21          46.30  \n",
              "22          62.52  \n",
              "23          46.89  \n",
              "24          38.43  \n",
              "25          25.33  \n",
              "26          43.82  \n",
              "27          37.75  \n",
              "28          48.75  \n",
              "29          15.16  \n",
              "30          17.44  \n",
              "31          24.09  \n",
              "32          37.94  \n",
              "33          23.00  \n",
              "34          38.43  \n",
              "35          59.70  \n",
              "36          14.92  \n",
              "37          35.20  \n",
              "38          27.08  \n",
              "39          32.03  \n",
              "40          28.47  \n",
              "41          19.25  \n",
              "42          19.29  \n",
              "43          28.37  \n",
              "44          37.58  "
            ],
            "text/html": [
              "\n",
              "  <div id=\"df-def7827c-8f5a-4dbf-801f-1a6da056da27\">\n",
              "    <div class=\"colab-df-container\">\n",
              "      <div>\n",
              "<style scoped>\n",
              "    .dataframe tbody tr th:only-of-type {\n",
              "        vertical-align: middle;\n",
              "    }\n",
              "\n",
              "    .dataframe tbody tr th {\n",
              "        vertical-align: top;\n",
              "    }\n",
              "\n",
              "    .dataframe thead th {\n",
              "        text-align: right;\n",
              "    }\n",
              "</style>\n",
              "<table border=\"1\" class=\"dataframe\">\n",
              "  <thead>\n",
              "    <tr style=\"text-align: right;\">\n",
              "      <th></th>\n",
              "      <th>Store</th>\n",
              "      <th>RMSE_train</th>\n",
              "      <th>RMSE_test</th>\n",
              "      <th>MAE_train</th>\n",
              "      <th>MAE_test</th>\n",
              "      <th>RMSE_PCT_train</th>\n",
              "      <th>RMSE_PCT_test</th>\n",
              "    </tr>\n",
              "  </thead>\n",
              "  <tbody>\n",
              "    <tr>\n",
              "      <th>0</th>\n",
              "      <td>1</td>\n",
              "      <td>6325.73</td>\n",
              "      <td>4913.68</td>\n",
              "      <td>3230.29</td>\n",
              "      <td>3136.24</td>\n",
              "      <td>29.41</td>\n",
              "      <td>21.39</td>\n",
              "    </tr>\n",
              "    <tr>\n",
              "      <th>1</th>\n",
              "      <td>2</td>\n",
              "      <td>8952.66</td>\n",
              "      <td>6820.80</td>\n",
              "      <td>4346.77</td>\n",
              "      <td>4783.88</td>\n",
              "      <td>33.05</td>\n",
              "      <td>29.62</td>\n",
              "    </tr>\n",
              "    <tr>\n",
              "      <th>2</th>\n",
              "      <td>3</td>\n",
              "      <td>3096.33</td>\n",
              "      <td>3370.26</td>\n",
              "      <td>1320.17</td>\n",
              "      <td>1442.65</td>\n",
              "      <td>49.42</td>\n",
              "      <td>54.13</td>\n",
              "    </tr>\n",
              "    <tr>\n",
              "      <th>3</th>\n",
              "      <td>4</td>\n",
              "      <td>10248.41</td>\n",
              "      <td>6908.26</td>\n",
              "      <td>4653.73</td>\n",
              "      <td>3978.39</td>\n",
              "      <td>35.57</td>\n",
              "      <td>23.45</td>\n",
              "    </tr>\n",
              "    <tr>\n",
              "      <th>4</th>\n",
              "      <td>5</td>\n",
              "      <td>2233.31</td>\n",
              "      <td>1707.15</td>\n",
              "      <td>899.68</td>\n",
              "      <td>883.30</td>\n",
              "      <td>44.96</td>\n",
              "      <td>32.29</td>\n",
              "    </tr>\n",
              "    <tr>\n",
              "      <th>5</th>\n",
              "      <td>6</td>\n",
              "      <td>8063.80</td>\n",
              "      <td>5815.77</td>\n",
              "      <td>3715.67</td>\n",
              "      <td>3887.58</td>\n",
              "      <td>36.55</td>\n",
              "      <td>30.45</td>\n",
              "    </tr>\n",
              "    <tr>\n",
              "      <th>6</th>\n",
              "      <td>7</td>\n",
              "      <td>4517.77</td>\n",
              "      <td>3732.78</td>\n",
              "      <td>1903.67</td>\n",
              "      <td>2612.02</td>\n",
              "      <td>54.75</td>\n",
              "      <td>36.19</td>\n",
              "    </tr>\n",
              "    <tr>\n",
              "      <th>7</th>\n",
              "      <td>8</td>\n",
              "      <td>4629.08</td>\n",
              "      <td>3436.16</td>\n",
              "      <td>2270.10</td>\n",
              "      <td>2013.68</td>\n",
              "      <td>35.32</td>\n",
              "      <td>25.85</td>\n",
              "    </tr>\n",
              "    <tr>\n",
              "      <th>8</th>\n",
              "      <td>9</td>\n",
              "      <td>3591.04</td>\n",
              "      <td>2776.94</td>\n",
              "      <td>1671.73</td>\n",
              "      <td>1524.24</td>\n",
              "      <td>41.21</td>\n",
              "      <td>30.61</td>\n",
              "    </tr>\n",
              "    <tr>\n",
              "      <th>9</th>\n",
              "      <td>10</td>\n",
              "      <td>13970.54</td>\n",
              "      <td>8890.02</td>\n",
              "      <td>5184.34</td>\n",
              "      <td>6036.51</td>\n",
              "      <td>52.36</td>\n",
              "      <td>41.08</td>\n",
              "    </tr>\n",
              "    <tr>\n",
              "      <th>10</th>\n",
              "      <td>11</td>\n",
              "      <td>7013.54</td>\n",
              "      <td>4520.69</td>\n",
              "      <td>3179.81</td>\n",
              "      <td>2729.79</td>\n",
              "      <td>36.21</td>\n",
              "      <td>23.68</td>\n",
              "    </tr>\n",
              "    <tr>\n",
              "      <th>11</th>\n",
              "      <td>12</td>\n",
              "      <td>7956.97</td>\n",
              "      <td>5976.61</td>\n",
              "      <td>2708.74</td>\n",
              "      <td>4570.36</td>\n",
              "      <td>53.31</td>\n",
              "      <td>55.38</td>\n",
              "    </tr>\n",
              "    <tr>\n",
              "      <th>12</th>\n",
              "      <td>13</td>\n",
              "      <td>10365.56</td>\n",
              "      <td>7792.43</td>\n",
              "      <td>4807.87</td>\n",
              "      <td>4225.07</td>\n",
              "      <td>38.06</td>\n",
              "      <td>29.59</td>\n",
              "    </tr>\n",
              "    <tr>\n",
              "      <th>13</th>\n",
              "      <td>14</td>\n",
              "      <td>12104.77</td>\n",
              "      <td>8528.87</td>\n",
              "      <td>5350.08</td>\n",
              "      <td>5479.10</td>\n",
              "      <td>40.15</td>\n",
              "      <td>35.01</td>\n",
              "    </tr>\n",
              "    <tr>\n",
              "      <th>14</th>\n",
              "      <td>15</td>\n",
              "      <td>5870.95</td>\n",
              "      <td>3521.13</td>\n",
              "      <td>2222.10</td>\n",
              "      <td>1954.35</td>\n",
              "      <td>63.23</td>\n",
              "      <td>40.07</td>\n",
              "    </tr>\n",
              "    <tr>\n",
              "      <th>15</th>\n",
              "      <td>16</td>\n",
              "      <td>4199.16</td>\n",
              "      <td>3507.62</td>\n",
              "      <td>1833.49</td>\n",
              "      <td>1731.73</td>\n",
              "      <td>52.42</td>\n",
              "      <td>44.91</td>\n",
              "    </tr>\n",
              "    <tr>\n",
              "      <th>16</th>\n",
              "      <td>17</td>\n",
              "      <td>5275.15</td>\n",
              "      <td>5078.12</td>\n",
              "      <td>2533.71</td>\n",
              "      <td>2793.86</td>\n",
              "      <td>41.37</td>\n",
              "      <td>37.84</td>\n",
              "    </tr>\n",
              "    <tr>\n",
              "      <th>17</th>\n",
              "      <td>18</td>\n",
              "      <td>8318.06</td>\n",
              "      <td>7112.02</td>\n",
              "      <td>3651.98</td>\n",
              "      <td>4988.98</td>\n",
              "      <td>51.74</td>\n",
              "      <td>61.83</td>\n",
              "    </tr>\n",
              "    <tr>\n",
              "      <th>18</th>\n",
              "      <td>19</td>\n",
              "      <td>8359.15</td>\n",
              "      <td>5891.72</td>\n",
              "      <td>3833.34</td>\n",
              "      <td>3249.82</td>\n",
              "      <td>40.26</td>\n",
              "      <td>30.86</td>\n",
              "    </tr>\n",
              "    <tr>\n",
              "      <th>19</th>\n",
              "      <td>20</td>\n",
              "      <td>11068.31</td>\n",
              "      <td>8054.90</td>\n",
              "      <td>5332.40</td>\n",
              "      <td>4666.45</td>\n",
              "      <td>37.37</td>\n",
              "      <td>29.31</td>\n",
              "    </tr>\n",
              "    <tr>\n",
              "      <th>20</th>\n",
              "      <td>21</td>\n",
              "      <td>6228.38</td>\n",
              "      <td>3822.77</td>\n",
              "      <td>2305.76</td>\n",
              "      <td>2619.40</td>\n",
              "      <td>53.43</td>\n",
              "      <td>43.32</td>\n",
              "    </tr>\n",
              "    <tr>\n",
              "      <th>21</th>\n",
              "      <td>22</td>\n",
              "      <td>8148.25</td>\n",
              "      <td>5654.32</td>\n",
              "      <td>3285.64</td>\n",
              "      <td>3711.15</td>\n",
              "      <td>52.76</td>\n",
              "      <td>46.30</td>\n",
              "    </tr>\n",
              "    <tr>\n",
              "      <th>22</th>\n",
              "      <td>23</td>\n",
              "      <td>10016.16</td>\n",
              "      <td>8929.24</td>\n",
              "      <td>4800.57</td>\n",
              "      <td>6612.65</td>\n",
              "      <td>50.37</td>\n",
              "      <td>62.52</td>\n",
              "    </tr>\n",
              "    <tr>\n",
              "      <th>23</th>\n",
              "      <td>24</td>\n",
              "      <td>6484.77</td>\n",
              "      <td>6650.40</td>\n",
              "      <td>3186.71</td>\n",
              "      <td>5137.63</td>\n",
              "      <td>33.88</td>\n",
              "      <td>46.89</td>\n",
              "    </tr>\n",
              "    <tr>\n",
              "      <th>24</th>\n",
              "      <td>25</td>\n",
              "      <td>4892.47</td>\n",
              "      <td>3436.36</td>\n",
              "      <td>2244.42</td>\n",
              "      <td>2136.23</td>\n",
              "      <td>46.83</td>\n",
              "      <td>38.43</td>\n",
              "    </tr>\n",
              "    <tr>\n",
              "      <th>25</th>\n",
              "      <td>26</td>\n",
              "      <td>4734.38</td>\n",
              "      <td>3587.95</td>\n",
              "      <td>2322.51</td>\n",
              "      <td>1983.56</td>\n",
              "      <td>32.41</td>\n",
              "      <td>25.33</td>\n",
              "    </tr>\n",
              "    <tr>\n",
              "      <th>26</th>\n",
              "      <td>27</td>\n",
              "      <td>9703.53</td>\n",
              "      <td>8025.00</td>\n",
              "      <td>4247.03</td>\n",
              "      <td>6274.02</td>\n",
              "      <td>38.12</td>\n",
              "      <td>43.82</td>\n",
              "    </tr>\n",
              "    <tr>\n",
              "      <th>27</th>\n",
              "      <td>28</td>\n",
              "      <td>7980.08</td>\n",
              "      <td>5873.92</td>\n",
              "      <td>3253.26</td>\n",
              "      <td>3644.76</td>\n",
              "      <td>42.12</td>\n",
              "      <td>37.75</td>\n",
              "    </tr>\n",
              "    <tr>\n",
              "      <th>28</th>\n",
              "      <td>29</td>\n",
              "      <td>5218.29</td>\n",
              "      <td>3111.28</td>\n",
              "      <td>1869.85</td>\n",
              "      <td>2172.38</td>\n",
              "      <td>62.95</td>\n",
              "      <td>48.75</td>\n",
              "    </tr>\n",
              "    <tr>\n",
              "      <th>29</th>\n",
              "      <td>30</td>\n",
              "      <td>1602.06</td>\n",
              "      <td>1290.71</td>\n",
              "      <td>783.27</td>\n",
              "      <td>629.20</td>\n",
              "      <td>18.25</td>\n",
              "      <td>15.16</td>\n",
              "    </tr>\n",
              "    <tr>\n",
              "      <th>30</th>\n",
              "      <td>31</td>\n",
              "      <td>6143.27</td>\n",
              "      <td>3448.74</td>\n",
              "      <td>2602.74</td>\n",
              "      <td>2029.23</td>\n",
              "      <td>31.22</td>\n",
              "      <td>17.44</td>\n",
              "    </tr>\n",
              "    <tr>\n",
              "      <th>31</th>\n",
              "      <td>32</td>\n",
              "      <td>5850.14</td>\n",
              "      <td>4174.05</td>\n",
              "      <td>2544.30</td>\n",
              "      <td>2602.67</td>\n",
              "      <td>35.87</td>\n",
              "      <td>24.09</td>\n",
              "    </tr>\n",
              "    <tr>\n",
              "      <th>32</th>\n",
              "      <td>33</td>\n",
              "      <td>1463.01</td>\n",
              "      <td>1984.25</td>\n",
              "      <td>780.56</td>\n",
              "      <td>1113.46</td>\n",
              "      <td>25.47</td>\n",
              "      <td>37.94</td>\n",
              "    </tr>\n",
              "    <tr>\n",
              "      <th>33</th>\n",
              "      <td>34</td>\n",
              "      <td>4415.76</td>\n",
              "      <td>3073.42</td>\n",
              "      <td>2148.82</td>\n",
              "      <td>1793.53</td>\n",
              "      <td>32.90</td>\n",
              "      <td>23.00</td>\n",
              "    </tr>\n",
              "    <tr>\n",
              "      <th>34</th>\n",
              "      <td>35</td>\n",
              "      <td>11448.02</td>\n",
              "      <td>5504.60</td>\n",
              "      <td>3516.72</td>\n",
              "      <td>3412.32</td>\n",
              "      <td>79.09</td>\n",
              "      <td>38.43</td>\n",
              "    </tr>\n",
              "    <tr>\n",
              "      <th>35</th>\n",
              "      <td>36</td>\n",
              "      <td>2371.79</td>\n",
              "      <td>3542.26</td>\n",
              "      <td>1289.01</td>\n",
              "      <td>2828.91</td>\n",
              "      <td>25.57</td>\n",
              "      <td>59.70</td>\n",
              "    </tr>\n",
              "    <tr>\n",
              "      <th>36</th>\n",
              "      <td>37</td>\n",
              "      <td>2049.25</td>\n",
              "      <td>1517.04</td>\n",
              "      <td>894.80</td>\n",
              "      <td>770.59</td>\n",
              "      <td>19.67</td>\n",
              "      <td>14.92</td>\n",
              "    </tr>\n",
              "    <tr>\n",
              "      <th>37</th>\n",
              "      <td>38</td>\n",
              "      <td>1697.49</td>\n",
              "      <td>3043.65</td>\n",
              "      <td>819.82</td>\n",
              "      <td>1612.09</td>\n",
              "      <td>23.58</td>\n",
              "      <td>35.20</td>\n",
              "    </tr>\n",
              "    <tr>\n",
              "      <th>38</th>\n",
              "      <td>39</td>\n",
              "      <td>8546.10</td>\n",
              "      <td>5697.76</td>\n",
              "      <td>3467.95</td>\n",
              "      <td>3119.89</td>\n",
              "      <td>41.74</td>\n",
              "      <td>27.08</td>\n",
              "    </tr>\n",
              "    <tr>\n",
              "      <th>39</th>\n",
              "      <td>40</td>\n",
              "      <td>4438.13</td>\n",
              "      <td>3898.03</td>\n",
              "      <td>2296.83</td>\n",
              "      <td>2371.56</td>\n",
              "      <td>32.08</td>\n",
              "      <td>32.03</td>\n",
              "    </tr>\n",
              "    <tr>\n",
              "      <th>40</th>\n",
              "      <td>41</td>\n",
              "      <td>7269.42</td>\n",
              "      <td>5199.65</td>\n",
              "      <td>3039.20</td>\n",
              "      <td>2844.72</td>\n",
              "      <td>40.95</td>\n",
              "      <td>28.47</td>\n",
              "    </tr>\n",
              "    <tr>\n",
              "      <th>41</th>\n",
              "      <td>42</td>\n",
              "      <td>2395.82</td>\n",
              "      <td>2203.80</td>\n",
              "      <td>1238.85</td>\n",
              "      <td>1188.56</td>\n",
              "      <td>20.87</td>\n",
              "      <td>19.25</td>\n",
              "    </tr>\n",
              "    <tr>\n",
              "      <th>42</th>\n",
              "      <td>43</td>\n",
              "      <td>2758.91</td>\n",
              "      <td>2585.04</td>\n",
              "      <td>1358.35</td>\n",
              "      <td>1055.75</td>\n",
              "      <td>20.51</td>\n",
              "      <td>19.29</td>\n",
              "    </tr>\n",
              "    <tr>\n",
              "      <th>43</th>\n",
              "      <td>44</td>\n",
              "      <td>1217.40</td>\n",
              "      <td>1752.19</td>\n",
              "      <td>556.53</td>\n",
              "      <td>879.16</td>\n",
              "      <td>20.69</td>\n",
              "      <td>28.37</td>\n",
              "    </tr>\n",
              "    <tr>\n",
              "      <th>44</th>\n",
              "      <td>45</td>\n",
              "      <td>5940.79</td>\n",
              "      <td>3842.23</td>\n",
              "      <td>2535.45</td>\n",
              "      <td>2270.93</td>\n",
              "      <td>50.20</td>\n",
              "      <td>37.58</td>\n",
              "    </tr>\n",
              "  </tbody>\n",
              "</table>\n",
              "</div>\n",
              "      <button class=\"colab-df-convert\" onclick=\"convertToInteractive('df-def7827c-8f5a-4dbf-801f-1a6da056da27')\"\n",
              "              title=\"Convert this dataframe to an interactive table.\"\n",
              "              style=\"display:none;\">\n",
              "        \n",
              "  <svg xmlns=\"http://www.w3.org/2000/svg\" height=\"24px\"viewBox=\"0 0 24 24\"\n",
              "       width=\"24px\">\n",
              "    <path d=\"M0 0h24v24H0V0z\" fill=\"none\"/>\n",
              "    <path d=\"M18.56 5.44l.94 2.06.94-2.06 2.06-.94-2.06-.94-.94-2.06-.94 2.06-2.06.94zm-11 1L8.5 8.5l.94-2.06 2.06-.94-2.06-.94L8.5 2.5l-.94 2.06-2.06.94zm10 10l.94 2.06.94-2.06 2.06-.94-2.06-.94-.94-2.06-.94 2.06-2.06.94z\"/><path d=\"M17.41 7.96l-1.37-1.37c-.4-.4-.92-.59-1.43-.59-.52 0-1.04.2-1.43.59L10.3 9.45l-7.72 7.72c-.78.78-.78 2.05 0 2.83L4 21.41c.39.39.9.59 1.41.59.51 0 1.02-.2 1.41-.59l7.78-7.78 2.81-2.81c.8-.78.8-2.07 0-2.86zM5.41 20L4 18.59l7.72-7.72 1.47 1.35L5.41 20z\"/>\n",
              "  </svg>\n",
              "      </button>\n",
              "      \n",
              "  <style>\n",
              "    .colab-df-container {\n",
              "      display:flex;\n",
              "      flex-wrap:wrap;\n",
              "      gap: 12px;\n",
              "    }\n",
              "\n",
              "    .colab-df-convert {\n",
              "      background-color: #E8F0FE;\n",
              "      border: none;\n",
              "      border-radius: 50%;\n",
              "      cursor: pointer;\n",
              "      display: none;\n",
              "      fill: #1967D2;\n",
              "      height: 32px;\n",
              "      padding: 0 0 0 0;\n",
              "      width: 32px;\n",
              "    }\n",
              "\n",
              "    .colab-df-convert:hover {\n",
              "      background-color: #E2EBFA;\n",
              "      box-shadow: 0px 1px 2px rgba(60, 64, 67, 0.3), 0px 1px 3px 1px rgba(60, 64, 67, 0.15);\n",
              "      fill: #174EA6;\n",
              "    }\n",
              "\n",
              "    [theme=dark] .colab-df-convert {\n",
              "      background-color: #3B4455;\n",
              "      fill: #D2E3FC;\n",
              "    }\n",
              "\n",
              "    [theme=dark] .colab-df-convert:hover {\n",
              "      background-color: #434B5C;\n",
              "      box-shadow: 0px 1px 3px 1px rgba(0, 0, 0, 0.15);\n",
              "      filter: drop-shadow(0px 1px 2px rgba(0, 0, 0, 0.3));\n",
              "      fill: #FFFFFF;\n",
              "    }\n",
              "  </style>\n",
              "\n",
              "      <script>\n",
              "        const buttonEl =\n",
              "          document.querySelector('#df-def7827c-8f5a-4dbf-801f-1a6da056da27 button.colab-df-convert');\n",
              "        buttonEl.style.display =\n",
              "          google.colab.kernel.accessAllowed ? 'block' : 'none';\n",
              "\n",
              "        async function convertToInteractive(key) {\n",
              "          const element = document.querySelector('#df-def7827c-8f5a-4dbf-801f-1a6da056da27');\n",
              "          const dataTable =\n",
              "            await google.colab.kernel.invokeFunction('convertToInteractive',\n",
              "                                                     [key], {});\n",
              "          if (!dataTable) return;\n",
              "\n",
              "          const docLinkHtml = 'Like what you see? Visit the ' +\n",
              "            '<a target=\"_blank\" href=https://colab.research.google.com/notebooks/data_table.ipynb>data table notebook</a>'\n",
              "            + ' to learn more about interactive tables.';\n",
              "          element.innerHTML = '';\n",
              "          dataTable['output_type'] = 'display_data';\n",
              "          await google.colab.output.renderOutput(dataTable, element);\n",
              "          const docLink = document.createElement('div');\n",
              "          docLink.innerHTML = docLinkHtml;\n",
              "          element.appendChild(docLink);\n",
              "        }\n",
              "      </script>\n",
              "    </div>\n",
              "  </div>\n",
              "  "
            ]
          },
          "metadata": {},
          "execution_count": 32
        }
      ]
    },
    {
      "cell_type": "code",
      "source": [
        "plot_metrics(metrics_lr, model_lr)"
      ],
      "metadata": {
        "colab": {
          "base_uri": "https://localhost:8080/",
          "height": 1000
        },
        "id": "jzml1xXPbY81",
        "outputId": "8a7152e4-b062-45a8-dba8-002ae0556dde"
      },
      "execution_count": 33,
      "outputs": [
        {
          "output_type": "display_data",
          "data": {
            "text/plain": [
              "<Figure size 1152x648 with 2 Axes>"
            ],
            "image/png": "[encoded data removed]"
          },
          "metadata": {
            "needs_background": "light"
          }
        },
        {
          "output_type": "display_data",
          "data": {
            "text/plain": [
              "<Figure size 1152x648 with 2 Axes>"
            ],
            "image/png": "[encoded data removed]"
          },
          "metadata": {
            "needs_background": "light"
          }
        }
      ]
    },
    {
      "cell_type": "code",
      "source": [
        "imp_plot(importance_df_lr, model_lr)"
      ],
      "metadata": {
        "colab": {
          "base_uri": "https://localhost:8080/",
          "height": 465
        },
        "id": "QRcJnOM6bY6R",
        "outputId": "9e1fe6e1-5179-4678-88ed-ed605ae8a8e2"
      },
      "execution_count": 34,
      "outputs": [
        {
          "output_type": "stream",
          "name": "stdout",
          "text": [
            " ---- Features Importance\n"
          ]
        },
        {
          "output_type": "display_data",
          "data": {
            "text/plain": [
              "<Figure size 2160x360 with 1 Axes>"
            ],
            "image/png": "[encoded data removed]"
          },
          "metadata": {
            "needs_background": "light"
          }
        }
      ]
    },
    {
      "cell_type": "markdown",
      "source": [
        "#### 1 - 1 - LGBMRegressor"
      ],
      "metadata": {
        "id": "GEBE82aG91vU"
      }
    },
    {
      "cell_type": "code",
      "source": [
        "from lightgbm import LGBMRegressor\n",
        "\n",
        "model_lgbm, d_test_lgbm, d_train_lgbm, importance_df_lgbm, t2_lgbm = model(\n",
        "  model = LGBMRegressor(\n",
        "        n_estimators=100,\n",
        "        learning_rate=0.03,\n",
        "        subsample=0.8,\n",
        "        colsample_bytree=0.8,\n",
        "        max_depth=8,\n",
        "        num_leaves=50,\n",
        "        min_child_weight=300\n",
        "    )\n",
        ")\n"
      ],
      "metadata": {
        "colab": {
          "base_uri": "https://localhost:8080/"
        },
        "id": "NxjJu7pXJJrp",
        "outputId": "730e1bc5-823c-4457-b8ef-f9d7624dc273"
      },
      "execution_count": 35,
      "outputs": [
        {
          "output_type": "stream",
          "name": "stdout",
          "text": [
            "Succès !\n",
            "L'opération a duré 15.46 sec\n"
          ]
        }
      ]
    },
    {
      "cell_type": "code",
      "source": [
        "metrics_lgbm = metrics_(d_test_lgbm, d_train_lgbm)\n",
        "plot_metrics(metrics_lgbm, model_lgbm)"
      ],
      "metadata": {
        "colab": {
          "base_uri": "https://localhost:8080/",
          "height": 1000
        },
        "id": "vP5PoI8XRBiX",
        "outputId": "2e5fa2ff-ff0a-42c2-9c1c-cb1e587f8c3a"
      },
      "execution_count": 36,
      "outputs": [
        {
          "output_type": "stream",
          "name": "stdout",
          "text": [
            " -------> RMSE\n",
            " <--> Train : 7618.26\n",
            " <--> Test  : 5340.49\n",
            "\n",
            "\n",
            " -------> MAE\n",
            " <--> Train : 2806.15\n",
            " <--> Test  : 2586.75\n"
          ]
        },
        {
          "output_type": "display_data",
          "data": {
            "text/plain": [
              "<Figure size 1152x648 with 2 Axes>"
            ],
            "image/png": "[encoded data removed]"
          },
          "metadata": {
            "needs_background": "light"
          }
        },
        {
          "output_type": "display_data",
          "data": {
            "text/plain": [
              "<Figure size 1152x648 with 2 Axes>"
            ],
            "image/png": "[encoded data removed]"
          },
          "metadata": {
            "needs_background": "light"
          }
        }
      ]
    },
    {
      "cell_type": "code",
      "source": [
        "imp_plot(importance_df_lgbm, model_lgbm)"
      ],
      "metadata": {
        "colab": {
          "base_uri": "https://localhost:8080/",
          "height": 465
        },
        "id": "5OLVdjh1RKfR",
        "outputId": "3f620662-4454-4863-d550-01f8fe39a7ca"
      },
      "execution_count": 37,
      "outputs": [
        {
          "output_type": "stream",
          "name": "stdout",
          "text": [
            " ---- Features Importance\n"
          ]
        },
        {
          "output_type": "display_data",
          "data": {
            "text/plain": [
              "<Figure size 2160x360 with 1 Axes>"
            ],
            "image/png": "[encoded data removed]"
          },
          "metadata": {
            "needs_background": "light"
          }
        }
      ]
    },
    {
      "cell_type": "markdown",
      "source": [
        "#### 1 - 2 - RandomForestRegressor\n"
      ],
      "metadata": {
        "id": "SXbIfU2JEIyb"
      }
    },
    {
      "cell_type": "code",
      "source": [
        "from sklearn.ensemble import RandomForestRegressor\n",
        "model_rf, d_test_rf, d_train_rf,importance_df_rf, t2_rf = model(\n",
        "  model = RandomForestRegressor())\n"
      ],
      "metadata": {
        "id": "kbg4pJV58eQo",
        "colab": {
          "base_uri": "https://localhost:8080/"
        },
        "outputId": "31b19bb5-4097-488c-80a2-fdd442242ea2"
      },
      "execution_count": 38,
      "outputs": [
        {
          "output_type": "stream",
          "name": "stdout",
          "text": [
            "Succès !\n",
            "L'opération a duré 286.32 sec\n"
          ]
        }
      ]
    },
    {
      "cell_type": "code",
      "source": [
        "metrics_rf = metrics_(d_test_rf, d_train_rf)\n",
        "plot_metrics(metrics_rf, model_rf)"
      ],
      "metadata": {
        "colab": {
          "base_uri": "https://localhost:8080/",
          "height": 1000
        },
        "id": "azOQzrPJTcph",
        "outputId": "77e617d7-c0b4-4939-a998-04e45ca50ae0"
      },
      "execution_count": 39,
      "outputs": [
        {
          "output_type": "stream",
          "name": "stdout",
          "text": [
            " -------> RMSE\n",
            " <--> Train : 2056.92\n",
            " <--> Test  : 4091.67\n",
            "\n",
            "\n",
            " -------> MAE\n",
            " <--> Train : 680.65\n",
            " <--> Test  : 1944.68\n"
          ]
        },
        {
          "output_type": "display_data",
          "data": {
            "text/plain": [
              "<Figure size 1152x648 with 2 Axes>"
            ],
            "image/png": "[encoded data removed]"
          },
          "metadata": {
            "needs_background": "light"
          }
        },
        {
          "output_type": "display_data",
          "data": {
            "text/plain": [
              "<Figure size 1152x648 with 2 Axes>"
            ],
            "image/png": "[encoded data removed]"
          },
          "metadata": {
            "needs_background": "light"
          }
        }
      ]
    },
    {
      "cell_type": "code",
      "source": [
        "imp_plot(importance_df_rf, model_rf)"
      ],
      "metadata": {
        "colab": {
          "base_uri": "https://localhost:8080/",
          "height": 465
        },
        "id": "J8G96TEwTcma",
        "outputId": "cf8f6c25-cb76-4298-a691-eef96f62a1bb"
      },
      "execution_count": 40,
      "outputs": [
        {
          "output_type": "stream",
          "name": "stdout",
          "text": [
            " ---- Features Importance\n"
          ]
        },
        {
          "output_type": "display_data",
          "data": {
            "text/plain": [
              "<Figure size 2160x360 with 1 Axes>"
            ],
            "image/png": "[encoded data removed]"
          },
          "metadata": {
            "needs_background": "light"
          }
        }
      ]
    },
    {
      "cell_type": "markdown",
      "source": [
        "#### 1 - 3 - CatboostRegressor"
      ],
      "metadata": {
        "id": "ErXv_uZqA-ek"
      }
    },
    {
      "cell_type": "code",
      "source": [
        "pip install catboost"
      ],
      "metadata": {
        "id": "xAMIkzTCF8Xe"
      },
      "execution_count": null,
      "outputs": []
    },
    {
      "cell_type": "code",
      "source": [
        "import catboost\n",
        "from catboost import CatBoostRegressor\n",
        "\n",
        "model_ctb, d_test_ctb, d_train_ctb,importance_df_ctb, t2_ctb = model(\n",
        "  model = CatBoostRegressor())\n"
      ],
      "metadata": {
        "id": "vgE3tD-5BSeV"
      },
      "execution_count": null,
      "outputs": []
    },
    {
      "cell_type": "code",
      "source": [
        "metrics_ctb = metrics_(d_test_ctb, d_train_ctb)\n",
        "plot_metrics(metrics_ctb, model_ctb)"
      ],
      "metadata": {
        "colab": {
          "base_uri": "https://localhost:8080/",
          "height": 1000
        },
        "id": "2HjBI4vaSKjg",
        "outputId": "6c12804a-9c0c-4d1c-b38c-7049e80f2ab0"
      },
      "execution_count": 43,
      "outputs": [
        {
          "output_type": "stream",
          "name": "stdout",
          "text": [
            " -------> RMSE\n",
            " <--> Train : 1892.77\n",
            " <--> Test  : 3426.7\n",
            "\n",
            "\n",
            " -------> MAE\n",
            " <--> Train : 1099.99\n",
            " <--> Test  : 1732.89\n"
          ]
        },
        {
          "output_type": "display_data",
          "data": {
            "text/plain": [
              "<Figure size 1152x648 with 2 Axes>"
            ],
            "image/png": "[encoded data removed]"
          },
          "metadata": {
            "needs_background": "light"
          }
        },
        {
          "output_type": "display_data",
          "data": {
            "text/plain": [
              "<Figure size 1152x648 with 2 Axes>"
            ],
            "image/png": "[encoded data removed]"
          },
          "metadata": {
            "needs_background": "light"
          }
        }
      ]
    },
    {
      "cell_type": "code",
      "source": [
        "imp_plot(importance_df_ctb, model_ctb)"
      ],
      "metadata": {
        "colab": {
          "base_uri": "https://localhost:8080/",
          "height": 465
        },
        "id": "JhblcDq1SKfY",
        "outputId": "0bcf06c2-c6de-4ae8-d129-0c1f0cdcb33e"
      },
      "execution_count": 44,
      "outputs": [
        {
          "output_type": "stream",
          "name": "stdout",
          "text": [
            " ---- Features Importance\n"
          ]
        },
        {
          "output_type": "display_data",
          "data": {
            "text/plain": [
              "<Figure size 2160x360 with 1 Axes>"
            ],
            "image/png": "[encoded data removed]"
          },
          "metadata": {
            "needs_background": "light"
          }
        }
      ]
    },
    {
      "cell_type": "markdown",
      "source": [
        "#### 1 - 4 - XgBoostRegressor"
      ],
      "metadata": {
        "id": "ZpOZ_VvaBUbF"
      }
    },
    {
      "cell_type": "code",
      "source": [
        "import xgboost\n",
        "from xgboost import XGBRegressor \n",
        "model_xgb, d_test_xgb, d_train_xgb,importance_df_xgb, t2_xgb = model(\n",
        "  model = XGBRegressor(objective=\"reg:squarederror\"))"
      ],
      "metadata": {
        "id": "ZZwqdPUWFiK3",
        "colab": {
          "base_uri": "https://localhost:8080/"
        },
        "outputId": "d46e410b-c209-4243-b173-2d23638fb702"
      },
      "execution_count": 45,
      "outputs": [
        {
          "output_type": "stream",
          "name": "stdout",
          "text": [
            "Succès !\n",
            "L'opération a duré 53.6 sec\n"
          ]
        }
      ]
    },
    {
      "cell_type": "code",
      "source": [
        "metrics_xgb = metrics_(d_test_xgb, d_train_xgb)\n",
        "plot_metrics(metrics_xgb, model_xgb)"
      ],
      "metadata": {
        "colab": {
          "base_uri": "https://localhost:8080/",
          "height": 0
        },
        "id": "DGeKi47tRau0",
        "outputId": "7df43325-1383-4128-faf1-4e2322fafd30"
      },
      "execution_count": 46,
      "outputs": [
        {
          "output_type": "stream",
          "name": "stdout",
          "text": [
            " -------> RMSE\n",
            " <--> Train : 4585.03\n",
            " <--> Test  : 4214.06\n",
            "\n",
            "\n",
            " -------> MAE\n",
            " <--> Train : 2067.6\n",
            " <--> Test  : 2084.48\n"
          ]
        },
        {
          "output_type": "display_data",
          "data": {
            "text/plain": [
              "<Figure size 1152x648 with 2 Axes>"
            ],
            "image/png": "[encoded data removed]"
          },
          "metadata": {
            "needs_background": "light"
          }
        },
        {
          "output_type": "display_data",
          "data": {
            "text/plain": [
              "<Figure size 1152x648 with 2 Axes>"
            ],
            "image/png": "[encoded data removed]"
          },
          "metadata": {
            "needs_background": "light"
          }
        }
      ]
    },
    {
      "cell_type": "code",
      "source": [
        "imp_plot(importance_df_xgb, model_xgb)"
      ],
      "metadata": {
        "colab": {
          "base_uri": "https://localhost:8080/",
          "height": 0
        },
        "id": "AweIp7ZnRanS",
        "outputId": "bf90d5df-080f-4951-d82f-4c0c4de97daa"
      },
      "execution_count": 47,
      "outputs": [
        {
          "output_type": "stream",
          "name": "stdout",
          "text": [
            " ---- Features Importance\n"
          ]
        },
        {
          "output_type": "display_data",
          "data": {
            "text/plain": [
              "<Figure size 2160x360 with 1 Axes>"
            ],
            "image/png": "[encoded data removed]"
          },
          "metadata": {
            "needs_background": "light"
          }
        }
      ]
    },
    {
      "cell_type": "markdown",
      "source": [
        "#### 1 - 5 - Perfs"
      ],
      "metadata": {
        "id": "vk9uitXJHGoN"
      }
    },
    {
      "cell_type": "code",
      "source": [
        "perfs = pd.DataFrame(\n",
        "    \n",
        "    {\"RMSE\": [round(np.sqrt(mean_squared_error(d_test_lr[\"Weekly_Sales\"], d_test_lr['y_pred_test'])),2),    round(np.sqrt(mean_squared_error(d_test_lgbm[\"Weekly_Sales\"], d_test_lgbm['y_pred_test'])),2),\n",
        "              round(np.sqrt(mean_squared_error(d_test_rf[\"Weekly_Sales\"], d_test_rf['y_pred_test'])),2),    round(np.sqrt(mean_squared_error(d_test_ctb[\"Weekly_Sales\"], d_test_ctb['y_pred_test'])),2),\n",
        "              round(np.sqrt(mean_squared_error(d_test_xgb[\"Weekly_Sales\"], d_test_xgb['y_pred_test'])),2)], \n",
        "    \n",
        "     \"MAE\" : [round(mean_absolute_error(d_test_lr[\"Weekly_Sales\"], d_test_lr['y_pred_test']),2),            round(mean_absolute_error(d_test_lgbm[\"Weekly_Sales\"], d_test_lgbm['y_pred_test']),2),\n",
        "              round(mean_absolute_error(d_test_rf[\"Weekly_Sales\"], d_test_rf['y_pred_test']),2),            round(mean_absolute_error(d_test_ctb[\"Weekly_Sales\"], d_test_ctb['y_pred_test']),2),\n",
        "              round(mean_absolute_error(d_test_xgb[\"Weekly_Sales\"], d_test_xgb['y_pred_test']),2)],\n",
        "\n",
        "\"RMSE_PCT\" :[round(100 * np.sqrt(np.mean((d_test_lr[\"Weekly_Sales\"] - d_test_lr[\"y_pred_test\"]) ** 2))/np.mean(d_test_lr[\"y_pred_test\"]), 2),\n",
        "             round(100 * np.sqrt(np.mean((d_test_lgbm[\"Weekly_Sales\"] - d_test_lgbm[\"y_pred_test\"]) ** 2))/np.mean(d_test_lgbm[\"y_pred_test\"]), 2),\n",
        "             round(100 * np.sqrt(np.mean((d_test_rf[\"Weekly_Sales\"] - d_test_rf[\"y_pred_test\"]) ** 2))/np.mean(d_test_rf[\"y_pred_test\"]), 2),\n",
        "             round(100 * np.sqrt(np.mean((d_test_ctb[\"Weekly_Sales\"] - d_test_ctb[\"y_pred_test\"]) ** 2))/np.mean(d_test_ctb[\"y_pred_test\"]), 2),\n",
        "             round(100 * np.sqrt(np.mean((d_test_xgb[\"Weekly_Sales\"] - d_test_xgb[\"y_pred_test\"]) ** 2))/np.mean(d_test_xgb[\"y_pred_test\"]), 2)],\n",
        "     \n",
        "\n",
        "     \"TEMPS(sec)\" : [t2_lr, t2_lgbm, t2_rf, t2_ctb, t2_xgb]},\n",
        "    index=[\"LinearRegression\", \"LGBMRegressor\", \"RandomForestRegressor\", \"catboost\",\"XGBRegressor\"]\n",
        ")"
      ],
      "metadata": {
        "id": "X8zUBilrD6i5"
      },
      "execution_count": 89,
      "outputs": []
    },
    {
      "cell_type": "code",
      "source": [
        "perfs"
      ],
      "metadata": {
        "colab": {
          "base_uri": "https://localhost:8080/",
          "height": 206
        },
        "id": "n83LVXS3C326",
        "outputId": "c8a4e5d9-6791-4ced-eb4b-b823c22e82bf"
      },
      "execution_count": 90,
      "outputs": [
        {
          "output_type": "execute_result",
          "data": {
            "text/plain": [
              "                          RMSE      MAE  RMSE_PCT  TEMPS(sec)\n",
              "LinearRegression       5251.66  3033.24     35.92    6.671149\n",
              "LGBMRegressor          5340.49  2586.75     33.96   15.458557\n",
              "RandomForestRegressor  4091.67  1944.68     25.02  286.319805\n",
              "catboost               3426.70  1732.89     21.76  262.286309\n",
              "XGBRegressor           4214.06  2084.48     27.18   53.602582"
            ],
            "text/html": [
              "\n",
              "  <div id=\"df-a64949cd-de80-4a39-b951-f99fb8d095bc\">\n",
              "    <div class=\"colab-df-container\">\n",
              "      <div>\n",
              "<style scoped>\n",
              "    .dataframe tbody tr th:only-of-type {\n",
              "        vertical-align: middle;\n",
              "    }\n",
              "\n",
              "    .dataframe tbody tr th {\n",
              "        vertical-align: top;\n",
              "    }\n",
              "\n",
              "    .dataframe thead th {\n",
              "        text-align: right;\n",
              "    }\n",
              "</style>\n",
              "<table border=\"1\" class=\"dataframe\">\n",
              "  <thead>\n",
              "    <tr style=\"text-align: right;\">\n",
              "      <th></th>\n",
              "      <th>RMSE</th>\n",
              "      <th>MAE</th>\n",
              "      <th>RMSE_PCT</th>\n",
              "      <th>TEMPS(sec)</th>\n",
              "    </tr>\n",
              "  </thead>\n",
              "  <tbody>\n",
              "    <tr>\n",
              "      <th>LinearRegression</th>\n",
              "      <td>5251.66</td>\n",
              "      <td>3033.24</td>\n",
              "      <td>35.92</td>\n",
              "      <td>6.671149</td>\n",
              "    </tr>\n",
              "    <tr>\n",
              "      <th>LGBMRegressor</th>\n",
              "      <td>5340.49</td>\n",
              "      <td>2586.75</td>\n",
              "      <td>33.96</td>\n",
              "      <td>15.458557</td>\n",
              "    </tr>\n",
              "    <tr>\n",
              "      <th>RandomForestRegressor</th>\n",
              "      <td>4091.67</td>\n",
              "      <td>1944.68</td>\n",
              "      <td>25.02</td>\n",
              "      <td>286.319805</td>\n",
              "    </tr>\n",
              "    <tr>\n",
              "      <th>catboost</th>\n",
              "      <td>3426.70</td>\n",
              "      <td>1732.89</td>\n",
              "      <td>21.76</td>\n",
              "      <td>262.286309</td>\n",
              "    </tr>\n",
              "    <tr>\n",
              "      <th>XGBRegressor</th>\n",
              "      <td>4214.06</td>\n",
              "      <td>2084.48</td>\n",
              "      <td>27.18</td>\n",
              "      <td>53.602582</td>\n",
              "    </tr>\n",
              "  </tbody>\n",
              "</table>\n",
              "</div>\n",
              "      <button class=\"colab-df-convert\" onclick=\"convertToInteractive('df-a64949cd-de80-4a39-b951-f99fb8d095bc')\"\n",
              "              title=\"Convert this dataframe to an interactive table.\"\n",
              "              style=\"display:none;\">\n",
              "        \n",
              "  <svg xmlns=\"http://www.w3.org/2000/svg\" height=\"24px\"viewBox=\"0 0 24 24\"\n",
              "       width=\"24px\">\n",
              "    <path d=\"M0 0h24v24H0V0z\" fill=\"none\"/>\n",
              "    <path d=\"M18.56 5.44l.94 2.06.94-2.06 2.06-.94-2.06-.94-.94-2.06-.94 2.06-2.06.94zm-11 1L8.5 8.5l.94-2.06 2.06-.94-2.06-.94L8.5 2.5l-.94 2.06-2.06.94zm10 10l.94 2.06.94-2.06 2.06-.94-2.06-.94-.94-2.06-.94 2.06-2.06.94z\"/><path d=\"M17.41 7.96l-1.37-1.37c-.4-.4-.92-.59-1.43-.59-.52 0-1.04.2-1.43.59L10.3 9.45l-7.72 7.72c-.78.78-.78 2.05 0 2.83L4 21.41c.39.39.9.59 1.41.59.51 0 1.02-.2 1.41-.59l7.78-7.78 2.81-2.81c.8-.78.8-2.07 0-2.86zM5.41 20L4 18.59l7.72-7.72 1.47 1.35L5.41 20z\"/>\n",
              "  </svg>\n",
              "      </button>\n",
              "      \n",
              "  <style>\n",
              "    .colab-df-container {\n",
              "      display:flex;\n",
              "      flex-wrap:wrap;\n",
              "      gap: 12px;\n",
              "    }\n",
              "\n",
              "    .colab-df-convert {\n",
              "      background-color: #E8F0FE;\n",
              "      border: none;\n",
              "      border-radius: 50%;\n",
              "      cursor: pointer;\n",
              "      display: none;\n",
              "      fill: #1967D2;\n",
              "      height: 32px;\n",
              "      padding: 0 0 0 0;\n",
              "      width: 32px;\n",
              "    }\n",
              "\n",
              "    .colab-df-convert:hover {\n",
              "      background-color: #E2EBFA;\n",
              "      box-shadow: 0px 1px 2px rgba(60, 64, 67, 0.3), 0px 1px 3px 1px rgba(60, 64, 67, 0.15);\n",
              "      fill: #174EA6;\n",
              "    }\n",
              "\n",
              "    [theme=dark] .colab-df-convert {\n",
              "      background-color: #3B4455;\n",
              "      fill: #D2E3FC;\n",
              "    }\n",
              "\n",
              "    [theme=dark] .colab-df-convert:hover {\n",
              "      background-color: #434B5C;\n",
              "      box-shadow: 0px 1px 3px 1px rgba(0, 0, 0, 0.15);\n",
              "      filter: drop-shadow(0px 1px 2px rgba(0, 0, 0, 0.3));\n",
              "      fill: #FFFFFF;\n",
              "    }\n",
              "  </style>\n",
              "\n",
              "      <script>\n",
              "        const buttonEl =\n",
              "          document.querySelector('#df-a64949cd-de80-4a39-b951-f99fb8d095bc button.colab-df-convert');\n",
              "        buttonEl.style.display =\n",
              "          google.colab.kernel.accessAllowed ? 'block' : 'none';\n",
              "\n",
              "        async function convertToInteractive(key) {\n",
              "          const element = document.querySelector('#df-a64949cd-de80-4a39-b951-f99fb8d095bc');\n",
              "          const dataTable =\n",
              "            await google.colab.kernel.invokeFunction('convertToInteractive',\n",
              "                                                     [key], {});\n",
              "          if (!dataTable) return;\n",
              "\n",
              "          const docLinkHtml = 'Like what you see? Visit the ' +\n",
              "            '<a target=\"_blank\" href=https://colab.research.google.com/notebooks/data_table.ipynb>data table notebook</a>'\n",
              "            + ' to learn more about interactive tables.';\n",
              "          element.innerHTML = '';\n",
              "          dataTable['output_type'] = 'display_data';\n",
              "          await google.colab.output.renderOutput(dataTable, element);\n",
              "          const docLink = document.createElement('div');\n",
              "          docLink.innerHTML = docLinkHtml;\n",
              "          element.appendChild(docLink);\n",
              "        }\n",
              "      </script>\n",
              "    </div>\n",
              "  </div>\n",
              "  "
            ]
          },
          "metadata": {},
          "execution_count": 90
        }
      ]
    },
    {
      "cell_type": "markdown",
      "source": [
        "### 7 - 2 - Méthodes Classiques"
      ],
      "metadata": {
        "id": "QWSd45SHICvJ"
      }
    },
    {
      "cell_type": "markdown",
      "source": [
        "# 8 - Selection de variables"
      ],
      "metadata": {
        "id": "S5sKQ4rt8DpN"
      }
    },
    {
      "cell_type": "code",
      "source": [
        "from sklearn.linear_model import Ridge, Lasso, LassoLarsIC, ElasticNet"
      ],
      "metadata": {
        "id": "lUYVN6Xd15Vy"
      },
      "execution_count": 49,
      "outputs": []
    },
    {
      "cell_type": "code",
      "source": [
        "def reg_pen(estimateur):\n",
        "\n",
        "  a = pd.DataFrame()\n",
        "        # POUR ÉVITER DE DIVISER PAR 0 EN FAISANT LE np.log10\n",
        "  EPSILON = 1e-4\n",
        "  importance_df = pd.DataFrame()\n",
        "  \n",
        "\n",
        "  d_test = pd.DataFrame()\n",
        "  d_train = pd.DataFrame()\n",
        "  stores = df.Store.unique()\n",
        "  for store in stores:\n",
        "\n",
        "    df_ = df[df['Store']==store]\n",
        "\n",
        "    train = df_.loc[:'2011-12-30']\n",
        "    #train = df_.loc[:'2010-05-31']\n",
        "\n",
        "    scaler = MinMaxScaler()\n",
        "    X_train = train.drop(\"Weekly_Sales\", axis = 1)\n",
        "    X_train_ = scaler.fit_transform(X_train)\n",
        "    X_train = pd.DataFrame(X_train_, columns = X_train.columns)\n",
        "\n",
        "    y_train = train[\"Weekly_Sales\"]\n",
        "\n",
        "    # Validation Prediction\n",
        "    test = df_.loc['2012-01-06':]\n",
        "    #test = df_.loc['2010-06-01':]\n",
        "\n",
        "    test_ = test.copy()\n",
        "\n",
        "    X_test = test.drop(\"Weekly_Sales\", axis = 1)\n",
        "    X_test_ = scaler.transform(X_test)\n",
        "    X_test = pd.DataFrame(X_test_, columns = X_test.columns)\n",
        "    y_test = test[\"Weekly_Sales\"]\n",
        "    X_test = X_test.set_index(y_test.index)\n",
        "    y_test = test[\"Weekly_Sales\"]\n",
        "\n",
        "      # Train and validate\n",
        "    model = estimateur\n",
        "    xxx, yyy = X_train, y_train\n",
        "    model.fit(xxx, yyy)\n",
        "    a[\"R2_Store_\"+str(store)] = model.score(xxx, yyy)\n",
        "\n",
        "    a[\"features\"] = [ col for col in xxx.columns if col != \"Weekly_Sales\"]\n",
        "    a[\"coefs_\"+str(store)] = model.coef_\n",
        "  \n",
        "  a[\"coefs\"]  = np.mean(a[[col for col in a.columns if col.startswith(\"coefs\")]], axis = 1)\n",
        "  a[\"R2\"]     = np.mean(a[[col for col in a.columns if col.startswith(\"R2\")]], axis = 1)\n",
        "\n",
        "  a = a[[\"features\", \"coefs\", \"R2\"]]\n",
        "  a = a.sort_values(by = \"coefs\", ascending = True)\n",
        "  print(\"Le\", model, \"a sélectionné \" + str(a[a[\"coefs\"]!=0].shape[0]) + \" variables et en a éliminé \" +  str(a[a[\"coefs\"]==0].shape[0]))\n",
        "  print(\"R2 : \"+str(round(np.mean(a['R2']), 2)))\n",
        "  vars = list(a[a[\"coefs\"]!=0][\"features\"])\n",
        "  print(\"Les variables sélectionnées sont : \\n\"+ str(vars))\n",
        "  print(\"Les variables supprimées sont : \\n\"+ str(list(a[a[\"coefs\"]==0][\"features\"])))\n",
        "  return a\n"
      ],
      "metadata": {
        "id": "J4VuwGrx8fFu"
      },
      "execution_count": 50,
      "outputs": []
    },
    {
      "cell_type": "code",
      "source": [
        "ridge = reg_pen(Ridge())"
      ],
      "metadata": {
        "colab": {
          "base_uri": "https://localhost:8080/"
        },
        "id": "8Kkr-3SBiBFe",
        "outputId": "10c7a098-94f9-4720-f2f4-26e4f4666b46"
      },
      "execution_count": 51,
      "outputs": [
        {
          "output_type": "stream",
          "name": "stdout",
          "text": [
            "Le Ridge() a sélectionné 22 variables et en a éliminé 2\n",
            "R2 : 0.89\n",
            "Les variables sélectionnées sont : \n",
            "['Weekly_Sales_20', 'Weekly_Sales_16', 'Weekly_Sales_8', 'Weekly_Sales_12', 'Christmas', 'Weekly_Sales_24', 'Temperature', 'year', 'Labor_day', 'Dept', 'day', 'week', 'Unemployment', 'CPI', 'Benefice', 'Fuel_Price', 'Super_Bowl', 'Dept_sales_avg', 'month', 'Thanksgiving', 'Weekly_Sales_4', 'Store_Dept_sales_avg']\n",
            "Les variables supprimées sont : \n",
            "['Store_sales_avg', 'Store']\n"
          ]
        }
      ]
    },
    {
      "cell_type": "code",
      "source": [
        "lasso = reg_pen(Lasso())"
      ],
      "metadata": {
        "id": "j1ZsKFoi8fDH",
        "colab": {
          "base_uri": "https://localhost:8080/"
        },
        "outputId": "9a2aa4da-06a3-4bf1-b3bc-a0071e3f46a0"
      },
      "execution_count": 52,
      "outputs": [
        {
          "output_type": "stream",
          "name": "stdout",
          "text": [
            "Le Lasso() a sélectionné 22 variables et en a éliminé 2\n",
            "R2 : 0.89\n",
            "Les variables sélectionnées sont : \n",
            "['Weekly_Sales_8', 'Weekly_Sales_16', 'Weekly_Sales_20', 'Weekly_Sales_12', 'Christmas', 'Weekly_Sales_24', 'Temperature', 'year', 'Labor_day', 'Dept', 'day', 'week', 'Dept_sales_avg', 'Unemployment', 'CPI', 'Benefice', 'Fuel_Price', 'Super_Bowl', 'month', 'Thanksgiving', 'Weekly_Sales_4', 'Store_Dept_sales_avg']\n",
            "Les variables supprimées sont : \n",
            "['Store_sales_avg', 'Store']\n"
          ]
        }
      ]
    },
    {
      "cell_type": "code",
      "source": [
        "elnet = reg_pen(ElasticNet())"
      ],
      "metadata": {
        "id": "FTh38HVU8e_v",
        "colab": {
          "base_uri": "https://localhost:8080/"
        },
        "outputId": "0aa0930b-249e-42b7-c5ec-bfb4f54b4472"
      },
      "execution_count": 53,
      "outputs": [
        {
          "output_type": "stream",
          "name": "stdout",
          "text": [
            "Le ElasticNet() a sélectionné 22 variables et en a éliminé 2\n",
            "R2 : 0.32\n",
            "Les variables sélectionnées sont : \n",
            "['Temperature', 'year', 'Christmas', 'Unemployment', 'Fuel_Price', 'day', 'Labor_day', 'Super_Bowl', 'Benefice', 'CPI', 'Thanksgiving', 'week', 'month', 'Dept', 'Weekly_Sales_24', 'Weekly_Sales_20', 'Weekly_Sales_16', 'Weekly_Sales_12', 'Weekly_Sales_8', 'Weekly_Sales_4', 'Dept_sales_avg', 'Store_Dept_sales_avg']\n",
            "Les variables supprimées sont : \n",
            "['Store', 'Store_sales_avg']\n"
          ]
        }
      ]
    },
    {
      "cell_type": "code",
      "source": [
        "lslars = reg_pen(LassoLarsIC())"
      ],
      "metadata": {
        "colab": {
          "base_uri": "https://localhost:8080/"
        },
        "id": "KOBR6a8dipvB",
        "outputId": "022aaad5-1f2a-4dbb-a3aa-bb306d6feb1a"
      },
      "execution_count": 54,
      "outputs": [
        {
          "output_type": "stream",
          "name": "stdout",
          "text": [
            "Le LassoLarsIC() a sélectionné 22 variables et en a éliminé 2\n",
            "R2 : 0.89\n",
            "Les variables sélectionnées sont : \n",
            "['week', 'Weekly_Sales_8', 'Weekly_Sales_16', 'Weekly_Sales_20', 'Weekly_Sales_12', 'Christmas', 'Temperature', 'Weekly_Sales_24', 'year', 'Dept', 'Dept_sales_avg', 'Labor_day', 'Fuel_Price', 'Unemployment', 'Benefice', 'CPI', 'Super_Bowl', 'Thanksgiving', 'day', 'Weekly_Sales_4', 'Store_Dept_sales_avg', 'month']\n",
            "Les variables supprimées sont : \n",
            "['Store_sales_avg', 'Store']\n"
          ]
        }
      ]
    },
    {
      "cell_type": "markdown",
      "source": [
        "On remarque que les variables supprimées ne sont que de 2, on peut alors ne pas considérer les regressions pénalisées."
      ],
      "metadata": {
        "id": "jToXt0JooPuG"
      }
    },
    {
      "cell_type": "code",
      "source": [
        ""
      ],
      "metadata": {
        "id": "zsYrW8_uiSip"
      },
      "execution_count": 54,
      "outputs": []
    },
    {
      "cell_type": "markdown",
      "source": [
        "\n",
        "# 8 - Evaluation de la performance des modèles (recherche d'hyperparamètres, contrôle de l’overfitting, comparaison des performances) sur différents horizons de prédiction - Expanding Windows"
      ],
      "metadata": {
        "id": "M-BT_OaaXZfI"
      }
    },
    {
      "cell_type": "markdown",
      "source": [
        "On va faire des expanding windows de 6 mois chaque fois"
      ],
      "metadata": {
        "id": "UpKalHStbYLt"
      }
    },
    {
      "cell_type": "code",
      "source": [
        "[\n",
        " df[(df[\"year\"]==2010) & (df[\"month\"]==2)].index[0], df[(df[\"year\"]==2010) & (df[\"month\"]==6)].index[-1], df[(df[\"year\"]==2010) & (df[\"month\"]==7)].index[0], df[(df[\"year\"]==2010) & (df[\"month\"]==12)].index[-1], \n",
        " \n",
        " df[(df[\"year\"]==2011) & (df[\"month\"]==1)].index[0], df[(df[\"year\"]==2011) & (df[\"month\"]==6)].index[-1], df[(df[\"year\"]==2011) & (df[\"month\"]==7)].index[0], df[(df[\"year\"]==2011) & (df[\"month\"]==12)].index[-1], \n",
        " \n",
        " df[(df[\"year\"]==2012) & (df[\"month\"]==1)].index[0], df[(df[\"year\"]==2012) & (df[\"month\"]==6)].index[-1], df[(df[\"year\"]==2012) & (df[\"month\"]==7)].index[0], df[(df[\"year\"]==2012) & (df[\"month\"]==10)].index[-1], \n",
        " \n",
        " ]"
      ],
      "metadata": {
        "colab": {
          "base_uri": "https://localhost:8080/"
        },
        "id": "ic7KPC9Qf2me",
        "outputId": "fe252e22-3ee7-4c7e-b0c7-c73734053633"
      },
      "execution_count": 55,
      "outputs": [
        {
          "output_type": "execute_result",
          "data": {
            "text/plain": [
              "[Timestamp('2010-02-05 00:00:00'),\n",
              " Timestamp('2010-06-25 00:00:00'),\n",
              " Timestamp('2010-07-02 00:00:00'),\n",
              " Timestamp('2010-12-31 00:00:00'),\n",
              " Timestamp('2011-01-07 00:00:00'),\n",
              " Timestamp('2011-06-24 00:00:00'),\n",
              " Timestamp('2011-07-01 00:00:00'),\n",
              " Timestamp('2011-12-30 00:00:00'),\n",
              " Timestamp('2012-01-06 00:00:00'),\n",
              " Timestamp('2012-06-29 00:00:00'),\n",
              " Timestamp('2012-07-06 00:00:00'),\n",
              " Timestamp('2012-10-26 00:00:00')]"
            ]
          },
          "metadata": {},
          "execution_count": 55
        }
      ]
    },
    {
      "cell_type": "code",
      "source": [
        "\n",
        "train_1 = df.loc['2010-02-05':'2010-12-31'] # 1 an (année 2010)\n",
        "test_1  = df.loc['2011-01-07':'2011-06-24'] # 6 mois (Janv à Juin 2011)\n",
        "\n",
        "train_2 = df.loc['2010-02-05':'2011-06-24'] # 1 an et 6 mois (Debut 2010 à Juin 2011)\n",
        "test_2  = df.loc['2011-07-01':'2011-12-30'] # 6 mois (Juillet à Décembre 2011)\n",
        "\n",
        "train_3 = df.loc['2010-02-05':'2011-12-30'] # 2 ans (Début 2010 à Fin 2011)\n",
        "test_3  = df.loc['2012-01-06':'2012-06-29'] # 6 mois (Janv à Juin 2012)\n",
        "\n",
        "train_4 = df.loc['2010-02-05':'2012-06-29'] # 2 ans et 6 mois (Début 2010 à Juin 2012)\n",
        "test_4  = df.loc['2012-07-06':'2012-10-26'] # 6 mois (Juillet 2012 à Déc 2012)"
      ],
      "metadata": {
        "id": "4lFrWhKDlwdo"
      },
      "execution_count": 56,
      "outputs": []
    },
    {
      "cell_type": "markdown",
      "source": [
        "#### 9 - 0 - Fn"
      ],
      "metadata": {
        "id": "Cuvsj04HHQmv"
      }
    },
    {
      "cell_type": "code",
      "source": [
        "def metrics_np(predictions_test, predictions_train):\n",
        "\n",
        "  metrics_dict = {\"Store\" : [], \"RMSE_train\" : [], \"RMSE_test\" : [], \"MAE_train\" : [], \n",
        "                                \"MAE_test\" : [],\"RMSE_PCT_train\": [], \"RMSE_PCT_test\": []}\n",
        "\n",
        "  for store in predictions_train[\"Store\"].unique():\n",
        "\n",
        "    m_test = predictions_test[predictions_test[\"Store\"]==store]\n",
        "    rmse = np.sqrt(mean_squared_error(m_test[\"Weekly_Sales\"], m_test[\"y_pred_test\"]))\n",
        "    mae = mean_absolute_error(m_test[\"Weekly_Sales\"], m_test[\"y_pred_test\"])\n",
        "    rmse_pct = 100 * np.sqrt(np.mean((m_test[\"Weekly_Sales\"] - m_test[\"y_pred_test\"]) ** 2))/np.mean(m_test[\"y_pred_test\"])\n",
        "\n",
        "    m_train = predictions_train[predictions_train[\"Store\"]==store]\n",
        "    rmse_train = np.sqrt(mean_squared_error(m_train[\"Weekly_Sales\"], m_train[\"y_pred_train\"]))\n",
        "    mae_train = mean_absolute_error(m_train[\"Weekly_Sales\"], m_train[\"y_pred_train\"])\n",
        "    rmse_pct_train = 100 * np.sqrt(np.mean((m_train[\"Weekly_Sales\"] - m_train[\"y_pred_train\"]) ** 2))/np.mean(m_train[\"y_pred_train\"])\n",
        "\n",
        "    metrics_dict[\"Store\"].append(store)\n",
        "\n",
        "    metrics_dict[\"RMSE_train\"].append(rmse_train)\n",
        "    metrics_dict[\"RMSE_test\"].append(rmse)\n",
        "\n",
        "    metrics_dict[\"MAE_train\"].append(mae_train) \n",
        "    metrics_dict[\"MAE_test\"].append(mae)\n",
        "\n",
        "    metrics_dict[\"RMSE_PCT_train\"].append(rmse_pct_train)\n",
        "    metrics_dict[\"RMSE_PCT_test\"].append(rmse_pct)\n",
        "\n",
        "  metrics = pd.DataFrame(metrics_dict)\n",
        "  \"\"\"  \n",
        "  print(\" -------> RMSE\")\n",
        "  print(\" <--> Train : \"+str(round(np.sqrt(mean_squared_error(predictions_train[\"Weekly_Sales\"], predictions_train['y_pred_train'])),2)))\n",
        "  print(\" <--> Test  : \"+str(round(np.sqrt(mean_squared_error(predictions_test[\"Weekly_Sales\"], predictions_test['y_pred_test'])),2)))\n",
        "  print(\"\\n\")\n",
        "  print(\" -------> MAE\")\n",
        "  print(\" <--> Train : \"+str(round(mean_absolute_error(predictions_train[\"Weekly_Sales\"], predictions_train['y_pred_train']),2)))\n",
        "  print(\" <--> Test  : \"+str(round(mean_absolute_error(predictions_test[\"Weekly_Sales\"], predictions_test['y_pred_test']),2)))\n",
        "  \"\"\"\n",
        "  return metrics\n"
      ],
      "metadata": {
        "id": "RIiYBliZDmH_"
      },
      "execution_count": 57,
      "outputs": []
    },
    {
      "cell_type": "code",
      "source": [
        "def exp_win(model, exp_window):\n",
        "\n",
        "  #print(\"--> Expanding window : \", exp_window, \"<--\")\n",
        "\n",
        "  importance_df = pd.DataFrame()\n",
        "  stores = df.Store.unique()\n",
        "  d_test = pd.DataFrame()\n",
        "  d_train = pd.DataFrame()\n",
        "  metrics = {}\n",
        "\n",
        "\n",
        "  t1 = time.time()\n",
        "  for store in stores:\n",
        "\n",
        "    df_ = df[df['Store']==store]\n",
        "\n",
        "    if exp_window == 1:\n",
        "      train = df_.loc['2010-02-05':'2010-12-31'] # 1 an\n",
        "      test  = df_.loc['2011-01-07':'2011-06-24'] # 6 mois\n",
        "    elif exp_window == 2:\n",
        "      train = df_.loc['2010-02-05':'2011-06-24'] # 1 an et 6 mois\n",
        "      test  = df_.loc['2011-07-01':'2011-12-30'] # 6 mois\n",
        "    elif exp_window == 3:\n",
        "      train = df_.loc['2010-02-05':'2011-12-30'] # 2 ans\n",
        "      test  = df_.loc['2012-01-06':'2012-06-29'] # 6 mois\n",
        "    elif exp_window == 4:\n",
        "      train = df_.loc['2010-02-05':'2012-06-29'] # 2 ans et 6 mois\n",
        "      test  = df_.loc['2012-07-06':'2012-10-26'] # 6 mois\n",
        "\n",
        "    #train = df_.loc[:'2011-12-30']\n",
        "    #train = df_.loc[:'2010-05-31']\n",
        "\n",
        "    scaler = MinMaxScaler()\n",
        "    X_train = train.drop(\"Weekly_Sales\", axis = 1)\n",
        "    X_train_ = scaler.fit_transform(X_train)\n",
        "    X_train = pd.DataFrame(X_train_, columns = X_train.columns)\n",
        "\n",
        "    y_train = train[\"Weekly_Sales\"]\n",
        "\n",
        "    # Validation Prediction\n",
        "    #test = df_.loc['2012-01-06':]\n",
        "    #test = df_.loc['2010-06-01':]\n",
        "\n",
        "    X_test = test.drop(\"Weekly_Sales\", axis = 1)\n",
        "    X_test_ = scaler.transform(X_test)\n",
        "    X_test = pd.DataFrame(X_test_, columns = X_test.columns)\n",
        "    y_test = test[\"Weekly_Sales\"]\n",
        "\n",
        "    X_test = X_test.set_index(y_test.index)\n",
        "    y_test = test[\"Weekly_Sales\"]\n",
        "\n",
        "      # Train and validate\n",
        "    model = model\n",
        "\n",
        "    # Fit model\n",
        "    model.fit(X_train, y_train)\n",
        "\n",
        "    test_pred = model.predict(X_test)\n",
        "    pred = pd.DataFrame(test_pred)\n",
        "    pred = pred.set_index(y_test.index)\n",
        "    predictions_test = pd.concat([y_test, pred], axis = 1)\n",
        "    predictions_test.columns = [\"Weekly_Sales\", \"y_pred_test\"]\n",
        "    predictions_test[\"Store\"] = store\n",
        "    #predictions_test[\"erreur_test\"] = predictions_test[\"Weekly_Sales\"] - predictions_test[\"y_pred_test\"]\n",
        "\n",
        "    test_pred_train = model.predict(X_train)\n",
        "    pred_train = pd.DataFrame(test_pred_train)\n",
        "    pred_train = pred_train.set_index(y_train.index)\n",
        "    predictions_train = pd.concat([y_train, pred_train], axis = 1)\n",
        "    predictions_train.columns = [\"Weekly_Sales\", \"y_pred_train\"]\n",
        "    predictions_train[\"Store\"] = store\n",
        "    #predictions_train[\"erreur_train\"] = predictions_train[\"Weekly_Sales\"] - predictions_train[\"y_pred_train\"]\n",
        "\n",
        "    d_test = pd.concat([d_test, predictions_test], axis = 0)\n",
        "    d_train = pd.concat([d_train, predictions_train], axis = 0)\n",
        "\n",
        "    #importance_df[\"features\"] = [ col for col in X_train.columns if col != \"Weekly_Sales\"]\n",
        "    #importance_df[\"importance_\"+str(store)] = model.feature_importances_\n",
        "  \n",
        "  #importance_df[\"importance\"] = np.mean(importance_df[[col for col in importance_df.columns if col!= \"features\"]], axis = 1)\n",
        "  #importance_df = importance_df[[\"features\", \"importance\"]]\n",
        "\n",
        "  t2 = time.time() - t1\n",
        "\n",
        "  #assert d_test.shape[0]  == df[df['year']== 2012].shape[0]\n",
        "  #assert d_train.shape[0] == df[df['year']== 2010].shape[0] + df[df['year']==2011].shape[0]\n",
        "\n",
        "  #print('Model is calculating the metrics !')\n",
        "  metrics = metrics_np(d_test, d_train)\n",
        "  t2 = time.time() - t1\n",
        "  #print(\"Succès !\")\n",
        "  #print(\"L'opération a duré \"+str(round(t2, 2))+\" sec\")\n",
        "  #print(\"\\n\")\n",
        "  \n",
        "  return t2, model, exp_window, d_test, d_train"
      ],
      "metadata": {
        "id": "XmvditIBlwUS"
      },
      "execution_count": 98,
      "outputs": []
    },
    {
      "cell_type": "code",
      "source": [
        "def expand_all_windows(model):\n",
        "  \n",
        "  a =  {\"RMSE\"    : [], \n",
        "     \"MAE\"        : [],\n",
        "     \"RMSE_PCT\"   : [],\n",
        "     \"WIND\"       : [],\n",
        "     \"MODEL\"      : [],\n",
        "     \"TEMPS(sec)\" : []}\n",
        "\n",
        "  t3 = time.time()\n",
        "  for i in range(1,5):\n",
        "    t2, model, exp_window, d_test, d_train = exp_win(model, i)\n",
        "    a[\"RMSE\"].append(round(np.sqrt(mean_squared_error(d_test[\"Weekly_Sales\"], d_test['y_pred_test'])),2))\n",
        "    a[\"MAE\"].append(round(mean_absolute_error(d_test[\"Weekly_Sales\"], d_test['y_pred_test']),2))\n",
        "    a[\"RMSE_PCT\"].append(round(100*np.sqrt(np.mean((d_test[\"Weekly_Sales\"] - d_test[\"y_pred_test\"]) ** 2))/np.mean(d_test[\"y_pred_test\"]),2))\n",
        "    a[\"WIND\"].append(exp_window)\n",
        "    a[\"MODEL\"].append(str(re.findall(r\"\\w+\", str(model))[0]))\n",
        "    a[\"TEMPS(sec)\"].append(round(t2,2))\n",
        "\n",
        "  data = pd.DataFrame(a)\n",
        "  t4 = time.time() - t3\n",
        "\n",
        "  print(\"Succès !\")\n",
        "\n",
        "  if t4 > 200:\n",
        "    print(\"L'opération a duré environ \"+str(int(t2/60))+\" min\")\n",
        "\n",
        "  else:\n",
        "\n",
        "    print(\"L'opération a duré \"+str(round(t4, 2))+\" sec\")\n",
        "\n",
        "  return data\n"
      ],
      "metadata": {
        "id": "vx_tzV9RAtVt"
      },
      "execution_count": 99,
      "outputs": []
    },
    {
      "cell_type": "markdown",
      "source": [
        "#### 9 - 1 - XGBRegressor"
      ],
      "metadata": {
        "id": "kb-HRh11CUnp"
      }
    },
    {
      "cell_type": "code",
      "source": [
        "xgb = expand_all_windows(XGBRegressor())"
      ],
      "metadata": {
        "id": "b847Wq1f6M41"
      },
      "execution_count": 60,
      "outputs": []
    },
    {
      "cell_type": "code",
      "source": [
        "xgb.head()"
      ],
      "metadata": {
        "colab": {
          "base_uri": "https://localhost:8080/",
          "height": 175
        },
        "id": "UkUfp6uSNKfp",
        "outputId": "27384a0e-581d-4bda-fdab-04ff0560e38a"
      },
      "execution_count": 61,
      "outputs": [
        {
          "output_type": "execute_result",
          "data": {
            "text/plain": [
              "       RMSE      MAE  RMSE_PCT  WIND         MODEL  TEMPS(sec)\n",
              "0  11668.40  3734.71     69.65     1  XGBRegressor       22.56\n",
              "1   6727.08  2742.29     40.18     2  XGBRegressor       31.39\n",
              "2   4316.40  2119.66     28.03     3  XGBRegressor       46.17\n",
              "3   3803.66  1895.20     23.98     4  XGBRegressor       57.13"
            ],
            "text/html": [
              "\n",
              "  <div id=\"df-be8a0f6e-8ee1-41d1-a698-c8a823e5b38b\">\n",
              "    <div class=\"colab-df-container\">\n",
              "      <div>\n",
              "<style scoped>\n",
              "    .dataframe tbody tr th:only-of-type {\n",
              "        vertical-align: middle;\n",
              "    }\n",
              "\n",
              "    .dataframe tbody tr th {\n",
              "        vertical-align: top;\n",
              "    }\n",
              "\n",
              "    .dataframe thead th {\n",
              "        text-align: right;\n",
              "    }\n",
              "</style>\n",
              "<table border=\"1\" class=\"dataframe\">\n",
              "  <thead>\n",
              "    <tr style=\"text-align: right;\">\n",
              "      <th></th>\n",
              "      <th>RMSE</th>\n",
              "      <th>MAE</th>\n",
              "      <th>RMSE_PCT</th>\n",
              "      <th>WIND</th>\n",
              "      <th>MODEL</th>\n",
              "      <th>TEMPS(sec)</th>\n",
              "    </tr>\n",
              "  </thead>\n",
              "  <tbody>\n",
              "    <tr>\n",
              "      <th>0</th>\n",
              "      <td>11668.40</td>\n",
              "      <td>3734.71</td>\n",
              "      <td>69.65</td>\n",
              "      <td>1</td>\n",
              "      <td>XGBRegressor</td>\n",
              "      <td>22.56</td>\n",
              "    </tr>\n",
              "    <tr>\n",
              "      <th>1</th>\n",
              "      <td>6727.08</td>\n",
              "      <td>2742.29</td>\n",
              "      <td>40.18</td>\n",
              "      <td>2</td>\n",
              "      <td>XGBRegressor</td>\n",
              "      <td>31.39</td>\n",
              "    </tr>\n",
              "    <tr>\n",
              "      <th>2</th>\n",
              "      <td>4316.40</td>\n",
              "      <td>2119.66</td>\n",
              "      <td>28.03</td>\n",
              "      <td>3</td>\n",
              "      <td>XGBRegressor</td>\n",
              "      <td>46.17</td>\n",
              "    </tr>\n",
              "    <tr>\n",
              "      <th>3</th>\n",
              "      <td>3803.66</td>\n",
              "      <td>1895.20</td>\n",
              "      <td>23.98</td>\n",
              "      <td>4</td>\n",
              "      <td>XGBRegressor</td>\n",
              "      <td>57.13</td>\n",
              "    </tr>\n",
              "  </tbody>\n",
              "</table>\n",
              "</div>\n",
              "      <button class=\"colab-df-convert\" onclick=\"convertToInteractive('df-be8a0f6e-8ee1-41d1-a698-c8a823e5b38b')\"\n",
              "              title=\"Convert this dataframe to an interactive table.\"\n",
              "              style=\"display:none;\">\n",
              "        \n",
              "  <svg xmlns=\"http://www.w3.org/2000/svg\" height=\"24px\"viewBox=\"0 0 24 24\"\n",
              "       width=\"24px\">\n",
              "    <path d=\"M0 0h24v24H0V0z\" fill=\"none\"/>\n",
              "    <path d=\"M18.56 5.44l.94 2.06.94-2.06 2.06-.94-2.06-.94-.94-2.06-.94 2.06-2.06.94zm-11 1L8.5 8.5l.94-2.06 2.06-.94-2.06-.94L8.5 2.5l-.94 2.06-2.06.94zm10 10l.94 2.06.94-2.06 2.06-.94-2.06-.94-.94-2.06-.94 2.06-2.06.94z\"/><path d=\"M17.41 7.96l-1.37-1.37c-.4-.4-.92-.59-1.43-.59-.52 0-1.04.2-1.43.59L10.3 9.45l-7.72 7.72c-.78.78-.78 2.05 0 2.83L4 21.41c.39.39.9.59 1.41.59.51 0 1.02-.2 1.41-.59l7.78-7.78 2.81-2.81c.8-.78.8-2.07 0-2.86zM5.41 20L4 18.59l7.72-7.72 1.47 1.35L5.41 20z\"/>\n",
              "  </svg>\n",
              "      </button>\n",
              "      \n",
              "  <style>\n",
              "    .colab-df-container {\n",
              "      display:flex;\n",
              "      flex-wrap:wrap;\n",
              "      gap: 12px;\n",
              "    }\n",
              "\n",
              "    .colab-df-convert {\n",
              "      background-color: #E8F0FE;\n",
              "      border: none;\n",
              "      border-radius: 50%;\n",
              "      cursor: pointer;\n",
              "      display: none;\n",
              "      fill: #1967D2;\n",
              "      height: 32px;\n",
              "      padding: 0 0 0 0;\n",
              "      width: 32px;\n",
              "    }\n",
              "\n",
              "    .colab-df-convert:hover {\n",
              "      background-color: #E2EBFA;\n",
              "      box-shadow: 0px 1px 2px rgba(60, 64, 67, 0.3), 0px 1px 3px 1px rgba(60, 64, 67, 0.15);\n",
              "      fill: #174EA6;\n",
              "    }\n",
              "\n",
              "    [theme=dark] .colab-df-convert {\n",
              "      background-color: #3B4455;\n",
              "      fill: #D2E3FC;\n",
              "    }\n",
              "\n",
              "    [theme=dark] .colab-df-convert:hover {\n",
              "      background-color: #434B5C;\n",
              "      box-shadow: 0px 1px 3px 1px rgba(0, 0, 0, 0.15);\n",
              "      filter: drop-shadow(0px 1px 2px rgba(0, 0, 0, 0.3));\n",
              "      fill: #FFFFFF;\n",
              "    }\n",
              "  </style>\n",
              "\n",
              "      <script>\n",
              "        const buttonEl =\n",
              "          document.querySelector('#df-be8a0f6e-8ee1-41d1-a698-c8a823e5b38b button.colab-df-convert');\n",
              "        buttonEl.style.display =\n",
              "          google.colab.kernel.accessAllowed ? 'block' : 'none';\n",
              "\n",
              "        async function convertToInteractive(key) {\n",
              "          const element = document.querySelector('#df-be8a0f6e-8ee1-41d1-a698-c8a823e5b38b');\n",
              "          const dataTable =\n",
              "            await google.colab.kernel.invokeFunction('convertToInteractive',\n",
              "                                                     [key], {});\n",
              "          if (!dataTable) return;\n",
              "\n",
              "          const docLinkHtml = 'Like what you see? Visit the ' +\n",
              "            '<a target=\"_blank\" href=https://colab.research.google.com/notebooks/data_table.ipynb>data table notebook</a>'\n",
              "            + ' to learn more about interactive tables.';\n",
              "          element.innerHTML = '';\n",
              "          dataTable['output_type'] = 'display_data';\n",
              "          await google.colab.output.renderOutput(dataTable, element);\n",
              "          const docLink = document.createElement('div');\n",
              "          docLink.innerHTML = docLinkHtml;\n",
              "          element.appendChild(docLink);\n",
              "        }\n",
              "      </script>\n",
              "    </div>\n",
              "  </div>\n",
              "  "
            ]
          },
          "metadata": {},
          "execution_count": 61
        }
      ]
    },
    {
      "cell_type": "markdown",
      "source": [
        "#### 9 - 2 - LGBMRegressor"
      ],
      "metadata": {
        "id": "0o-O-yJrsKaf"
      }
    },
    {
      "cell_type": "code",
      "source": [
        "lgbm = expand_all_windows(LGBMRegressor())"
      ],
      "metadata": {
        "id": "wysvKidJl9AO"
      },
      "execution_count": 63,
      "outputs": []
    },
    {
      "cell_type": "code",
      "source": [
        "lgbm.head()"
      ],
      "metadata": {
        "colab": {
          "base_uri": "https://localhost:8080/",
          "height": 175
        },
        "id": "qGOidanzNVI-",
        "outputId": "322d207b-af41-4e07-abc2-38c3316e4375"
      },
      "execution_count": 64,
      "outputs": [
        {
          "output_type": "execute_result",
          "data": {
            "text/plain": [
              "      RMSE      MAE  RMSE_PCT  WIND          MODEL  TEMPS(sec)\n",
              "0  9110.08  3993.27     54.54     1  LGBMRegressor       15.40\n",
              "1  6804.27  2483.83     40.81     2  LGBMRegressor       20.68\n",
              "2  3797.92  1872.66     24.55     3  LGBMRegressor       19.14\n",
              "3  3281.19  1647.47     20.77     4  LGBMRegressor       15.65"
            ],
            "text/html": [
              "\n",
              "  <div id=\"df-e79dc0da-16b9-46b1-939e-ef39553f4ec6\">\n",
              "    <div class=\"colab-df-container\">\n",
              "      <div>\n",
              "<style scoped>\n",
              "    .dataframe tbody tr th:only-of-type {\n",
              "        vertical-align: middle;\n",
              "    }\n",
              "\n",
              "    .dataframe tbody tr th {\n",
              "        vertical-align: top;\n",
              "    }\n",
              "\n",
              "    .dataframe thead th {\n",
              "        text-align: right;\n",
              "    }\n",
              "</style>\n",
              "<table border=\"1\" class=\"dataframe\">\n",
              "  <thead>\n",
              "    <tr style=\"text-align: right;\">\n",
              "      <th></th>\n",
              "      <th>RMSE</th>\n",
              "      <th>MAE</th>\n",
              "      <th>RMSE_PCT</th>\n",
              "      <th>WIND</th>\n",
              "      <th>MODEL</th>\n",
              "      <th>TEMPS(sec)</th>\n",
              "    </tr>\n",
              "  </thead>\n",
              "  <tbody>\n",
              "    <tr>\n",
              "      <th>0</th>\n",
              "      <td>9110.08</td>\n",
              "      <td>3993.27</td>\n",
              "      <td>54.54</td>\n",
              "      <td>1</td>\n",
              "      <td>LGBMRegressor</td>\n",
              "      <td>15.40</td>\n",
              "    </tr>\n",
              "    <tr>\n",
              "      <th>1</th>\n",
              "      <td>6804.27</td>\n",
              "      <td>2483.83</td>\n",
              "      <td>40.81</td>\n",
              "      <td>2</td>\n",
              "      <td>LGBMRegressor</td>\n",
              "      <td>20.68</td>\n",
              "    </tr>\n",
              "    <tr>\n",
              "      <th>2</th>\n",
              "      <td>3797.92</td>\n",
              "      <td>1872.66</td>\n",
              "      <td>24.55</td>\n",
              "      <td>3</td>\n",
              "      <td>LGBMRegressor</td>\n",
              "      <td>19.14</td>\n",
              "    </tr>\n",
              "    <tr>\n",
              "      <th>3</th>\n",
              "      <td>3281.19</td>\n",
              "      <td>1647.47</td>\n",
              "      <td>20.77</td>\n",
              "      <td>4</td>\n",
              "      <td>LGBMRegressor</td>\n",
              "      <td>15.65</td>\n",
              "    </tr>\n",
              "  </tbody>\n",
              "</table>\n",
              "</div>\n",
              "      <button class=\"colab-df-convert\" onclick=\"convertToInteractive('df-e79dc0da-16b9-46b1-939e-ef39553f4ec6')\"\n",
              "              title=\"Convert this dataframe to an interactive table.\"\n",
              "              style=\"display:none;\">\n",
              "        \n",
              "  <svg xmlns=\"http://www.w3.org/2000/svg\" height=\"24px\"viewBox=\"0 0 24 24\"\n",
              "       width=\"24px\">\n",
              "    <path d=\"M0 0h24v24H0V0z\" fill=\"none\"/>\n",
              "    <path d=\"M18.56 5.44l.94 2.06.94-2.06 2.06-.94-2.06-.94-.94-2.06-.94 2.06-2.06.94zm-11 1L8.5 8.5l.94-2.06 2.06-.94-2.06-.94L8.5 2.5l-.94 2.06-2.06.94zm10 10l.94 2.06.94-2.06 2.06-.94-2.06-.94-.94-2.06-.94 2.06-2.06.94z\"/><path d=\"M17.41 7.96l-1.37-1.37c-.4-.4-.92-.59-1.43-.59-.52 0-1.04.2-1.43.59L10.3 9.45l-7.72 7.72c-.78.78-.78 2.05 0 2.83L4 21.41c.39.39.9.59 1.41.59.51 0 1.02-.2 1.41-.59l7.78-7.78 2.81-2.81c.8-.78.8-2.07 0-2.86zM5.41 20L4 18.59l7.72-7.72 1.47 1.35L5.41 20z\"/>\n",
              "  </svg>\n",
              "      </button>\n",
              "      \n",
              "  <style>\n",
              "    .colab-df-container {\n",
              "      display:flex;\n",
              "      flex-wrap:wrap;\n",
              "      gap: 12px;\n",
              "    }\n",
              "\n",
              "    .colab-df-convert {\n",
              "      background-color: #E8F0FE;\n",
              "      border: none;\n",
              "      border-radius: 50%;\n",
              "      cursor: pointer;\n",
              "      display: none;\n",
              "      fill: #1967D2;\n",
              "      height: 32px;\n",
              "      padding: 0 0 0 0;\n",
              "      width: 32px;\n",
              "    }\n",
              "\n",
              "    .colab-df-convert:hover {\n",
              "      background-color: #E2EBFA;\n",
              "      box-shadow: 0px 1px 2px rgba(60, 64, 67, 0.3), 0px 1px 3px 1px rgba(60, 64, 67, 0.15);\n",
              "      fill: #174EA6;\n",
              "    }\n",
              "\n",
              "    [theme=dark] .colab-df-convert {\n",
              "      background-color: #3B4455;\n",
              "      fill: #D2E3FC;\n",
              "    }\n",
              "\n",
              "    [theme=dark] .colab-df-convert:hover {\n",
              "      background-color: #434B5C;\n",
              "      box-shadow: 0px 1px 3px 1px rgba(0, 0, 0, 0.15);\n",
              "      filter: drop-shadow(0px 1px 2px rgba(0, 0, 0, 0.3));\n",
              "      fill: #FFFFFF;\n",
              "    }\n",
              "  </style>\n",
              "\n",
              "      <script>\n",
              "        const buttonEl =\n",
              "          document.querySelector('#df-e79dc0da-16b9-46b1-939e-ef39553f4ec6 button.colab-df-convert');\n",
              "        buttonEl.style.display =\n",
              "          google.colab.kernel.accessAllowed ? 'block' : 'none';\n",
              "\n",
              "        async function convertToInteractive(key) {\n",
              "          const element = document.querySelector('#df-e79dc0da-16b9-46b1-939e-ef39553f4ec6');\n",
              "          const dataTable =\n",
              "            await google.colab.kernel.invokeFunction('convertToInteractive',\n",
              "                                                     [key], {});\n",
              "          if (!dataTable) return;\n",
              "\n",
              "          const docLinkHtml = 'Like what you see? Visit the ' +\n",
              "            '<a target=\"_blank\" href=https://colab.research.google.com/notebooks/data_table.ipynb>data table notebook</a>'\n",
              "            + ' to learn more about interactive tables.';\n",
              "          element.innerHTML = '';\n",
              "          dataTable['output_type'] = 'display_data';\n",
              "          await google.colab.output.renderOutput(dataTable, element);\n",
              "          const docLink = document.createElement('div');\n",
              "          docLink.innerHTML = docLinkHtml;\n",
              "          element.appendChild(docLink);\n",
              "        }\n",
              "      </script>\n",
              "    </div>\n",
              "  </div>\n",
              "  "
            ]
          },
          "metadata": {},
          "execution_count": 64
        }
      ]
    },
    {
      "cell_type": "markdown",
      "source": [
        "#### 9 - 3 - CatBoostRegressor"
      ],
      "metadata": {
        "id": "71EqJGaaCwGf"
      }
    },
    {
      "cell_type": "code",
      "source": [
        "ctb = expand_all_windows(CatBoostRegressor())"
      ],
      "metadata": {
        "id": "6zV1M8NGBxEt"
      },
      "execution_count": null,
      "outputs": []
    },
    {
      "cell_type": "code",
      "source": [
        "ctb.head()"
      ],
      "metadata": {
        "colab": {
          "base_uri": "https://localhost:8080/",
          "height": 175
        },
        "id": "0JBafUV62-LL",
        "outputId": "56346238-e446-4291-f8d3-92681eda0e59"
      },
      "execution_count": 79,
      "outputs": [
        {
          "output_type": "execute_result",
          "data": {
            "text/plain": [
              "      RMSE      MAE  RMSE_PCT  WIND     MODEL  TEMPS(sec)\n",
              "0  7730.61  3365.45     44.59     1  catboost      167.05\n",
              "1  5471.69  2242.74     33.21     2  catboost      248.83\n",
              "2  3476.74  1758.12     22.16     3  catboost      205.94\n",
              "3  2962.71  1526.08     18.80     4  catboost      239.97"
            ],
            "text/html": [
              "\n",
              "  <div id=\"df-7d4c27d4-0dbe-497f-bbcd-021b4b7df5b2\">\n",
              "    <div class=\"colab-df-container\">\n",
              "      <div>\n",
              "<style scoped>\n",
              "    .dataframe tbody tr th:only-of-type {\n",
              "        vertical-align: middle;\n",
              "    }\n",
              "\n",
              "    .dataframe tbody tr th {\n",
              "        vertical-align: top;\n",
              "    }\n",
              "\n",
              "    .dataframe thead th {\n",
              "        text-align: right;\n",
              "    }\n",
              "</style>\n",
              "<table border=\"1\" class=\"dataframe\">\n",
              "  <thead>\n",
              "    <tr style=\"text-align: right;\">\n",
              "      <th></th>\n",
              "      <th>RMSE</th>\n",
              "      <th>MAE</th>\n",
              "      <th>RMSE_PCT</th>\n",
              "      <th>WIND</th>\n",
              "      <th>MODEL</th>\n",
              "      <th>TEMPS(sec)</th>\n",
              "    </tr>\n",
              "  </thead>\n",
              "  <tbody>\n",
              "    <tr>\n",
              "      <th>0</th>\n",
              "      <td>7730.61</td>\n",
              "      <td>3365.45</td>\n",
              "      <td>44.59</td>\n",
              "      <td>1</td>\n",
              "      <td>catboost</td>\n",
              "      <td>167.05</td>\n",
              "    </tr>\n",
              "    <tr>\n",
              "      <th>1</th>\n",
              "      <td>5471.69</td>\n",
              "      <td>2242.74</td>\n",
              "      <td>33.21</td>\n",
              "      <td>2</td>\n",
              "      <td>catboost</td>\n",
              "      <td>248.83</td>\n",
              "    </tr>\n",
              "    <tr>\n",
              "      <th>2</th>\n",
              "      <td>3476.74</td>\n",
              "      <td>1758.12</td>\n",
              "      <td>22.16</td>\n",
              "      <td>3</td>\n",
              "      <td>catboost</td>\n",
              "      <td>205.94</td>\n",
              "    </tr>\n",
              "    <tr>\n",
              "      <th>3</th>\n",
              "      <td>2962.71</td>\n",
              "      <td>1526.08</td>\n",
              "      <td>18.80</td>\n",
              "      <td>4</td>\n",
              "      <td>catboost</td>\n",
              "      <td>239.97</td>\n",
              "    </tr>\n",
              "  </tbody>\n",
              "</table>\n",
              "</div>\n",
              "      <button class=\"colab-df-convert\" onclick=\"convertToInteractive('df-7d4c27d4-0dbe-497f-bbcd-021b4b7df5b2')\"\n",
              "              title=\"Convert this dataframe to an interactive table.\"\n",
              "              style=\"display:none;\">\n",
              "        \n",
              "  <svg xmlns=\"http://www.w3.org/2000/svg\" height=\"24px\"viewBox=\"0 0 24 24\"\n",
              "       width=\"24px\">\n",
              "    <path d=\"M0 0h24v24H0V0z\" fill=\"none\"/>\n",
              "    <path d=\"M18.56 5.44l.94 2.06.94-2.06 2.06-.94-2.06-.94-.94-2.06-.94 2.06-2.06.94zm-11 1L8.5 8.5l.94-2.06 2.06-.94-2.06-.94L8.5 2.5l-.94 2.06-2.06.94zm10 10l.94 2.06.94-2.06 2.06-.94-2.06-.94-.94-2.06-.94 2.06-2.06.94z\"/><path d=\"M17.41 7.96l-1.37-1.37c-.4-.4-.92-.59-1.43-.59-.52 0-1.04.2-1.43.59L10.3 9.45l-7.72 7.72c-.78.78-.78 2.05 0 2.83L4 21.41c.39.39.9.59 1.41.59.51 0 1.02-.2 1.41-.59l7.78-7.78 2.81-2.81c.8-.78.8-2.07 0-2.86zM5.41 20L4 18.59l7.72-7.72 1.47 1.35L5.41 20z\"/>\n",
              "  </svg>\n",
              "      </button>\n",
              "      \n",
              "  <style>\n",
              "    .colab-df-container {\n",
              "      display:flex;\n",
              "      flex-wrap:wrap;\n",
              "      gap: 12px;\n",
              "    }\n",
              "\n",
              "    .colab-df-convert {\n",
              "      background-color: #E8F0FE;\n",
              "      border: none;\n",
              "      border-radius: 50%;\n",
              "      cursor: pointer;\n",
              "      display: none;\n",
              "      fill: #1967D2;\n",
              "      height: 32px;\n",
              "      padding: 0 0 0 0;\n",
              "      width: 32px;\n",
              "    }\n",
              "\n",
              "    .colab-df-convert:hover {\n",
              "      background-color: #E2EBFA;\n",
              "      box-shadow: 0px 1px 2px rgba(60, 64, 67, 0.3), 0px 1px 3px 1px rgba(60, 64, 67, 0.15);\n",
              "      fill: #174EA6;\n",
              "    }\n",
              "\n",
              "    [theme=dark] .colab-df-convert {\n",
              "      background-color: #3B4455;\n",
              "      fill: #D2E3FC;\n",
              "    }\n",
              "\n",
              "    [theme=dark] .colab-df-convert:hover {\n",
              "      background-color: #434B5C;\n",
              "      box-shadow: 0px 1px 3px 1px rgba(0, 0, 0, 0.15);\n",
              "      filter: drop-shadow(0px 1px 2px rgba(0, 0, 0, 0.3));\n",
              "      fill: #FFFFFF;\n",
              "    }\n",
              "  </style>\n",
              "\n",
              "      <script>\n",
              "        const buttonEl =\n",
              "          document.querySelector('#df-7d4c27d4-0dbe-497f-bbcd-021b4b7df5b2 button.colab-df-convert');\n",
              "        buttonEl.style.display =\n",
              "          google.colab.kernel.accessAllowed ? 'block' : 'none';\n",
              "\n",
              "        async function convertToInteractive(key) {\n",
              "          const element = document.querySelector('#df-7d4c27d4-0dbe-497f-bbcd-021b4b7df5b2');\n",
              "          const dataTable =\n",
              "            await google.colab.kernel.invokeFunction('convertToInteractive',\n",
              "                                                     [key], {});\n",
              "          if (!dataTable) return;\n",
              "\n",
              "          const docLinkHtml = 'Like what you see? Visit the ' +\n",
              "            '<a target=\"_blank\" href=https://colab.research.google.com/notebooks/data_table.ipynb>data table notebook</a>'\n",
              "            + ' to learn more about interactive tables.';\n",
              "          element.innerHTML = '';\n",
              "          dataTable['output_type'] = 'display_data';\n",
              "          await google.colab.output.renderOutput(dataTable, element);\n",
              "          const docLink = document.createElement('div');\n",
              "          docLink.innerHTML = docLinkHtml;\n",
              "          element.appendChild(docLink);\n",
              "        }\n",
              "      </script>\n",
              "    </div>\n",
              "  </div>\n",
              "  "
            ]
          },
          "metadata": {},
          "execution_count": 79
        }
      ]
    },
    {
      "cell_type": "markdown",
      "source": [
        "#### 9 - 4 - RandomForestRegressor"
      ],
      "metadata": {
        "id": "HGmkxGEQu8Iz"
      }
    },
    {
      "cell_type": "code",
      "source": [
        "rf =  expand_all_windows(RandomForestRegressor())"
      ],
      "metadata": {
        "id": "R7S_gZbUvEKg"
      },
      "execution_count": 68,
      "outputs": []
    },
    {
      "cell_type": "code",
      "source": [
        "rf.head()"
      ],
      "metadata": {
        "colab": {
          "base_uri": "https://localhost:8080/",
          "height": 175
        },
        "id": "IGBjpRvpvGIC",
        "outputId": "61db334f-64fc-4c82-a460-4743979bd3f0"
      },
      "execution_count": 69,
      "outputs": [
        {
          "output_type": "execute_result",
          "data": {
            "text/plain": [
              "      RMSE      MAE  RMSE_PCT  WIND                  MODEL  TEMPS(sec)\n",
              "0  9016.45  3598.15     50.29     1  RandomForestRegressor      115.06\n",
              "1  5794.33  2269.52     35.04     2  RandomForestRegressor      215.27\n",
              "2  4150.30  1965.43     25.44     3  RandomForestRegressor      288.83\n",
              "3  3232.70  1566.25     20.26     4  RandomForestRegressor      376.02"
            ],
            "text/html": [
              "\n",
              "  <div id=\"df-b876ec6a-502e-48d9-8055-388ee447a911\">\n",
              "    <div class=\"colab-df-container\">\n",
              "      <div>\n",
              "<style scoped>\n",
              "    .dataframe tbody tr th:only-of-type {\n",
              "        vertical-align: middle;\n",
              "    }\n",
              "\n",
              "    .dataframe tbody tr th {\n",
              "        vertical-align: top;\n",
              "    }\n",
              "\n",
              "    .dataframe thead th {\n",
              "        text-align: right;\n",
              "    }\n",
              "</style>\n",
              "<table border=\"1\" class=\"dataframe\">\n",
              "  <thead>\n",
              "    <tr style=\"text-align: right;\">\n",
              "      <th></th>\n",
              "      <th>RMSE</th>\n",
              "      <th>MAE</th>\n",
              "      <th>RMSE_PCT</th>\n",
              "      <th>WIND</th>\n",
              "      <th>MODEL</th>\n",
              "      <th>TEMPS(sec)</th>\n",
              "    </tr>\n",
              "  </thead>\n",
              "  <tbody>\n",
              "    <tr>\n",
              "      <th>0</th>\n",
              "      <td>9016.45</td>\n",
              "      <td>3598.15</td>\n",
              "      <td>50.29</td>\n",
              "      <td>1</td>\n",
              "      <td>RandomForestRegressor</td>\n",
              "      <td>115.06</td>\n",
              "    </tr>\n",
              "    <tr>\n",
              "      <th>1</th>\n",
              "      <td>5794.33</td>\n",
              "      <td>2269.52</td>\n",
              "      <td>35.04</td>\n",
              "      <td>2</td>\n",
              "      <td>RandomForestRegressor</td>\n",
              "      <td>215.27</td>\n",
              "    </tr>\n",
              "    <tr>\n",
              "      <th>2</th>\n",
              "      <td>4150.30</td>\n",
              "      <td>1965.43</td>\n",
              "      <td>25.44</td>\n",
              "      <td>3</td>\n",
              "      <td>RandomForestRegressor</td>\n",
              "      <td>288.83</td>\n",
              "    </tr>\n",
              "    <tr>\n",
              "      <th>3</th>\n",
              "      <td>3232.70</td>\n",
              "      <td>1566.25</td>\n",
              "      <td>20.26</td>\n",
              "      <td>4</td>\n",
              "      <td>RandomForestRegressor</td>\n",
              "      <td>376.02</td>\n",
              "    </tr>\n",
              "  </tbody>\n",
              "</table>\n",
              "</div>\n",
              "      <button class=\"colab-df-convert\" onclick=\"convertToInteractive('df-b876ec6a-502e-48d9-8055-388ee447a911')\"\n",
              "              title=\"Convert this dataframe to an interactive table.\"\n",
              "              style=\"display:none;\">\n",
              "        \n",
              "  <svg xmlns=\"http://www.w3.org/2000/svg\" height=\"24px\"viewBox=\"0 0 24 24\"\n",
              "       width=\"24px\">\n",
              "    <path d=\"M0 0h24v24H0V0z\" fill=\"none\"/>\n",
              "    <path d=\"M18.56 5.44l.94 2.06.94-2.06 2.06-.94-2.06-.94-.94-2.06-.94 2.06-2.06.94zm-11 1L8.5 8.5l.94-2.06 2.06-.94-2.06-.94L8.5 2.5l-.94 2.06-2.06.94zm10 10l.94 2.06.94-2.06 2.06-.94-2.06-.94-.94-2.06-.94 2.06-2.06.94z\"/><path d=\"M17.41 7.96l-1.37-1.37c-.4-.4-.92-.59-1.43-.59-.52 0-1.04.2-1.43.59L10.3 9.45l-7.72 7.72c-.78.78-.78 2.05 0 2.83L4 21.41c.39.39.9.59 1.41.59.51 0 1.02-.2 1.41-.59l7.78-7.78 2.81-2.81c.8-.78.8-2.07 0-2.86zM5.41 20L4 18.59l7.72-7.72 1.47 1.35L5.41 20z\"/>\n",
              "  </svg>\n",
              "      </button>\n",
              "      \n",
              "  <style>\n",
              "    .colab-df-container {\n",
              "      display:flex;\n",
              "      flex-wrap:wrap;\n",
              "      gap: 12px;\n",
              "    }\n",
              "\n",
              "    .colab-df-convert {\n",
              "      background-color: #E8F0FE;\n",
              "      border: none;\n",
              "      border-radius: 50%;\n",
              "      cursor: pointer;\n",
              "      display: none;\n",
              "      fill: #1967D2;\n",
              "      height: 32px;\n",
              "      padding: 0 0 0 0;\n",
              "      width: 32px;\n",
              "    }\n",
              "\n",
              "    .colab-df-convert:hover {\n",
              "      background-color: #E2EBFA;\n",
              "      box-shadow: 0px 1px 2px rgba(60, 64, 67, 0.3), 0px 1px 3px 1px rgba(60, 64, 67, 0.15);\n",
              "      fill: #174EA6;\n",
              "    }\n",
              "\n",
              "    [theme=dark] .colab-df-convert {\n",
              "      background-color: #3B4455;\n",
              "      fill: #D2E3FC;\n",
              "    }\n",
              "\n",
              "    [theme=dark] .colab-df-convert:hover {\n",
              "      background-color: #434B5C;\n",
              "      box-shadow: 0px 1px 3px 1px rgba(0, 0, 0, 0.15);\n",
              "      filter: drop-shadow(0px 1px 2px rgba(0, 0, 0, 0.3));\n",
              "      fill: #FFFFFF;\n",
              "    }\n",
              "  </style>\n",
              "\n",
              "      <script>\n",
              "        const buttonEl =\n",
              "          document.querySelector('#df-b876ec6a-502e-48d9-8055-388ee447a911 button.colab-df-convert');\n",
              "        buttonEl.style.display =\n",
              "          google.colab.kernel.accessAllowed ? 'block' : 'none';\n",
              "\n",
              "        async function convertToInteractive(key) {\n",
              "          const element = document.querySelector('#df-b876ec6a-502e-48d9-8055-388ee447a911');\n",
              "          const dataTable =\n",
              "            await google.colab.kernel.invokeFunction('convertToInteractive',\n",
              "                                                     [key], {});\n",
              "          if (!dataTable) return;\n",
              "\n",
              "          const docLinkHtml = 'Like what you see? Visit the ' +\n",
              "            '<a target=\"_blank\" href=https://colab.research.google.com/notebooks/data_table.ipynb>data table notebook</a>'\n",
              "            + ' to learn more about interactive tables.';\n",
              "          element.innerHTML = '';\n",
              "          dataTable['output_type'] = 'display_data';\n",
              "          await google.colab.output.renderOutput(dataTable, element);\n",
              "          const docLink = document.createElement('div');\n",
              "          docLink.innerHTML = docLinkHtml;\n",
              "          element.appendChild(docLink);\n",
              "        }\n",
              "      </script>\n",
              "    </div>\n",
              "  </div>\n",
              "  "
            ]
          },
          "metadata": {},
          "execution_count": 69
        }
      ]
    },
    {
      "cell_type": "code",
      "source": [
        "lr =  expand_all_windows(LinearRegression()) "
      ],
      "metadata": {
        "colab": {
          "base_uri": "https://localhost:8080/"
        },
        "id": "nYKc4HZsEQhG",
        "outputId": "3c5445ce-21ea-440f-ec36-eb41559cfdac"
      },
      "execution_count": 100,
      "outputs": [
        {
          "output_type": "stream",
          "name": "stdout",
          "text": [
            "Succès !\n",
            "L'opération a duré 22.95 sec\n"
          ]
        }
      ]
    },
    {
      "cell_type": "code",
      "source": [
        "lr.head()"
      ],
      "metadata": {
        "colab": {
          "base_uri": "https://localhost:8080/",
          "height": 175
        },
        "id": "pyOm-OO4Emjh",
        "outputId": "9c3fa151-db7f-44fd-afb4-3613e371c8dd"
      },
      "execution_count": 101,
      "outputs": [
        {
          "output_type": "execute_result",
          "data": {
            "text/plain": [
              "       RMSE       MAE  RMSE_PCT  WIND             MODEL  TEMPS(sec)\n",
              "0  14932.04  11253.06     89.93     1  LinearRegression        4.58\n",
              "1   9790.55   4684.59     66.54     2  LinearRegression        6.93\n",
              "2   5439.45   3033.76     37.60     3  LinearRegression        5.73\n",
              "3   4526.12   2610.10     27.13     4  LinearRegression        5.65"
            ],
            "text/html": [
              "\n",
              "  <div id=\"df-9c330863-4b2c-4bf8-a0a3-afc8faf9f911\">\n",
              "    <div class=\"colab-df-container\">\n",
              "      <div>\n",
              "<style scoped>\n",
              "    .dataframe tbody tr th:only-of-type {\n",
              "        vertical-align: middle;\n",
              "    }\n",
              "\n",
              "    .dataframe tbody tr th {\n",
              "        vertical-align: top;\n",
              "    }\n",
              "\n",
              "    .dataframe thead th {\n",
              "        text-align: right;\n",
              "    }\n",
              "</style>\n",
              "<table border=\"1\" class=\"dataframe\">\n",
              "  <thead>\n",
              "    <tr style=\"text-align: right;\">\n",
              "      <th></th>\n",
              "      <th>RMSE</th>\n",
              "      <th>MAE</th>\n",
              "      <th>RMSE_PCT</th>\n",
              "      <th>WIND</th>\n",
              "      <th>MODEL</th>\n",
              "      <th>TEMPS(sec)</th>\n",
              "    </tr>\n",
              "  </thead>\n",
              "  <tbody>\n",
              "    <tr>\n",
              "      <th>0</th>\n",
              "      <td>14932.04</td>\n",
              "      <td>11253.06</td>\n",
              "      <td>89.93</td>\n",
              "      <td>1</td>\n",
              "      <td>LinearRegression</td>\n",
              "      <td>4.58</td>\n",
              "    </tr>\n",
              "    <tr>\n",
              "      <th>1</th>\n",
              "      <td>9790.55</td>\n",
              "      <td>4684.59</td>\n",
              "      <td>66.54</td>\n",
              "      <td>2</td>\n",
              "      <td>LinearRegression</td>\n",
              "      <td>6.93</td>\n",
              "    </tr>\n",
              "    <tr>\n",
              "      <th>2</th>\n",
              "      <td>5439.45</td>\n",
              "      <td>3033.76</td>\n",
              "      <td>37.60</td>\n",
              "      <td>3</td>\n",
              "      <td>LinearRegression</td>\n",
              "      <td>5.73</td>\n",
              "    </tr>\n",
              "    <tr>\n",
              "      <th>3</th>\n",
              "      <td>4526.12</td>\n",
              "      <td>2610.10</td>\n",
              "      <td>27.13</td>\n",
              "      <td>4</td>\n",
              "      <td>LinearRegression</td>\n",
              "      <td>5.65</td>\n",
              "    </tr>\n",
              "  </tbody>\n",
              "</table>\n",
              "</div>\n",
              "      <button class=\"colab-df-convert\" onclick=\"convertToInteractive('df-9c330863-4b2c-4bf8-a0a3-afc8faf9f911')\"\n",
              "              title=\"Convert this dataframe to an interactive table.\"\n",
              "              style=\"display:none;\">\n",
              "        \n",
              "  <svg xmlns=\"http://www.w3.org/2000/svg\" height=\"24px\"viewBox=\"0 0 24 24\"\n",
              "       width=\"24px\">\n",
              "    <path d=\"M0 0h24v24H0V0z\" fill=\"none\"/>\n",
              "    <path d=\"M18.56 5.44l.94 2.06.94-2.06 2.06-.94-2.06-.94-.94-2.06-.94 2.06-2.06.94zm-11 1L8.5 8.5l.94-2.06 2.06-.94-2.06-.94L8.5 2.5l-.94 2.06-2.06.94zm10 10l.94 2.06.94-2.06 2.06-.94-2.06-.94-.94-2.06-.94 2.06-2.06.94z\"/><path d=\"M17.41 7.96l-1.37-1.37c-.4-.4-.92-.59-1.43-.59-.52 0-1.04.2-1.43.59L10.3 9.45l-7.72 7.72c-.78.78-.78 2.05 0 2.83L4 21.41c.39.39.9.59 1.41.59.51 0 1.02-.2 1.41-.59l7.78-7.78 2.81-2.81c.8-.78.8-2.07 0-2.86zM5.41 20L4 18.59l7.72-7.72 1.47 1.35L5.41 20z\"/>\n",
              "  </svg>\n",
              "      </button>\n",
              "      \n",
              "  <style>\n",
              "    .colab-df-container {\n",
              "      display:flex;\n",
              "      flex-wrap:wrap;\n",
              "      gap: 12px;\n",
              "    }\n",
              "\n",
              "    .colab-df-convert {\n",
              "      background-color: #E8F0FE;\n",
              "      border: none;\n",
              "      border-radius: 50%;\n",
              "      cursor: pointer;\n",
              "      display: none;\n",
              "      fill: #1967D2;\n",
              "      height: 32px;\n",
              "      padding: 0 0 0 0;\n",
              "      width: 32px;\n",
              "    }\n",
              "\n",
              "    .colab-df-convert:hover {\n",
              "      background-color: #E2EBFA;\n",
              "      box-shadow: 0px 1px 2px rgba(60, 64, 67, 0.3), 0px 1px 3px 1px rgba(60, 64, 67, 0.15);\n",
              "      fill: #174EA6;\n",
              "    }\n",
              "\n",
              "    [theme=dark] .colab-df-convert {\n",
              "      background-color: #3B4455;\n",
              "      fill: #D2E3FC;\n",
              "    }\n",
              "\n",
              "    [theme=dark] .colab-df-convert:hover {\n",
              "      background-color: #434B5C;\n",
              "      box-shadow: 0px 1px 3px 1px rgba(0, 0, 0, 0.15);\n",
              "      filter: drop-shadow(0px 1px 2px rgba(0, 0, 0, 0.3));\n",
              "      fill: #FFFFFF;\n",
              "    }\n",
              "  </style>\n",
              "\n",
              "      <script>\n",
              "        const buttonEl =\n",
              "          document.querySelector('#df-9c330863-4b2c-4bf8-a0a3-afc8faf9f911 button.colab-df-convert');\n",
              "        buttonEl.style.display =\n",
              "          google.colab.kernel.accessAllowed ? 'block' : 'none';\n",
              "\n",
              "        async function convertToInteractive(key) {\n",
              "          const element = document.querySelector('#df-9c330863-4b2c-4bf8-a0a3-afc8faf9f911');\n",
              "          const dataTable =\n",
              "            await google.colab.kernel.invokeFunction('convertToInteractive',\n",
              "                                                     [key], {});\n",
              "          if (!dataTable) return;\n",
              "\n",
              "          const docLinkHtml = 'Like what you see? Visit the ' +\n",
              "            '<a target=\"_blank\" href=https://colab.research.google.com/notebooks/data_table.ipynb>data table notebook</a>'\n",
              "            + ' to learn more about interactive tables.';\n",
              "          element.innerHTML = '';\n",
              "          dataTable['output_type'] = 'display_data';\n",
              "          await google.colab.output.renderOutput(dataTable, element);\n",
              "          const docLink = document.createElement('div');\n",
              "          docLink.innerHTML = docLinkHtml;\n",
              "          element.appendChild(docLink);\n",
              "        }\n",
              "      </script>\n",
              "    </div>\n",
              "  </div>\n",
              "  "
            ]
          },
          "metadata": {},
          "execution_count": 101
        }
      ]
    },
    {
      "cell_type": "markdown",
      "source": [
        "# 10 - Discussion autour de la performance des modèles"
      ],
      "metadata": {
        "id": "L9aEv4hFKmZA"
      }
    },
    {
      "cell_type": "code",
      "source": [
        "performances = pd.concat([rf, xgb, lgbm, ctb, lr], axis = 0)"
      ],
      "metadata": {
        "id": "KHPA8lsdEhsc"
      },
      "execution_count": 102,
      "outputs": []
    },
    {
      "cell_type": "code",
      "source": [
        "perf_per_rmse = performances.sort_values(by = \"RMSE\", ascending = True)\n",
        "\n",
        "perf_per_rmse.head(20)"
      ],
      "metadata": {
        "colab": {
          "base_uri": "https://localhost:8080/",
          "height": 677
        },
        "id": "Up73HS50EhpU",
        "outputId": "202f40b6-1050-4135-b0d8-2f4b622d3356"
      },
      "execution_count": 103,
      "outputs": [
        {
          "output_type": "execute_result",
          "data": {
            "text/plain": [
              "       RMSE       MAE  RMSE_PCT  WIND                  MODEL  TEMPS(sec)\n",
              "3   2962.71   1526.08     18.80     4               catboost      239.97\n",
              "3   3232.70   1566.25     20.26     4  RandomForestRegressor      376.02\n",
              "3   3281.19   1647.47     20.77     4          LGBMRegressor       15.65\n",
              "2   3476.74   1758.12     22.16     3               catboost      205.94\n",
              "2   3797.92   1872.66     24.55     3          LGBMRegressor       19.14\n",
              "3   3803.66   1895.20     23.98     4           XGBRegressor       57.13\n",
              "2   4150.30   1965.43     25.44     3  RandomForestRegressor      288.83\n",
              "2   4316.40   2119.66     28.03     3           XGBRegressor       46.17\n",
              "3   4526.12   2610.10     27.13     4       LinearRegression        5.65\n",
              "2   5439.45   3033.76     37.60     3       LinearRegression        5.73\n",
              "1   5471.69   2242.74     33.21     2               catboost      248.83\n",
              "1   5794.33   2269.52     35.04     2  RandomForestRegressor      215.27\n",
              "1   6727.08   2742.29     40.18     2           XGBRegressor       31.39\n",
              "1   6804.27   2483.83     40.81     2          LGBMRegressor       20.68\n",
              "0   7730.61   3365.45     44.59     1               catboost      167.05\n",
              "0   9016.45   3598.15     50.29     1  RandomForestRegressor      115.06\n",
              "0   9110.08   3993.27     54.54     1          LGBMRegressor       15.40\n",
              "1   9790.55   4684.59     66.54     2       LinearRegression        6.93\n",
              "0  11668.40   3734.71     69.65     1           XGBRegressor       22.56\n",
              "0  14932.04  11253.06     89.93     1       LinearRegression        4.58"
            ],
            "text/html": [
              "\n",
              "  <div id=\"df-87225fb5-115d-40c6-8fc4-c82d4a9aeee8\">\n",
              "    <div class=\"colab-df-container\">\n",
              "      <div>\n",
              "<style scoped>\n",
              "    .dataframe tbody tr th:only-of-type {\n",
              "        vertical-align: middle;\n",
              "    }\n",
              "\n",
              "    .dataframe tbody tr th {\n",
              "        vertical-align: top;\n",
              "    }\n",
              "\n",
              "    .dataframe thead th {\n",
              "        text-align: right;\n",
              "    }\n",
              "</style>\n",
              "<table border=\"1\" class=\"dataframe\">\n",
              "  <thead>\n",
              "    <tr style=\"text-align: right;\">\n",
              "      <th></th>\n",
              "      <th>RMSE</th>\n",
              "      <th>MAE</th>\n",
              "      <th>RMSE_PCT</th>\n",
              "      <th>WIND</th>\n",
              "      <th>MODEL</th>\n",
              "      <th>TEMPS(sec)</th>\n",
              "    </tr>\n",
              "  </thead>\n",
              "  <tbody>\n",
              "    <tr>\n",
              "      <th>3</th>\n",
              "      <td>2962.71</td>\n",
              "      <td>1526.08</td>\n",
              "      <td>18.80</td>\n",
              "      <td>4</td>\n",
              "      <td>catboost</td>\n",
              "      <td>239.97</td>\n",
              "    </tr>\n",
              "    <tr>\n",
              "      <th>3</th>\n",
              "      <td>3232.70</td>\n",
              "      <td>1566.25</td>\n",
              "      <td>20.26</td>\n",
              "      <td>4</td>\n",
              "      <td>RandomForestRegressor</td>\n",
              "      <td>376.02</td>\n",
              "    </tr>\n",
              "    <tr>\n",
              "      <th>3</th>\n",
              "      <td>3281.19</td>\n",
              "      <td>1647.47</td>\n",
              "      <td>20.77</td>\n",
              "      <td>4</td>\n",
              "      <td>LGBMRegressor</td>\n",
              "      <td>15.65</td>\n",
              "    </tr>\n",
              "    <tr>\n",
              "      <th>2</th>\n",
              "      <td>3476.74</td>\n",
              "      <td>1758.12</td>\n",
              "      <td>22.16</td>\n",
              "      <td>3</td>\n",
              "      <td>catboost</td>\n",
              "      <td>205.94</td>\n",
              "    </tr>\n",
              "    <tr>\n",
              "      <th>2</th>\n",
              "      <td>3797.92</td>\n",
              "      <td>1872.66</td>\n",
              "      <td>24.55</td>\n",
              "      <td>3</td>\n",
              "      <td>LGBMRegressor</td>\n",
              "      <td>19.14</td>\n",
              "    </tr>\n",
              "    <tr>\n",
              "      <th>3</th>\n",
              "      <td>3803.66</td>\n",
              "      <td>1895.20</td>\n",
              "      <td>23.98</td>\n",
              "      <td>4</td>\n",
              "      <td>XGBRegressor</td>\n",
              "      <td>57.13</td>\n",
              "    </tr>\n",
              "    <tr>\n",
              "      <th>2</th>\n",
              "      <td>4150.30</td>\n",
              "      <td>1965.43</td>\n",
              "      <td>25.44</td>\n",
              "      <td>3</td>\n",
              "      <td>RandomForestRegressor</td>\n",
              "      <td>288.83</td>\n",
              "    </tr>\n",
              "    <tr>\n",
              "      <th>2</th>\n",
              "      <td>4316.40</td>\n",
              "      <td>2119.66</td>\n",
              "      <td>28.03</td>\n",
              "      <td>3</td>\n",
              "      <td>XGBRegressor</td>\n",
              "      <td>46.17</td>\n",
              "    </tr>\n",
              "    <tr>\n",
              "      <th>3</th>\n",
              "      <td>4526.12</td>\n",
              "      <td>2610.10</td>\n",
              "      <td>27.13</td>\n",
              "      <td>4</td>\n",
              "      <td>LinearRegression</td>\n",
              "      <td>5.65</td>\n",
              "    </tr>\n",
              "    <tr>\n",
              "      <th>2</th>\n",
              "      <td>5439.45</td>\n",
              "      <td>3033.76</td>\n",
              "      <td>37.60</td>\n",
              "      <td>3</td>\n",
              "      <td>LinearRegression</td>\n",
              "      <td>5.73</td>\n",
              "    </tr>\n",
              "    <tr>\n",
              "      <th>1</th>\n",
              "      <td>5471.69</td>\n",
              "      <td>2242.74</td>\n",
              "      <td>33.21</td>\n",
              "      <td>2</td>\n",
              "      <td>catboost</td>\n",
              "      <td>248.83</td>\n",
              "    </tr>\n",
              "    <tr>\n",
              "      <th>1</th>\n",
              "      <td>5794.33</td>\n",
              "      <td>2269.52</td>\n",
              "      <td>35.04</td>\n",
              "      <td>2</td>\n",
              "      <td>RandomForestRegressor</td>\n",
              "      <td>215.27</td>\n",
              "    </tr>\n",
              "    <tr>\n",
              "      <th>1</th>\n",
              "      <td>6727.08</td>\n",
              "      <td>2742.29</td>\n",
              "      <td>40.18</td>\n",
              "      <td>2</td>\n",
              "      <td>XGBRegressor</td>\n",
              "      <td>31.39</td>\n",
              "    </tr>\n",
              "    <tr>\n",
              "      <th>1</th>\n",
              "      <td>6804.27</td>\n",
              "      <td>2483.83</td>\n",
              "      <td>40.81</td>\n",
              "      <td>2</td>\n",
              "      <td>LGBMRegressor</td>\n",
              "      <td>20.68</td>\n",
              "    </tr>\n",
              "    <tr>\n",
              "      <th>0</th>\n",
              "      <td>7730.61</td>\n",
              "      <td>3365.45</td>\n",
              "      <td>44.59</td>\n",
              "      <td>1</td>\n",
              "      <td>catboost</td>\n",
              "      <td>167.05</td>\n",
              "    </tr>\n",
              "    <tr>\n",
              "      <th>0</th>\n",
              "      <td>9016.45</td>\n",
              "      <td>3598.15</td>\n",
              "      <td>50.29</td>\n",
              "      <td>1</td>\n",
              "      <td>RandomForestRegressor</td>\n",
              "      <td>115.06</td>\n",
              "    </tr>\n",
              "    <tr>\n",
              "      <th>0</th>\n",
              "      <td>9110.08</td>\n",
              "      <td>3993.27</td>\n",
              "      <td>54.54</td>\n",
              "      <td>1</td>\n",
              "      <td>LGBMRegressor</td>\n",
              "      <td>15.40</td>\n",
              "    </tr>\n",
              "    <tr>\n",
              "      <th>1</th>\n",
              "      <td>9790.55</td>\n",
              "      <td>4684.59</td>\n",
              "      <td>66.54</td>\n",
              "      <td>2</td>\n",
              "      <td>LinearRegression</td>\n",
              "      <td>6.93</td>\n",
              "    </tr>\n",
              "    <tr>\n",
              "      <th>0</th>\n",
              "      <td>11668.40</td>\n",
              "      <td>3734.71</td>\n",
              "      <td>69.65</td>\n",
              "      <td>1</td>\n",
              "      <td>XGBRegressor</td>\n",
              "      <td>22.56</td>\n",
              "    </tr>\n",
              "    <tr>\n",
              "      <th>0</th>\n",
              "      <td>14932.04</td>\n",
              "      <td>11253.06</td>\n",
              "      <td>89.93</td>\n",
              "      <td>1</td>\n",
              "      <td>LinearRegression</td>\n",
              "      <td>4.58</td>\n",
              "    </tr>\n",
              "  </tbody>\n",
              "</table>\n",
              "</div>\n",
              "      <button class=\"colab-df-convert\" onclick=\"convertToInteractive('df-87225fb5-115d-40c6-8fc4-c82d4a9aeee8')\"\n",
              "              title=\"Convert this dataframe to an interactive table.\"\n",
              "              style=\"display:none;\">\n",
              "        \n",
              "  <svg xmlns=\"http://www.w3.org/2000/svg\" height=\"24px\"viewBox=\"0 0 24 24\"\n",
              "       width=\"24px\">\n",
              "    <path d=\"M0 0h24v24H0V0z\" fill=\"none\"/>\n",
              "    <path d=\"M18.56 5.44l.94 2.06.94-2.06 2.06-.94-2.06-.94-.94-2.06-.94 2.06-2.06.94zm-11 1L8.5 8.5l.94-2.06 2.06-.94-2.06-.94L8.5 2.5l-.94 2.06-2.06.94zm10 10l.94 2.06.94-2.06 2.06-.94-2.06-.94-.94-2.06-.94 2.06-2.06.94z\"/><path d=\"M17.41 7.96l-1.37-1.37c-.4-.4-.92-.59-1.43-.59-.52 0-1.04.2-1.43.59L10.3 9.45l-7.72 7.72c-.78.78-.78 2.05 0 2.83L4 21.41c.39.39.9.59 1.41.59.51 0 1.02-.2 1.41-.59l7.78-7.78 2.81-2.81c.8-.78.8-2.07 0-2.86zM5.41 20L4 18.59l7.72-7.72 1.47 1.35L5.41 20z\"/>\n",
              "  </svg>\n",
              "      </button>\n",
              "      \n",
              "  <style>\n",
              "    .colab-df-container {\n",
              "      display:flex;\n",
              "      flex-wrap:wrap;\n",
              "      gap: 12px;\n",
              "    }\n",
              "\n",
              "    .colab-df-convert {\n",
              "      background-color: #E8F0FE;\n",
              "      border: none;\n",
              "      border-radius: 50%;\n",
              "      cursor: pointer;\n",
              "      display: none;\n",
              "      fill: #1967D2;\n",
              "      height: 32px;\n",
              "      padding: 0 0 0 0;\n",
              "      width: 32px;\n",
              "    }\n",
              "\n",
              "    .colab-df-convert:hover {\n",
              "      background-color: #E2EBFA;\n",
              "      box-shadow: 0px 1px 2px rgba(60, 64, 67, 0.3), 0px 1px 3px 1px rgba(60, 64, 67, 0.15);\n",
              "      fill: #174EA6;\n",
              "    }\n",
              "\n",
              "    [theme=dark] .colab-df-convert {\n",
              "      background-color: #3B4455;\n",
              "      fill: #D2E3FC;\n",
              "    }\n",
              "\n",
              "    [theme=dark] .colab-df-convert:hover {\n",
              "      background-color: #434B5C;\n",
              "      box-shadow: 0px 1px 3px 1px rgba(0, 0, 0, 0.15);\n",
              "      filter: drop-shadow(0px 1px 2px rgba(0, 0, 0, 0.3));\n",
              "      fill: #FFFFFF;\n",
              "    }\n",
              "  </style>\n",
              "\n",
              "      <script>\n",
              "        const buttonEl =\n",
              "          document.querySelector('#df-87225fb5-115d-40c6-8fc4-c82d4a9aeee8 button.colab-df-convert');\n",
              "        buttonEl.style.display =\n",
              "          google.colab.kernel.accessAllowed ? 'block' : 'none';\n",
              "\n",
              "        async function convertToInteractive(key) {\n",
              "          const element = document.querySelector('#df-87225fb5-115d-40c6-8fc4-c82d4a9aeee8');\n",
              "          const dataTable =\n",
              "            await google.colab.kernel.invokeFunction('convertToInteractive',\n",
              "                                                     [key], {});\n",
              "          if (!dataTable) return;\n",
              "\n",
              "          const docLinkHtml = 'Like what you see? Visit the ' +\n",
              "            '<a target=\"_blank\" href=https://colab.research.google.com/notebooks/data_table.ipynb>data table notebook</a>'\n",
              "            + ' to learn more about interactive tables.';\n",
              "          element.innerHTML = '';\n",
              "          dataTable['output_type'] = 'display_data';\n",
              "          await google.colab.output.renderOutput(dataTable, element);\n",
              "          const docLink = document.createElement('div');\n",
              "          docLink.innerHTML = docLinkHtml;\n",
              "          element.appendChild(docLink);\n",
              "        }\n",
              "      </script>\n",
              "    </div>\n",
              "  </div>\n",
              "  "
            ]
          },
          "metadata": {},
          "execution_count": 103
        }
      ]
    },
    {
      "cell_type": "code",
      "source": [
        "pprmse = perf_per_rmse.iloc[:3, :]"
      ],
      "metadata": {
        "id": "XIklUvdkHjKE"
      },
      "execution_count": 106,
      "outputs": []
    },
    {
      "cell_type": "code",
      "source": [
        "sns.barplot(x=pprmse[\"MODEL\"], y=pprmse[\"RMSE\"].values)\n",
        "plt.title(\"Classement par RMSE\")\n",
        "plt.show()\n",
        "print(\"\\n\")\n",
        "sns.barplot(x=pprmse[\"MODEL\"], y=pprmse[\"TEMPS(sec)\"].values)\n",
        "plt.title(\"Classement par TEMPS\")\n",
        "plt.show()"
      ],
      "metadata": {
        "colab": {
          "base_uri": "https://localhost:8080/",
          "height": 608
        },
        "id": "jZvTdi4FHUpZ",
        "outputId": "02e61a72-fd41-4291-8f0c-fdfcabffeb5b"
      },
      "execution_count": 111,
      "outputs": [
        {
          "output_type": "display_data",
          "data": {
            "text/plain": [
              "<Figure size 432x288 with 1 Axes>"
            ],
            "image/png": "[encoded data removed]"
          },
          "metadata": {
            "needs_background": "light"
          }
        },
        {
          "output_type": "stream",
          "name": "stdout",
          "text": [
            "\n",
            "\n"
          ]
        },
        {
          "output_type": "display_data",
          "data": {
            "text/plain": [
              "<Figure size 432x288 with 1 Axes>"
            ],
            "image/png": "[encoded data removed]"
          },
          "metadata": {
            "needs_background": "light"
          }
        }
      ]
    },
    {
      "cell_type": "code",
      "source": [
        "perf_per_mae = performances.sort_values(by = [\"MAE\"], ascending = True)\n",
        "\n",
        "perf_per_mae.head(20)"
      ],
      "metadata": {
        "colab": {
          "base_uri": "https://localhost:8080/",
          "height": 677
        },
        "id": "Xist_wgjEhk5",
        "outputId": "ff3eb5d7-e6d8-4adb-c089-657bc75e280f"
      },
      "execution_count": 104,
      "outputs": [
        {
          "output_type": "execute_result",
          "data": {
            "text/plain": [
              "       RMSE       MAE  RMSE_PCT  WIND                  MODEL  TEMPS(sec)\n",
              "3   2962.71   1526.08     18.80     4               catboost      239.97\n",
              "3   3232.70   1566.25     20.26     4  RandomForestRegressor      376.02\n",
              "3   3281.19   1647.47     20.77     4          LGBMRegressor       15.65\n",
              "2   3476.74   1758.12     22.16     3               catboost      205.94\n",
              "2   3797.92   1872.66     24.55     3          LGBMRegressor       19.14\n",
              "3   3803.66   1895.20     23.98     4           XGBRegressor       57.13\n",
              "2   4150.30   1965.43     25.44     3  RandomForestRegressor      288.83\n",
              "2   4316.40   2119.66     28.03     3           XGBRegressor       46.17\n",
              "1   5471.69   2242.74     33.21     2               catboost      248.83\n",
              "1   5794.33   2269.52     35.04     2  RandomForestRegressor      215.27\n",
              "1   6804.27   2483.83     40.81     2          LGBMRegressor       20.68\n",
              "3   4526.12   2610.10     27.13     4       LinearRegression        5.65\n",
              "1   6727.08   2742.29     40.18     2           XGBRegressor       31.39\n",
              "2   5439.45   3033.76     37.60     3       LinearRegression        5.73\n",
              "0   7730.61   3365.45     44.59     1               catboost      167.05\n",
              "0   9016.45   3598.15     50.29     1  RandomForestRegressor      115.06\n",
              "0  11668.40   3734.71     69.65     1           XGBRegressor       22.56\n",
              "0   9110.08   3993.27     54.54     1          LGBMRegressor       15.40\n",
              "1   9790.55   4684.59     66.54     2       LinearRegression        6.93\n",
              "0  14932.04  11253.06     89.93     1       LinearRegression        4.58"
            ],
            "text/html": [
              "\n",
              "  <div id=\"df-3eddf578-9229-4ed7-aa28-096b5a664c69\">\n",
              "    <div class=\"colab-df-container\">\n",
              "      <div>\n",
              "<style scoped>\n",
              "    .dataframe tbody tr th:only-of-type {\n",
              "        vertical-align: middle;\n",
              "    }\n",
              "\n",
              "    .dataframe tbody tr th {\n",
              "        vertical-align: top;\n",
              "    }\n",
              "\n",
              "    .dataframe thead th {\n",
              "        text-align: right;\n",
              "    }\n",
              "</style>\n",
              "<table border=\"1\" class=\"dataframe\">\n",
              "  <thead>\n",
              "    <tr style=\"text-align: right;\">\n",
              "      <th></th>\n",
              "      <th>RMSE</th>\n",
              "      <th>MAE</th>\n",
              "      <th>RMSE_PCT</th>\n",
              "      <th>WIND</th>\n",
              "      <th>MODEL</th>\n",
              "      <th>TEMPS(sec)</th>\n",
              "    </tr>\n",
              "  </thead>\n",
              "  <tbody>\n",
              "    <tr>\n",
              "      <th>3</th>\n",
              "      <td>2962.71</td>\n",
              "      <td>1526.08</td>\n",
              "      <td>18.80</td>\n",
              "      <td>4</td>\n",
              "      <td>catboost</td>\n",
              "      <td>239.97</td>\n",
              "    </tr>\n",
              "    <tr>\n",
              "      <th>3</th>\n",
              "      <td>3232.70</td>\n",
              "      <td>1566.25</td>\n",
              "      <td>20.26</td>\n",
              "      <td>4</td>\n",
              "      <td>RandomForestRegressor</td>\n",
              "      <td>376.02</td>\n",
              "    </tr>\n",
              "    <tr>\n",
              "      <th>3</th>\n",
              "      <td>3281.19</td>\n",
              "      <td>1647.47</td>\n",
              "      <td>20.77</td>\n",
              "      <td>4</td>\n",
              "      <td>LGBMRegressor</td>\n",
              "      <td>15.65</td>\n",
              "    </tr>\n",
              "    <tr>\n",
              "      <th>2</th>\n",
              "      <td>3476.74</td>\n",
              "      <td>1758.12</td>\n",
              "      <td>22.16</td>\n",
              "      <td>3</td>\n",
              "      <td>catboost</td>\n",
              "      <td>205.94</td>\n",
              "    </tr>\n",
              "    <tr>\n",
              "      <th>2</th>\n",
              "      <td>3797.92</td>\n",
              "      <td>1872.66</td>\n",
              "      <td>24.55</td>\n",
              "      <td>3</td>\n",
              "      <td>LGBMRegressor</td>\n",
              "      <td>19.14</td>\n",
              "    </tr>\n",
              "    <tr>\n",
              "      <th>3</th>\n",
              "      <td>3803.66</td>\n",
              "      <td>1895.20</td>\n",
              "      <td>23.98</td>\n",
              "      <td>4</td>\n",
              "      <td>XGBRegressor</td>\n",
              "      <td>57.13</td>\n",
              "    </tr>\n",
              "    <tr>\n",
              "      <th>2</th>\n",
              "      <td>4150.30</td>\n",
              "      <td>1965.43</td>\n",
              "      <td>25.44</td>\n",
              "      <td>3</td>\n",
              "      <td>RandomForestRegressor</td>\n",
              "      <td>288.83</td>\n",
              "    </tr>\n",
              "    <tr>\n",
              "      <th>2</th>\n",
              "      <td>4316.40</td>\n",
              "      <td>2119.66</td>\n",
              "      <td>28.03</td>\n",
              "      <td>3</td>\n",
              "      <td>XGBRegressor</td>\n",
              "      <td>46.17</td>\n",
              "    </tr>\n",
              "    <tr>\n",
              "      <th>1</th>\n",
              "      <td>5471.69</td>\n",
              "      <td>2242.74</td>\n",
              "      <td>33.21</td>\n",
              "      <td>2</td>\n",
              "      <td>catboost</td>\n",
              "      <td>248.83</td>\n",
              "    </tr>\n",
              "    <tr>\n",
              "      <th>1</th>\n",
              "      <td>5794.33</td>\n",
              "      <td>2269.52</td>\n",
              "      <td>35.04</td>\n",
              "      <td>2</td>\n",
              "      <td>RandomForestRegressor</td>\n",
              "      <td>215.27</td>\n",
              "    </tr>\n",
              "    <tr>\n",
              "      <th>1</th>\n",
              "      <td>6804.27</td>\n",
              "      <td>2483.83</td>\n",
              "      <td>40.81</td>\n",
              "      <td>2</td>\n",
              "      <td>LGBMRegressor</td>\n",
              "      <td>20.68</td>\n",
              "    </tr>\n",
              "    <tr>\n",
              "      <th>3</th>\n",
              "      <td>4526.12</td>\n",
              "      <td>2610.10</td>\n",
              "      <td>27.13</td>\n",
              "      <td>4</td>\n",
              "      <td>LinearRegression</td>\n",
              "      <td>5.65</td>\n",
              "    </tr>\n",
              "    <tr>\n",
              "      <th>1</th>\n",
              "      <td>6727.08</td>\n",
              "      <td>2742.29</td>\n",
              "      <td>40.18</td>\n",
              "      <td>2</td>\n",
              "      <td>XGBRegressor</td>\n",
              "      <td>31.39</td>\n",
              "    </tr>\n",
              "    <tr>\n",
              "      <th>2</th>\n",
              "      <td>5439.45</td>\n",
              "      <td>3033.76</td>\n",
              "      <td>37.60</td>\n",
              "      <td>3</td>\n",
              "      <td>LinearRegression</td>\n",
              "      <td>5.73</td>\n",
              "    </tr>\n",
              "    <tr>\n",
              "      <th>0</th>\n",
              "      <td>7730.61</td>\n",
              "      <td>3365.45</td>\n",
              "      <td>44.59</td>\n",
              "      <td>1</td>\n",
              "      <td>catboost</td>\n",
              "      <td>167.05</td>\n",
              "    </tr>\n",
              "    <tr>\n",
              "      <th>0</th>\n",
              "      <td>9016.45</td>\n",
              "      <td>3598.15</td>\n",
              "      <td>50.29</td>\n",
              "      <td>1</td>\n",
              "      <td>RandomForestRegressor</td>\n",
              "      <td>115.06</td>\n",
              "    </tr>\n",
              "    <tr>\n",
              "      <th>0</th>\n",
              "      <td>11668.40</td>\n",
              "      <td>3734.71</td>\n",
              "      <td>69.65</td>\n",
              "      <td>1</td>\n",
              "      <td>XGBRegressor</td>\n",
              "      <td>22.56</td>\n",
              "    </tr>\n",
              "    <tr>\n",
              "      <th>0</th>\n",
              "      <td>9110.08</td>\n",
              "      <td>3993.27</td>\n",
              "      <td>54.54</td>\n",
              "      <td>1</td>\n",
              "      <td>LGBMRegressor</td>\n",
              "      <td>15.40</td>\n",
              "    </tr>\n",
              "    <tr>\n",
              "      <th>1</th>\n",
              "      <td>9790.55</td>\n",
              "      <td>4684.59</td>\n",
              "      <td>66.54</td>\n",
              "      <td>2</td>\n",
              "      <td>LinearRegression</td>\n",
              "      <td>6.93</td>\n",
              "    </tr>\n",
              "    <tr>\n",
              "      <th>0</th>\n",
              "      <td>14932.04</td>\n",
              "      <td>11253.06</td>\n",
              "      <td>89.93</td>\n",
              "      <td>1</td>\n",
              "      <td>LinearRegression</td>\n",
              "      <td>4.58</td>\n",
              "    </tr>\n",
              "  </tbody>\n",
              "</table>\n",
              "</div>\n",
              "      <button class=\"colab-df-convert\" onclick=\"convertToInteractive('df-3eddf578-9229-4ed7-aa28-096b5a664c69')\"\n",
              "              title=\"Convert this dataframe to an interactive table.\"\n",
              "              style=\"display:none;\">\n",
              "        \n",
              "  <svg xmlns=\"http://www.w3.org/2000/svg\" height=\"24px\"viewBox=\"0 0 24 24\"\n",
              "       width=\"24px\">\n",
              "    <path d=\"M0 0h24v24H0V0z\" fill=\"none\"/>\n",
              "    <path d=\"M18.56 5.44l.94 2.06.94-2.06 2.06-.94-2.06-.94-.94-2.06-.94 2.06-2.06.94zm-11 1L8.5 8.5l.94-2.06 2.06-.94-2.06-.94L8.5 2.5l-.94 2.06-2.06.94zm10 10l.94 2.06.94-2.06 2.06-.94-2.06-.94-.94-2.06-.94 2.06-2.06.94z\"/><path d=\"M17.41 7.96l-1.37-1.37c-.4-.4-.92-.59-1.43-.59-.52 0-1.04.2-1.43.59L10.3 9.45l-7.72 7.72c-.78.78-.78 2.05 0 2.83L4 21.41c.39.39.9.59 1.41.59.51 0 1.02-.2 1.41-.59l7.78-7.78 2.81-2.81c.8-.78.8-2.07 0-2.86zM5.41 20L4 18.59l7.72-7.72 1.47 1.35L5.41 20z\"/>\n",
              "  </svg>\n",
              "      </button>\n",
              "      \n",
              "  <style>\n",
              "    .colab-df-container {\n",
              "      display:flex;\n",
              "      flex-wrap:wrap;\n",
              "      gap: 12px;\n",
              "    }\n",
              "\n",
              "    .colab-df-convert {\n",
              "      background-color: #E8F0FE;\n",
              "      border: none;\n",
              "      border-radius: 50%;\n",
              "      cursor: pointer;\n",
              "      display: none;\n",
              "      fill: #1967D2;\n",
              "      height: 32px;\n",
              "      padding: 0 0 0 0;\n",
              "      width: 32px;\n",
              "    }\n",
              "\n",
              "    .colab-df-convert:hover {\n",
              "      background-color: #E2EBFA;\n",
              "      box-shadow: 0px 1px 2px rgba(60, 64, 67, 0.3), 0px 1px 3px 1px rgba(60, 64, 67, 0.15);\n",
              "      fill: #174EA6;\n",
              "    }\n",
              "\n",
              "    [theme=dark] .colab-df-convert {\n",
              "      background-color: #3B4455;\n",
              "      fill: #D2E3FC;\n",
              "    }\n",
              "\n",
              "    [theme=dark] .colab-df-convert:hover {\n",
              "      background-color: #434B5C;\n",
              "      box-shadow: 0px 1px 3px 1px rgba(0, 0, 0, 0.15);\n",
              "      filter: drop-shadow(0px 1px 2px rgba(0, 0, 0, 0.3));\n",
              "      fill: #FFFFFF;\n",
              "    }\n",
              "  </style>\n",
              "\n",
              "      <script>\n",
              "        const buttonEl =\n",
              "          document.querySelector('#df-3eddf578-9229-4ed7-aa28-096b5a664c69 button.colab-df-convert');\n",
              "        buttonEl.style.display =\n",
              "          google.colab.kernel.accessAllowed ? 'block' : 'none';\n",
              "\n",
              "        async function convertToInteractive(key) {\n",
              "          const element = document.querySelector('#df-3eddf578-9229-4ed7-aa28-096b5a664c69');\n",
              "          const dataTable =\n",
              "            await google.colab.kernel.invokeFunction('convertToInteractive',\n",
              "                                                     [key], {});\n",
              "          if (!dataTable) return;\n",
              "\n",
              "          const docLinkHtml = 'Like what you see? Visit the ' +\n",
              "            '<a target=\"_blank\" href=https://colab.research.google.com/notebooks/data_table.ipynb>data table notebook</a>'\n",
              "            + ' to learn more about interactive tables.';\n",
              "          element.innerHTML = '';\n",
              "          dataTable['output_type'] = 'display_data';\n",
              "          await google.colab.output.renderOutput(dataTable, element);\n",
              "          const docLink = document.createElement('div');\n",
              "          docLink.innerHTML = docLinkHtml;\n",
              "          element.appendChild(docLink);\n",
              "        }\n",
              "      </script>\n",
              "    </div>\n",
              "  </div>\n",
              "  "
            ]
          },
          "metadata": {},
          "execution_count": 104
        }
      ]
    },
    {
      "cell_type": "markdown",
      "source": [
        "Les perfs dans le test, en prenant en compte MAE et RMSE ne changent pas l'ordre de qualité des modèles. Le meilleur modèle niveau performance est le catboost suivi du RandomForest et du Lgbm. Toutefois par soucis de ressources computationnelles, on va préférer le lgbm qui consomme moins de temps à fournir les estimations.\n",
        "\n",
        "La 2e remarque est que globalement, les pires performances des modèles sont lorsque ces derniers ont moins de données historiques (WIND = 1), et que généralement plus la taille du train set augmente plus les performances s'améliorent."
      ],
      "metadata": {
        "id": "oNxtQrcVE9Zf"
      }
    },
    {
      "cell_type": "markdown",
      "source": [
        "Et si on comparait avec notre Benchmark ?"
      ],
      "metadata": {
        "id": "nQh9hRX_EHyO"
      }
    },
    {
      "cell_type": "code",
      "source": [
        "ppbench = perfs.iloc[1:, :].sort_values(by = [\"RMSE\"], ascending = True)\n",
        "\n",
        "ppbench = ppbench.reset_index()\n",
        "\n",
        "ppbench.columns = ['MODEL', 'RMSE', 'MAE', 'RMSE_PCT', 'TEMPS(sec)']\n",
        "\n",
        "ppbench"
      ],
      "metadata": {
        "colab": {
          "base_uri": "https://localhost:8080/",
          "height": 175
        },
        "id": "JPLqXaxL9dot",
        "outputId": "9aa36f47-c64d-4341-b8aa-a32fcd9c6073"
      },
      "execution_count": 117,
      "outputs": [
        {
          "output_type": "execute_result",
          "data": {
            "text/plain": [
              "                   MODEL     RMSE      MAE  RMSE_PCT  TEMPS(sec)\n",
              "0               catboost  3426.70  1732.89     21.76  262.286309\n",
              "1  RandomForestRegressor  4091.67  1944.68     25.02  286.319805\n",
              "2           XGBRegressor  4214.06  2084.48     27.18   53.602582\n",
              "3          LGBMRegressor  5340.49  2586.75     33.96   15.458557"
            ],
            "text/html": [
              "\n",
              "  <div id=\"df-25bff8b5-a60d-4566-9310-0157cb2f54f0\">\n",
              "    <div class=\"colab-df-container\">\n",
              "      <div>\n",
              "<style scoped>\n",
              "    .dataframe tbody tr th:only-of-type {\n",
              "        vertical-align: middle;\n",
              "    }\n",
              "\n",
              "    .dataframe tbody tr th {\n",
              "        vertical-align: top;\n",
              "    }\n",
              "\n",
              "    .dataframe thead th {\n",
              "        text-align: right;\n",
              "    }\n",
              "</style>\n",
              "<table border=\"1\" class=\"dataframe\">\n",
              "  <thead>\n",
              "    <tr style=\"text-align: right;\">\n",
              "      <th></th>\n",
              "      <th>MODEL</th>\n",
              "      <th>RMSE</th>\n",
              "      <th>MAE</th>\n",
              "      <th>RMSE_PCT</th>\n",
              "      <th>TEMPS(sec)</th>\n",
              "    </tr>\n",
              "  </thead>\n",
              "  <tbody>\n",
              "    <tr>\n",
              "      <th>0</th>\n",
              "      <td>catboost</td>\n",
              "      <td>3426.70</td>\n",
              "      <td>1732.89</td>\n",
              "      <td>21.76</td>\n",
              "      <td>262.286309</td>\n",
              "    </tr>\n",
              "    <tr>\n",
              "      <th>1</th>\n",
              "      <td>RandomForestRegressor</td>\n",
              "      <td>4091.67</td>\n",
              "      <td>1944.68</td>\n",
              "      <td>25.02</td>\n",
              "      <td>286.319805</td>\n",
              "    </tr>\n",
              "    <tr>\n",
              "      <th>2</th>\n",
              "      <td>XGBRegressor</td>\n",
              "      <td>4214.06</td>\n",
              "      <td>2084.48</td>\n",
              "      <td>27.18</td>\n",
              "      <td>53.602582</td>\n",
              "    </tr>\n",
              "    <tr>\n",
              "      <th>3</th>\n",
              "      <td>LGBMRegressor</td>\n",
              "      <td>5340.49</td>\n",
              "      <td>2586.75</td>\n",
              "      <td>33.96</td>\n",
              "      <td>15.458557</td>\n",
              "    </tr>\n",
              "  </tbody>\n",
              "</table>\n",
              "</div>\n",
              "      <button class=\"colab-df-convert\" onclick=\"convertToInteractive('df-25bff8b5-a60d-4566-9310-0157cb2f54f0')\"\n",
              "              title=\"Convert this dataframe to an interactive table.\"\n",
              "              style=\"display:none;\">\n",
              "        \n",
              "  <svg xmlns=\"http://www.w3.org/2000/svg\" height=\"24px\"viewBox=\"0 0 24 24\"\n",
              "       width=\"24px\">\n",
              "    <path d=\"M0 0h24v24H0V0z\" fill=\"none\"/>\n",
              "    <path d=\"M18.56 5.44l.94 2.06.94-2.06 2.06-.94-2.06-.94-.94-2.06-.94 2.06-2.06.94zm-11 1L8.5 8.5l.94-2.06 2.06-.94-2.06-.94L8.5 2.5l-.94 2.06-2.06.94zm10 10l.94 2.06.94-2.06 2.06-.94-2.06-.94-.94-2.06-.94 2.06-2.06.94z\"/><path d=\"M17.41 7.96l-1.37-1.37c-.4-.4-.92-.59-1.43-.59-.52 0-1.04.2-1.43.59L10.3 9.45l-7.72 7.72c-.78.78-.78 2.05 0 2.83L4 21.41c.39.39.9.59 1.41.59.51 0 1.02-.2 1.41-.59l7.78-7.78 2.81-2.81c.8-.78.8-2.07 0-2.86zM5.41 20L4 18.59l7.72-7.72 1.47 1.35L5.41 20z\"/>\n",
              "  </svg>\n",
              "      </button>\n",
              "      \n",
              "  <style>\n",
              "    .colab-df-container {\n",
              "      display:flex;\n",
              "      flex-wrap:wrap;\n",
              "      gap: 12px;\n",
              "    }\n",
              "\n",
              "    .colab-df-convert {\n",
              "      background-color: #E8F0FE;\n",
              "      border: none;\n",
              "      border-radius: 50%;\n",
              "      cursor: pointer;\n",
              "      display: none;\n",
              "      fill: #1967D2;\n",
              "      height: 32px;\n",
              "      padding: 0 0 0 0;\n",
              "      width: 32px;\n",
              "    }\n",
              "\n",
              "    .colab-df-convert:hover {\n",
              "      background-color: #E2EBFA;\n",
              "      box-shadow: 0px 1px 2px rgba(60, 64, 67, 0.3), 0px 1px 3px 1px rgba(60, 64, 67, 0.15);\n",
              "      fill: #174EA6;\n",
              "    }\n",
              "\n",
              "    [theme=dark] .colab-df-convert {\n",
              "      background-color: #3B4455;\n",
              "      fill: #D2E3FC;\n",
              "    }\n",
              "\n",
              "    [theme=dark] .colab-df-convert:hover {\n",
              "      background-color: #434B5C;\n",
              "      box-shadow: 0px 1px 3px 1px rgba(0, 0, 0, 0.15);\n",
              "      filter: drop-shadow(0px 1px 2px rgba(0, 0, 0, 0.3));\n",
              "      fill: #FFFFFF;\n",
              "    }\n",
              "  </style>\n",
              "\n",
              "      <script>\n",
              "        const buttonEl =\n",
              "          document.querySelector('#df-25bff8b5-a60d-4566-9310-0157cb2f54f0 button.colab-df-convert');\n",
              "        buttonEl.style.display =\n",
              "          google.colab.kernel.accessAllowed ? 'block' : 'none';\n",
              "\n",
              "        async function convertToInteractive(key) {\n",
              "          const element = document.querySelector('#df-25bff8b5-a60d-4566-9310-0157cb2f54f0');\n",
              "          const dataTable =\n",
              "            await google.colab.kernel.invokeFunction('convertToInteractive',\n",
              "                                                     [key], {});\n",
              "          if (!dataTable) return;\n",
              "\n",
              "          const docLinkHtml = 'Like what you see? Visit the ' +\n",
              "            '<a target=\"_blank\" href=https://colab.research.google.com/notebooks/data_table.ipynb>data table notebook</a>'\n",
              "            + ' to learn more about interactive tables.';\n",
              "          element.innerHTML = '';\n",
              "          dataTable['output_type'] = 'display_data';\n",
              "          await google.colab.output.renderOutput(dataTable, element);\n",
              "          const docLink = document.createElement('div');\n",
              "          docLink.innerHTML = docLinkHtml;\n",
              "          element.appendChild(docLink);\n",
              "        }\n",
              "      </script>\n",
              "    </div>\n",
              "  </div>\n",
              "  "
            ]
          },
          "metadata": {},
          "execution_count": 117
        }
      ]
    },
    {
      "cell_type": "code",
      "source": [
        "plt.figure(figsize=(8, 5))\n",
        "sns.barplot(x=ppbench[\"MODEL\"], y=ppbench[\"RMSE\"].values)\n",
        "plt.title(\"Classement par RMSE\")\n",
        "plt.show()"
      ],
      "metadata": {
        "colab": {
          "base_uri": "https://localhost:8080/",
          "height": 350
        },
        "id": "hPtzKXjzI1dP",
        "outputId": "2057210d-0788-4fea-e990-160cf1a7ad0f"
      },
      "execution_count": 123,
      "outputs": [
        {
          "output_type": "display_data",
          "data": {
            "text/plain": [
              "<Figure size 576x360 with 1 Axes>"
            ],
            "image/png": "[encoded data removed]"
          },
          "metadata": {
            "needs_background": "light"
          }
        }
      ]
    },
    {
      "cell_type": "markdown",
      "source": [
        "On fait nettement mieux que le Benchmark, les RMSE y sont plus élevées.\n",
        "\n",
        "\n",
        "Maintenant on va prendre notre meilleur modèle (Lgbm) et essayer de trouver les meilleurs hyperparamètres sur la période WIND = 4"
      ],
      "metadata": {
        "id": "PB99vN4rKP9D"
      }
    },
    {
      "cell_type": "markdown",
      "source": [
        "#### 10 - 1 - Recherche des Hyperparamètres"
      ],
      "metadata": {
        "id": "jYq7h_ZmM0ow"
      }
    },
    {
      "cell_type": "code",
      "source": [
        ""
      ],
      "metadata": {
        "id": "EMjQw9gHKNgy"
      },
      "execution_count": null,
      "outputs": []
    },
    {
      "cell_type": "markdown",
      "source": [
        "#### 9 - 5 - Méthodes classiques"
      ],
      "metadata": {
        "id": "ip2sTT3p0BFk"
      }
    },
    {
      "cell_type": "code",
      "source": [
        ""
      ],
      "metadata": {
        "id": "MaXdDWqCz-IH"
      },
      "execution_count": null,
      "outputs": []
    },
    {
      "cell_type": "markdown",
      "source": [
        "# 10 - Discussion autour de la performance des modèles"
      ],
      "metadata": {
        "id": "x7JKcRWp8KEJ"
      }
    },
    {
      "cell_type": "code",
      "source": [
        ""
      ],
      "metadata": {
        "id": "eCNrcwn_1W-z"
      },
      "execution_count": 71,
      "outputs": []
    },
    {
      "cell_type": "code",
      "source": [
        ""
      ],
      "metadata": {
        "id": "y9_IZ3ZK1W8d"
      },
      "execution_count": 71,
      "outputs": []
    },
    {
      "cell_type": "markdown",
      "source": [
        "# 10 - Synthèse et conclusions, pistes d’améliorations envisagées"
      ],
      "metadata": {
        "id": "oOrQFcU-8M_Z"
      }
    },
    {
      "cell_type": "code",
      "source": [
        ""
      ],
      "metadata": {
        "id": "lXwHZia88cI8"
      },
      "execution_count": 71,
      "outputs": []
    }
  ]
}